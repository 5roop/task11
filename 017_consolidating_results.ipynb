{
 "cells": [
  {
   "cell_type": "code",
   "execution_count": 3,
   "metadata": {},
   "outputs": [
    {
     "name": "stdout",
     "output_type": "stream",
     "text": [
      "[PosixPath('/home/peterr/macocu/task11/010_results.jsonl'), PosixPath('/home/peterr/macocu/task11/011_results.jsonl'), PosixPath('/home/peterr/macocu/task11/013_results_english.jsonl'), PosixPath('/home/peterr/macocu/task11/008_results.jsonl'), PosixPath('/home/peterr/macocu/task11/012_results_nonslavic.jsonl'), PosixPath('/home/peterr/macocu/task11/012_results.jsonl'), PosixPath('/home/peterr/macocu/task11/013_results_slavic_asr.jsonl')]\n"
     ]
    }
   ],
   "source": [
    "import pandas as pd\n",
    "import matplotlib.pyplot as plt\n",
    "import seaborn as sns\n",
    "plt.style.use(['science', 'no-latex'])\n",
    "\n",
    "from pathlib import Path\n",
    "\n",
    "p = Path(\".\")\n",
    "files = list(p.resolve().rglob(\"0*.jsonl\"))\n",
    "print(files)\n",
    "df = pd.concat([pd.read_json(f, orient=\"records\", lines=True) for f in files], ignore_index=True)\n",
    "\n",
    "from sklearn.metrics import accuracy_score, f1_score\n",
    "\n",
    "df[\"accuracy\"] = df.apply(\n",
    "    lambda row: accuracy_score(row[\"y_true\"], row[\"y_pred\"]), axis=1\n",
    ")\n",
    "df[\"macroF1\"] = df.apply(\n",
    "    lambda row: f1_score(row[\"y_true\"], row[\"y_pred\"], average=\"macro\"), axis=1\n",
    ")\n",
    "\n",
    "def assign_model(row):\n",
    "    try:\n",
    "        return row[\"train_config\"][\"model_name_or_path\"]\n",
    "    except:\n",
    "        return \"/\".join(row[\"model_name_or_path\"].split(\"/\")[-2].split(\"_\")[0:2])\n",
    "\n",
    "df[\"model\"] = df.apply(assign_model, axis=1)"
   ]
  },
  {
   "cell_type": "code",
   "execution_count": 4,
   "metadata": {},
   "outputs": [
    {
     "data": {
      "text/plain": [
       "(95, 10)"
      ]
     },
     "execution_count": 4,
     "metadata": {},
     "output_type": "execute_result"
    }
   ],
   "source": [
    "df.shape"
   ]
  },
  {
   "cell_type": "code",
   "execution_count": 5,
   "metadata": {},
   "outputs": [
    {
     "data": {
      "text/html": [
       "<div>\n",
       "<style scoped>\n",
       "    .dataframe tbody tr th:only-of-type {\n",
       "        vertical-align: middle;\n",
       "    }\n",
       "\n",
       "    .dataframe tbody tr th {\n",
       "        vertical-align: top;\n",
       "    }\n",
       "\n",
       "    .dataframe thead th {\n",
       "        text-align: right;\n",
       "    }\n",
       "</style>\n",
       "<table border=\"1\" class=\"dataframe\">\n",
       "  <thead>\n",
       "    <tr style=\"text-align: right;\">\n",
       "      <th></th>\n",
       "      <th>output_column</th>\n",
       "      <th>model_name_or_path</th>\n",
       "      <th>eval_file</th>\n",
       "      <th>clip_seconds</th>\n",
       "      <th>y_true</th>\n",
       "      <th>y_pred</th>\n",
       "      <th>train_config</th>\n",
       "      <th>accuracy</th>\n",
       "      <th>macroF1</th>\n",
       "      <th>model</th>\n",
       "    </tr>\n",
       "  </thead>\n",
       "  <tbody>\n",
       "    <tr>\n",
       "      <th>0</th>\n",
       "      <td>Speaker_gender</td>\n",
       "      <td>models/facebook_wav2vec2-large-960h-lv60-self_...</td>\n",
       "      <td>001_gender_dev.csv</td>\n",
       "      <td>-1</td>\n",
       "      <td>[F, F, F, F, F, F, F, F, F, F, F, F, F, F, F, ...</td>\n",
       "      <td>[F, F, F, F, F, F, F, F, F, F, F, F, F, F, F, ...</td>\n",
       "      <td>NaN</td>\n",
       "      <td>1.000</td>\n",
       "      <td>1.000</td>\n",
       "      <td>facebook/wav2vec2-large-960h-lv60-self</td>\n",
       "    </tr>\n",
       "    <tr>\n",
       "      <th>1</th>\n",
       "      <td>Speaker_gender</td>\n",
       "      <td>models/facebook_wav2vec2-large-960h-lv60-self_...</td>\n",
       "      <td>001_gender_test.csv</td>\n",
       "      <td>-1</td>\n",
       "      <td>[F, F, F, F, F, F, F, F, F, F, F, F, F, F, F, ...</td>\n",
       "      <td>[F, F, F, F, F, F, F, F, F, F, F, F, F, F, F, ...</td>\n",
       "      <td>NaN</td>\n",
       "      <td>0.999</td>\n",
       "      <td>0.999</td>\n",
       "      <td>facebook/wav2vec2-large-960h-lv60-self</td>\n",
       "    </tr>\n",
       "  </tbody>\n",
       "</table>\n",
       "</div>"
      ],
      "text/plain": [
       "    output_column                                 model_name_or_path  \\\n",
       "0  Speaker_gender  models/facebook_wav2vec2-large-960h-lv60-self_...   \n",
       "1  Speaker_gender  models/facebook_wav2vec2-large-960h-lv60-self_...   \n",
       "\n",
       "             eval_file  clip_seconds  \\\n",
       "0   001_gender_dev.csv            -1   \n",
       "1  001_gender_test.csv            -1   \n",
       "\n",
       "                                              y_true  \\\n",
       "0  [F, F, F, F, F, F, F, F, F, F, F, F, F, F, F, ...   \n",
       "1  [F, F, F, F, F, F, F, F, F, F, F, F, F, F, F, ...   \n",
       "\n",
       "                                              y_pred train_config  accuracy  \\\n",
       "0  [F, F, F, F, F, F, F, F, F, F, F, F, F, F, F, ...          NaN     1.000   \n",
       "1  [F, F, F, F, F, F, F, F, F, F, F, F, F, F, F, ...          NaN     0.999   \n",
       "\n",
       "   macroF1                                   model  \n",
       "0    1.000  facebook/wav2vec2-large-960h-lv60-self  \n",
       "1    0.999  facebook/wav2vec2-large-960h-lv60-self  "
      ]
     },
     "execution_count": 5,
     "metadata": {},
     "output_type": "execute_result"
    }
   ],
   "source": [
    "df.head(2)"
   ]
  },
  {
   "cell_type": "code",
   "execution_count": 8,
   "metadata": {},
   "outputs": [
    {
     "data": {
      "text/plain": [
       "(36, 10)"
      ]
     },
     "execution_count": 8,
     "metadata": {},
     "output_type": "execute_result"
    }
   ],
   "source": [
    "df = df.drop_duplicates(\n",
    "    subset='output_column model_name_or_path eval_file clip_seconds accuracy macroF1'.split()\n",
    "    )\n",
    "df.shape"
   ]
  },
  {
   "cell_type": "code",
   "execution_count": 19,
   "metadata": {},
   "outputs": [
    {
     "data": {
      "text/html": [
       "<div>\n",
       "<style scoped>\n",
       "    .dataframe tbody tr th:only-of-type {\n",
       "        vertical-align: middle;\n",
       "    }\n",
       "\n",
       "    .dataframe tbody tr th {\n",
       "        vertical-align: top;\n",
       "    }\n",
       "\n",
       "    .dataframe thead th {\n",
       "        text-align: right;\n",
       "    }\n",
       "</style>\n",
       "<table border=\"1\" class=\"dataframe\">\n",
       "  <thead>\n",
       "    <tr style=\"text-align: right;\">\n",
       "      <th></th>\n",
       "      <th></th>\n",
       "      <th></th>\n",
       "      <th>accuracy</th>\n",
       "    </tr>\n",
       "    <tr>\n",
       "      <th>output_column</th>\n",
       "      <th>model_name_or_path</th>\n",
       "      <th>eval_file</th>\n",
       "      <th></th>\n",
       "    </tr>\n",
       "  </thead>\n",
       "  <tbody>\n",
       "    <tr>\n",
       "      <th rowspan=\"4\" valign=\"top\">Party_status</th>\n",
       "      <th rowspan=\"2\" valign=\"top\">/home/peterr/macocu/task11/models/facebook_wav2vec2-large-960h-lv60-self_PARTY_STATUS_/checkpoint-4680</th>\n",
       "      <th>012_dev.csv</th>\n",
       "      <td>0.606667</td>\n",
       "    </tr>\n",
       "    <tr>\n",
       "      <th>012_test.csv</th>\n",
       "      <td>0.548889</td>\n",
       "    </tr>\n",
       "    <tr>\n",
       "      <th rowspan=\"2\" valign=\"top\">/home/peterr/macocu/task11/models/facebook_wav2vec2-large-slavic-voxpopuli-v2_PARTY_STATUS_/checkpoint-4680</th>\n",
       "      <th>012_dev.csv</th>\n",
       "      <td>0.613333</td>\n",
       "    </tr>\n",
       "    <tr>\n",
       "      <th>012_test.csv</th>\n",
       "      <td>0.590000</td>\n",
       "    </tr>\n",
       "    <tr>\n",
       "      <th rowspan=\"4\" valign=\"top\">Speaker_age_group</th>\n",
       "      <th rowspan=\"2\" valign=\"top\">models/facebook_wav2vec2-large-960h-lv60-self_NEW_AGE_ID_/checkpoint-2250</th>\n",
       "      <th>006_age_dev.csv</th>\n",
       "      <td>0.716000</td>\n",
       "    </tr>\n",
       "    <tr>\n",
       "      <th>006_age_test.csv</th>\n",
       "      <td>0.678000</td>\n",
       "    </tr>\n",
       "    <tr>\n",
       "      <th rowspan=\"2\" valign=\"top\">models/facebook_wav2vec2-large-slavic-voxpopuli-v2_NEW_AGE_ID_/checkpoint-2250</th>\n",
       "      <th>006_age_dev.csv</th>\n",
       "      <td>0.704000</td>\n",
       "    </tr>\n",
       "    <tr>\n",
       "      <th>006_age_test.csv</th>\n",
       "      <td>0.694000</td>\n",
       "    </tr>\n",
       "    <tr>\n",
       "      <th rowspan=\"8\" valign=\"top\">Speaker_gender</th>\n",
       "      <th rowspan=\"2\" valign=\"top\">models/facebook_wav2vec2-large-960h-lv60-self_NEW_GENDER_/checkpoint-250</th>\n",
       "      <th>001_gender_dev.csv</th>\n",
       "      <td>1.000000</td>\n",
       "    </tr>\n",
       "    <tr>\n",
       "      <th>001_gender_test.csv</th>\n",
       "      <td>0.999000</td>\n",
       "    </tr>\n",
       "    <tr>\n",
       "      <th rowspan=\"2\" valign=\"top\">models/facebook_wav2vec2-large-960h-lv60-self_NEW_GENDER_2s_/checkpoint-250</th>\n",
       "      <th>001_gender_dev.csv</th>\n",
       "      <td>0.997000</td>\n",
       "    </tr>\n",
       "    <tr>\n",
       "      <th>001_gender_test.csv</th>\n",
       "      <td>0.993500</td>\n",
       "    </tr>\n",
       "    <tr>\n",
       "      <th rowspan=\"2\" valign=\"top\">models/facebook_wav2vec2-large-slavic-voxpopuli-v2_NEW_GENDER_/checkpoint-250</th>\n",
       "      <th>001_gender_dev.csv</th>\n",
       "      <td>0.994000</td>\n",
       "    </tr>\n",
       "    <tr>\n",
       "      <th>001_gender_test.csv</th>\n",
       "      <td>0.997000</td>\n",
       "    </tr>\n",
       "    <tr>\n",
       "      <th rowspan=\"2\" valign=\"top\">models/facebook_wav2vec2-large-slavic-voxpopuli-v2_NEW_GENDER_2s_/checkpoint-250</th>\n",
       "      <th>001_gender_dev.csv</th>\n",
       "      <td>1.000000</td>\n",
       "    </tr>\n",
       "    <tr>\n",
       "      <th>001_gender_test.csv</th>\n",
       "      <td>0.989500</td>\n",
       "    </tr>\n",
       "    <tr>\n",
       "      <th rowspan=\"8\" valign=\"top\">Speaker_name</th>\n",
       "      <th rowspan=\"2\" valign=\"top\">models/facebook_wav2vec2-large-960h-lv60-self_NEW_SPEAKER_ID_/checkpoint-1250</th>\n",
       "      <th>003_speaker_id_dev_for_datasets.csv</th>\n",
       "      <td>0.316000</td>\n",
       "    </tr>\n",
       "    <tr>\n",
       "      <th>003_speaker_id_test_for_datasets.csv</th>\n",
       "      <td>0.334000</td>\n",
       "    </tr>\n",
       "    <tr>\n",
       "      <th rowspan=\"2\" valign=\"top\">models/facebook_wav2vec2-large-960h-lv60-self_NEW_SPEAKER_ID_2s_/checkpoint-1250</th>\n",
       "      <th>003_speaker_id_dev_for_datasets.csv</th>\n",
       "      <td>0.140000</td>\n",
       "    </tr>\n",
       "    <tr>\n",
       "      <th>003_speaker_id_test_for_datasets.csv</th>\n",
       "      <td>0.106000</td>\n",
       "    </tr>\n",
       "    <tr>\n",
       "      <th rowspan=\"2\" valign=\"top\">models/facebook_wav2vec2-large-slavic-voxpopuli-v2_NEW_SPEAKER_ID_/checkpoint-1250</th>\n",
       "      <th>003_speaker_id_dev_for_datasets.csv</th>\n",
       "      <td>0.992000</td>\n",
       "    </tr>\n",
       "    <tr>\n",
       "      <th>003_speaker_id_test_for_datasets.csv</th>\n",
       "      <td>0.998000</td>\n",
       "    </tr>\n",
       "    <tr>\n",
       "      <th rowspan=\"2\" valign=\"top\">models/facebook_wav2vec2-large-slavic-voxpopuli-v2_NEW_SPEAKER_ID_2s_/checkpoint-1250</th>\n",
       "      <th>003_speaker_id_dev_for_datasets.csv</th>\n",
       "      <td>0.738000</td>\n",
       "    </tr>\n",
       "    <tr>\n",
       "      <th>003_speaker_id_test_for_datasets.csv</th>\n",
       "      <td>0.806000</td>\n",
       "    </tr>\n",
       "  </tbody>\n",
       "</table>\n",
       "</div>"
      ],
      "text/plain": [
       "                                                                                                           accuracy\n",
       "output_column     model_name_or_path                                 eval_file                                     \n",
       "Party_status      /home/peterr/macocu/task11/models/facebook_wav2... 012_dev.csv                           0.606667\n",
       "                                                                     012_test.csv                          0.548889\n",
       "                  /home/peterr/macocu/task11/models/facebook_wav2... 012_dev.csv                           0.613333\n",
       "                                                                     012_test.csv                          0.590000\n",
       "Speaker_age_group models/facebook_wav2vec2-large-960h-lv60-self_N... 006_age_dev.csv                       0.716000\n",
       "                                                                     006_age_test.csv                      0.678000\n",
       "                  models/facebook_wav2vec2-large-slavic-voxpopuli... 006_age_dev.csv                       0.704000\n",
       "                                                                     006_age_test.csv                      0.694000\n",
       "Speaker_gender    models/facebook_wav2vec2-large-960h-lv60-self_N... 001_gender_dev.csv                    1.000000\n",
       "                                                                     001_gender_test.csv                   0.999000\n",
       "                  models/facebook_wav2vec2-large-960h-lv60-self_N... 001_gender_dev.csv                    0.997000\n",
       "                                                                     001_gender_test.csv                   0.993500\n",
       "                  models/facebook_wav2vec2-large-slavic-voxpopuli... 001_gender_dev.csv                    0.994000\n",
       "                                                                     001_gender_test.csv                   0.997000\n",
       "                  models/facebook_wav2vec2-large-slavic-voxpopuli... 001_gender_dev.csv                    1.000000\n",
       "                                                                     001_gender_test.csv                   0.989500\n",
       "Speaker_name      models/facebook_wav2vec2-large-960h-lv60-self_N... 003_speaker_id_dev_for_datasets.csv   0.316000\n",
       "                                                                     003_speaker_id_test_for_datasets.csv  0.334000\n",
       "                  models/facebook_wav2vec2-large-960h-lv60-self_N... 003_speaker_id_dev_for_datasets.csv   0.140000\n",
       "                                                                     003_speaker_id_test_for_datasets.csv  0.106000\n",
       "                  models/facebook_wav2vec2-large-slavic-voxpopuli... 003_speaker_id_dev_for_datasets.csv   0.992000\n",
       "                                                                     003_speaker_id_test_for_datasets.csv  0.998000\n",
       "                  models/facebook_wav2vec2-large-slavic-voxpopuli... 003_speaker_id_dev_for_datasets.csv   0.738000\n",
       "                                                                     003_speaker_id_test_for_datasets.csv  0.806000"
      ]
     },
     "execution_count": 19,
     "metadata": {},
     "output_type": "execute_result"
    }
   ],
   "source": [
    "df[df.model_name_or_path.str.contains('facebook_wav2vec2-large')].groupby(\"output_column model_name_or_path eval_file\".split()).agg({\"accuracy\": 'mean'})"
   ]
  },
  {
   "cell_type": "code",
   "execution_count": 16,
   "metadata": {},
   "outputs": [
    {
     "data": {
      "text/plain": [
       "array(['facebook/wav2vec2-large-960h-lv60-self',\n",
       "       'facebook/wav2vec2-large',\n",
       "       'facebook/wav2vec2-large-slavic-voxpopuli-v2',\n",
       "       'classla/wav2vec2-large-slavic-parlaspeech-hr'], dtype=object)"
      ]
     },
     "execution_count": 16,
     "metadata": {},
     "output_type": "execute_result"
    }
   ],
   "source": [
    "df.model.unique()"
   ]
  },
  {
   "cell_type": "code",
   "execution_count": 21,
   "metadata": {},
   "outputs": [
    {
     "data": {
      "text/html": [
       "<div>\n",
       "<style scoped>\n",
       "    .dataframe tbody tr th:only-of-type {\n",
       "        vertical-align: middle;\n",
       "    }\n",
       "\n",
       "    .dataframe tbody tr th {\n",
       "        vertical-align: top;\n",
       "    }\n",
       "\n",
       "    .dataframe thead th {\n",
       "        text-align: right;\n",
       "    }\n",
       "</style>\n",
       "<table border=\"1\" class=\"dataframe\">\n",
       "  <thead>\n",
       "    <tr style=\"text-align: right;\">\n",
       "      <th></th>\n",
       "      <th>output_column</th>\n",
       "      <th>model_name_or_path</th>\n",
       "      <th>eval_file</th>\n",
       "      <th>clip_seconds</th>\n",
       "      <th>y_true</th>\n",
       "      <th>y_pred</th>\n",
       "      <th>train_config</th>\n",
       "      <th>accuracy</th>\n",
       "      <th>macroF1</th>\n",
       "      <th>model</th>\n",
       "    </tr>\n",
       "  </thead>\n",
       "  <tbody>\n",
       "  </tbody>\n",
       "</table>\n",
       "</div>"
      ],
      "text/plain": [
       "Empty DataFrame\n",
       "Columns: [output_column, model_name_or_path, eval_file, clip_seconds, y_true, y_pred, train_config, accuracy, macroF1, model]\n",
       "Index: []"
      ]
     },
     "execution_count": 21,
     "metadata": {},
     "output_type": "execute_result"
    }
   ],
   "source": [
    "df[df.model_name_or_path.str.contains('facebook_wav2vec2-large_')]"
   ]
  },
  {
   "cell_type": "code",
   "execution_count": null,
   "metadata": {},
   "outputs": [],
   "source": []
  }
 ],
 "metadata": {
  "interpreter": {
   "hash": "7f6f5766036ee03d059e365a942add07f79c17033585e9357ee8157d52fe6bb9"
  },
  "kernelspec": {
   "display_name": "Python 3.8.3 ('base')",
   "language": "python",
   "name": "python3"
  },
  "language_info": {
   "codemirror_mode": {
    "name": "ipython",
    "version": 3
   },
   "file_extension": ".py",
   "mimetype": "text/x-python",
   "name": "python",
   "nbconvert_exporter": "python",
   "pygments_lexer": "ipython3",
   "version": "3.8.3"
  },
  "orig_nbformat": 4
 },
 "nbformat": 4,
 "nbformat_minor": 2
}
