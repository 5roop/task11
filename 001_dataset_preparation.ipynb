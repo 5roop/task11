{
 "cells": [
  {
   "cell_type": "markdown",
   "metadata": {},
   "source": [
    "The process of this notebook is to prepare a dataset for trait identification."
   ]
  },
  {
   "cell_type": "code",
   "execution_count": 1,
   "metadata": {},
   "outputs": [
    {
     "data": {
      "text/html": [
       "<div>\n",
       "<style scoped>\n",
       "    .dataframe tbody tr th:only-of-type {\n",
       "        vertical-align: middle;\n",
       "    }\n",
       "\n",
       "    .dataframe tbody tr th {\n",
       "        vertical-align: top;\n",
       "    }\n",
       "\n",
       "    .dataframe thead th {\n",
       "        text-align: right;\n",
       "    }\n",
       "</style>\n",
       "<table border=\"1\" class=\"dataframe\">\n",
       "  <thead>\n",
       "    <tr style=\"text-align: right;\">\n",
       "      <th></th>\n",
       "      <th>path</th>\n",
       "      <th>orig_file</th>\n",
       "      <th>start</th>\n",
       "      <th>end</th>\n",
       "      <th>words</th>\n",
       "      <th>word_start_times</th>\n",
       "      <th>norm_words</th>\n",
       "      <th>norm_words_start_times</th>\n",
       "      <th>utterance_id_start</th>\n",
       "      <th>utterance_id_end</th>\n",
       "      <th>...</th>\n",
       "      <th>norm_words_edited</th>\n",
       "      <th>audio_length</th>\n",
       "      <th>Speaker_role</th>\n",
       "      <th>Speaker_type</th>\n",
       "      <th>Speaker_party</th>\n",
       "      <th>Speaker_party_name</th>\n",
       "      <th>Party_status</th>\n",
       "      <th>Speaker_name</th>\n",
       "      <th>Speaker_gender</th>\n",
       "      <th>Speaker_birth</th>\n",
       "    </tr>\n",
       "  </thead>\n",
       "  <tbody>\n",
       "    <tr>\n",
       "      <th>0</th>\n",
       "      <td>rFVDr4ghXlQ_10620.07-10632.05.wav</td>\n",
       "      <td>20 2 2020 - 1. dio, 16. sjednica, 9. saziv [rF...</td>\n",
       "      <td>10620.07</td>\n",
       "      <td>10632.05</td>\n",
       "      <td>[interpretacija,, inzistiranje, na, tim, dezin...</td>\n",
       "      <td>[0, 1.0, 1.83, 1.96, 2.22, 3.79, 4.01, 4.43, 5...</td>\n",
       "      <td>[interpretacija, inzistiranje, na, tim, dezinf...</td>\n",
       "      <td>[0, 1.0, 1.83, 1.96, 2.22, 3.79, 4.01, 4.43, 5...</td>\n",
       "      <td>ParlaMint-HR_S16.u4568</td>\n",
       "      <td>ParlaMint-HR_S16.u4568</td>\n",
       "      <td>...</td>\n",
       "      <td>NaN</td>\n",
       "      <td>11.98</td>\n",
       "      <td>Regular</td>\n",
       "      <td>MP</td>\n",
       "      <td>HDZ</td>\n",
       "      <td>Klub Hrvatske demokratske zajednice</td>\n",
       "      <td>Coalition</td>\n",
       "      <td>Tuđman, Miroslav</td>\n",
       "      <td>M</td>\n",
       "      <td>1946</td>\n",
       "    </tr>\n",
       "    <tr>\n",
       "      <th>1</th>\n",
       "      <td>Ki_SnDM_EkQ_2917.58-2937.5.wav</td>\n",
       "      <td>18 10 2018 - 9. sjednica, 9. saziv [Ki_SnDM_Ek...</td>\n",
       "      <td>2917.58</td>\n",
       "      <td>2937.50</td>\n",
       "      <td>[izraelska, tvrtka, prodaje, avione, Hrvatskoj...</td>\n",
       "      <td>[0, 0.65, 1.04, 1.54, 1.92, 2.51, 3.11, 3.5700...</td>\n",
       "      <td>[izraelska, tvrtka, prodaje, avione, hrvatskoj...</td>\n",
       "      <td>[0, 0.65, 1.04, 1.54, 1.92, 2.51, 3.11, 3.5700...</td>\n",
       "      <td>ParlaMint-HR_S09.u4267</td>\n",
       "      <td>ParlaMint-HR_S09.u4267</td>\n",
       "      <td>...</td>\n",
       "      <td>NaN</td>\n",
       "      <td>19.92</td>\n",
       "      <td>Regular</td>\n",
       "      <td>MP</td>\n",
       "      <td>Živi zid, SNAGA</td>\n",
       "      <td>Klub Živog zida i SNAGA-e</td>\n",
       "      <td>Opposition</td>\n",
       "      <td>Bunjac, Branimir</td>\n",
       "      <td>M</td>\n",
       "      <td>1972</td>\n",
       "    </tr>\n",
       "    <tr>\n",
       "      <th>2</th>\n",
       "      <td>XguZsDKdRh4_13797.59-13811.74.wav</td>\n",
       "      <td>20 1 2017 - 3. sjednica, 9. saziv [XguZsDKdRh4...</td>\n",
       "      <td>13797.59</td>\n",
       "      <td>13811.74</td>\n",
       "      <td>[jučer, trećem,, sutra, ili, prekosutra, četvr...</td>\n",
       "      <td>[0, 0.43, 1.0, 1.4, 1.52, 2.01, 2.55, 3.12, 3....</td>\n",
       "      <td>[jučer, trećem, sutra, ili, prekosutra, četvrt...</td>\n",
       "      <td>[0, 0.43, 1.0, 1.4, 1.52, 2.01, 2.55, 3.12, 3....</td>\n",
       "      <td>ParlaMint-HR_S03.u9702</td>\n",
       "      <td>ParlaMint-HR_S03.u9702</td>\n",
       "      <td>...</td>\n",
       "      <td>NaN</td>\n",
       "      <td>14.15</td>\n",
       "      <td>Regular</td>\n",
       "      <td>MP</td>\n",
       "      <td>HDZ</td>\n",
       "      <td>Klub Hrvatske demokratske zajednice</td>\n",
       "      <td>Coalition</td>\n",
       "      <td>Bačić, Branko</td>\n",
       "      <td>M</td>\n",
       "      <td>1959</td>\n",
       "    </tr>\n",
       "  </tbody>\n",
       "</table>\n",
       "<p>3 rows × 22 columns</p>\n",
       "</div>"
      ],
      "text/plain": [
       "                                path  \\\n",
       "0  rFVDr4ghXlQ_10620.07-10632.05.wav   \n",
       "1     Ki_SnDM_EkQ_2917.58-2937.5.wav   \n",
       "2  XguZsDKdRh4_13797.59-13811.74.wav   \n",
       "\n",
       "                                           orig_file     start       end  \\\n",
       "0  20 2 2020 - 1. dio, 16. sjednica, 9. saziv [rF...  10620.07  10632.05   \n",
       "1  18 10 2018 - 9. sjednica, 9. saziv [Ki_SnDM_Ek...   2917.58   2937.50   \n",
       "2  20 1 2017 - 3. sjednica, 9. saziv [XguZsDKdRh4...  13797.59  13811.74   \n",
       "\n",
       "                                               words  \\\n",
       "0  [interpretacija,, inzistiranje, na, tim, dezin...   \n",
       "1  [izraelska, tvrtka, prodaje, avione, Hrvatskoj...   \n",
       "2  [jučer, trećem,, sutra, ili, prekosutra, četvr...   \n",
       "\n",
       "                                    word_start_times  \\\n",
       "0  [0, 1.0, 1.83, 1.96, 2.22, 3.79, 4.01, 4.43, 5...   \n",
       "1  [0, 0.65, 1.04, 1.54, 1.92, 2.51, 3.11, 3.5700...   \n",
       "2  [0, 0.43, 1.0, 1.4, 1.52, 2.01, 2.55, 3.12, 3....   \n",
       "\n",
       "                                          norm_words  \\\n",
       "0  [interpretacija, inzistiranje, na, tim, dezinf...   \n",
       "1  [izraelska, tvrtka, prodaje, avione, hrvatskoj...   \n",
       "2  [jučer, trećem, sutra, ili, prekosutra, četvrt...   \n",
       "\n",
       "                              norm_words_start_times      utterance_id_start  \\\n",
       "0  [0, 1.0, 1.83, 1.96, 2.22, 3.79, 4.01, 4.43, 5...  ParlaMint-HR_S16.u4568   \n",
       "1  [0, 0.65, 1.04, 1.54, 1.92, 2.51, 3.11, 3.5700...  ParlaMint-HR_S09.u4267   \n",
       "2  [0, 0.43, 1.0, 1.4, 1.52, 2.01, 2.55, 3.12, 3....  ParlaMint-HR_S03.u9702   \n",
       "\n",
       "         utterance_id_end  ... norm_words_edited audio_length Speaker_role  \\\n",
       "0  ParlaMint-HR_S16.u4568  ...               NaN        11.98      Regular   \n",
       "1  ParlaMint-HR_S09.u4267  ...               NaN        19.92      Regular   \n",
       "2  ParlaMint-HR_S03.u9702  ...               NaN        14.15      Regular   \n",
       "\n",
       "   Speaker_type    Speaker_party                   Speaker_party_name  \\\n",
       "0            MP              HDZ  Klub Hrvatske demokratske zajednice   \n",
       "1            MP  Živi zid, SNAGA            Klub Živog zida i SNAGA-e   \n",
       "2            MP              HDZ  Klub Hrvatske demokratske zajednice   \n",
       "\n",
       "  Party_status      Speaker_name Speaker_gender Speaker_birth  \n",
       "0    Coalition  Tuđman, Miroslav              M          1946  \n",
       "1   Opposition  Bunjac, Branimir              M          1972  \n",
       "2    Coalition     Bačić, Branko              M          1959  \n",
       "\n",
       "[3 rows x 22 columns]"
      ]
     },
     "execution_count": 1,
     "metadata": {},
     "output_type": "execute_result"
    }
   ],
   "source": [
    "import pandas as pd\n",
    "\n",
    "def process(text: str):\n",
    "    from parse import compile\n",
    "    from string import punctuation\n",
    "\n",
    "    p = compile(\"{hit:d}.\")\n",
    "    in_list = text.split()\n",
    "    out_list = list()\n",
    "    for seg in in_list:\n",
    "        parse_result = p.parse(seg)\n",
    "        if parse_result:\n",
    "            # We got a number with a dot afterward:\n",
    "            out_list.append(seg.lower())\n",
    "        else:\n",
    "            out_list.append(seg.translate(str.maketrans(\"\", \"\", punctuation)).lower())\n",
    "    return \" \".join(out_list)\n",
    "\n",
    "\n",
    "\n",
    "df = pd.read_json(\"ParlaSpeech-HR.v1.0.jsonl\", orient=\"records\", lines=True)\n",
    "df[\"audio_length\"] = df.end-df.start\n",
    "df = df[df.audio_length >= 8]\n",
    "df = pd.concat([df, df.speaker_info.apply(pd.Series)], axis=1)\n",
    "df.head(3)"
   ]
  },
  {
   "cell_type": "code",
   "execution_count": 2,
   "metadata": {},
   "outputs": [
    {
     "data": {
      "text/plain": [
       "Index(['path', 'orig_file', 'start', 'end', 'words', 'word_start_times',\n",
       "       'norm_words', 'norm_words_start_times', 'utterance_id_start',\n",
       "       'utterance_id_end', 'speaker_info', 'split', 'norm_words_edited',\n",
       "       'Speaker_role', 'Speaker_type', 'Speaker_party', 'Speaker_party_name',\n",
       "       'Party_status', 'Speaker_name', 'Speaker_gender', 'Speaker_birth'],\n",
       "      dtype='object')"
      ]
     },
     "execution_count": 2,
     "metadata": {},
     "output_type": "execute_result"
    }
   ],
   "source": [
    "df.columns"
   ]
  },
  {
   "cell_type": "markdown",
   "metadata": {},
   "source": [
    "# Include party orientation\n",
    "\n",
    "where data exists."
   ]
  },
  {
   "cell_type": "code",
   "execution_count": 4,
   "metadata": {},
   "outputs": [],
   "source": [
    "HR_party_orientation = {\n",
    "'SDP':'center-left',\n",
    "'HDZ':'center-right',\n",
    "'Most':'right',\n",
    "'Nezavisni':None,\n",
    "'HSU, SNAGA, NZ i NP':'center-left',\n",
    "'SDSS':'center-left',\n",
    "'HNS':'center-left',\n",
    "'BM 365 i NZ':'center-left',\n",
    "'Živi zid, SNAGA':None,\n",
    "'HSS i Demokrati':'center-right',\n",
    "'GLAS':'center-left',\n",
    "'HDS, HSLS, HDSSB':'center-right',\n",
    "'NLM':'center-right',\n",
    "'Živi zid i PH':None,\n",
    "'IDS, PGS, RI':'center-left',\n",
    "'HS':'right'}\n",
    "\n",
    "df[\"Speaker_party_orientation\"] = df.Speaker_party.apply(lambda i: HR_party_orientation.get(i, None))\n"
   ]
  },
  {
   "cell_type": "code",
   "execution_count": 5,
   "metadata": {},
   "outputs": [
    {
     "data": {
      "text/plain": [
       "0.2342415052299313"
      ]
     },
     "execution_count": 5,
     "metadata": {},
     "output_type": "execute_result"
    }
   ],
   "source": [
    "df.Speaker_party_orientation.isna().sum()/df.Speaker_party_orientation.shape[0]"
   ]
  },
  {
   "cell_type": "markdown",
   "metadata": {},
   "source": [
    "# Calculate speaker age at the date of recording"
   ]
  },
  {
   "cell_type": "code",
   "execution_count": 5,
   "metadata": {},
   "outputs": [],
   "source": [
    "from datetime import datetime\n",
    "def get_date_from_filename(s: str)->datetime:\n",
    "    from parse import compile\n",
    "    pattern = \"{day:d} {month:d} {year:d} {rest}\"\n",
    "\n",
    "    p = compile(pattern)\n",
    "    results = p.search(s)\n",
    "\n",
    "    if not results:\n",
    "        return None\n",
    "    return datetime(results[\"year\"], results[\"month\"], results[\"day\"])\n",
    "\n",
    "df[\"recording_datetime\"] = df.orig_file.apply(get_date_from_filename)\n"
   ]
  },
  {
   "cell_type": "code",
   "execution_count": 6,
   "metadata": {},
   "outputs": [],
   "source": [
    "def get_speaker_age_at_recording(row):\n",
    "    try:\n",
    "        return row[\"recording_datetime\"].year - int(row[\"Speaker_birth\"])\n",
    "    except ValueError:\n",
    "        return None\n",
    "\n",
    "df[\"Speaker_age_at_recording\"] = df.apply(get_speaker_age_at_recording, axis=1)"
   ]
  },
  {
   "cell_type": "code",
   "execution_count": 7,
   "metadata": {},
   "outputs": [
    {
     "data": {
      "image/png": "[encoded data removed]",
      "text/plain": [
       "<Figure size 360x288 with 1 Axes>"
      ]
     },
     "metadata": {
      "needs_background": "light"
     },
     "output_type": "display_data"
    }
   ],
   "source": [
    "import matplotlib.pyplot as plt\n",
    "\n",
    "try:\n",
    "    plt.style.use(\"science no-latex\".split())\n",
    "except:\n",
    "    pass\n",
    "genders = [\"M\", \"F\"]\n",
    "\n",
    "fig, ax = plt.subplots(figsize=(5, 4))\n",
    "for gender in genders:\n",
    "    df[df.Speaker_gender == gender].Speaker_age_at_recording.plot(\n",
    "        kind=\"hist\", ax=ax, label=gender, bins=29\n",
    "    )\n",
    "plt.legend()\n",
    "plt.title(\"Gender distribution by age\")\n",
    "plt.show()\n"
   ]
  },
  {
   "cell_type": "markdown",
   "metadata": {},
   "source": [
    "# THird approach"
   ]
  },
  {
   "cell_type": "code",
   "execution_count": 8,
   "metadata": {},
   "outputs": [],
   "source": [
    "df = df[df.audio_length >= 8]"
   ]
  },
  {
   "cell_type": "code",
   "execution_count": 9,
   "metadata": {},
   "outputs": [
    {
     "data": {
      "text/plain": [
       "Index(['path', 'orig_file', 'start', 'end', 'words', 'word_start_times',\n",
       "       'norm_words', 'norm_words_start_times', 'utterance_id_start',\n",
       "       'utterance_id_end', 'speaker_info', 'split', 'norm_words_edited',\n",
       "       'audio_length', 'Speaker_role', 'Speaker_type', 'Speaker_party',\n",
       "       'Speaker_party_name', 'Party_status', 'Speaker_name', 'Speaker_gender',\n",
       "       'Speaker_birth', 'recording_datetime', 'Speaker_age_at_recording'],\n",
       "      dtype='object')"
      ]
     },
     "execution_count": 9,
     "metadata": {},
     "output_type": "execute_result"
    }
   ],
   "source": [
    "df.columns"
   ]
  },
  {
   "cell_type": "code",
   "execution_count": 10,
   "metadata": {},
   "outputs": [
    {
     "data": {
      "image/png": "[encoded data removed]",
      "text/plain": [
       "<Figure size 504x360 with 1 Axes>"
      ]
     },
     "metadata": {
      "needs_background": "light"
     },
     "output_type": "display_data"
    }
   ],
   "source": [
    "gb = df.groupby(\"Speaker_name\").agg({\n",
    "    \"path\": \"count\",\n",
    "    \"Speaker_age_at_recording\": \"median\",\n",
    "    \"Speaker_gender\": lambda i: i.iloc[0],\n",
    "}).rename(columns={\"path\": \"Count\"}).sort_values(by=\"Count\", ascending=False)\n",
    "gb =  gb.loc[(gb.Count > 200) & (gb.Count < 3000)]\n",
    "\n",
    "for gender in \"MF\":\n",
    "    gb.Speaker_age_at_recording[gb.Speaker_gender == gender].plot(kind=\"hist\", bins=40, figsize=(7,5))"
   ]
  },
  {
   "cell_type": "code",
   "execution_count": 11,
   "metadata": {},
   "outputs": [
    {
     "data": {
      "text/plain": [
       "41"
      ]
     },
     "execution_count": 11,
     "metadata": {},
     "output_type": "execute_result"
    }
   ],
   "source": [
    "sum(gb.Speaker_gender == \"F\")"
   ]
  },
  {
   "cell_type": "code",
   "execution_count": 12,
   "metadata": {},
   "outputs": [],
   "source": [
    "C_is_female = gb.Speaker_gender == \"F\"\n",
    "C_is_male = gb.Speaker_gender == \"M\"\n",
    "\n",
    "females_train = gb.loc[C_is_female].index[0:25].tolist()\n",
    "males_train = gb.loc[C_is_male].index[0:25].tolist()\n",
    "\n",
    "females_test = gb.loc[C_is_female].index[25:25+5].tolist()\n",
    "males_test = gb.loc[C_is_male].index[25:25+5].tolist()\n",
    "\n",
    "females_dev = gb.loc[C_is_female].index[25+5:25+10].tolist()\n",
    "males_dev = gb.loc[C_is_male].index[25+5:25+10].tolist()"
   ]
  },
  {
   "cell_type": "code",
   "execution_count": 13,
   "metadata": {},
   "outputs": [],
   "source": [
    "train_gender = pd.concat([\n",
    "    df[df.Speaker_name == name][0:20] for name in females_train+males_train\n",
    "])\n",
    "test_gender = pd.concat([\n",
    "    df[df.Speaker_name == name][0:200] for name in females_test+males_test\n",
    "])\n",
    "dev_gender = pd.concat([\n",
    "    df[df.Speaker_name == name][0:200] for name in females_dev+males_dev\n",
    "])"
   ]
  },
  {
   "cell_type": "code",
   "execution_count": 14,
   "metadata": {},
   "outputs": [
    {
     "data": {
      "text/plain": [
       "((1000, 24), (2000, 24), (2000, 24))"
      ]
     },
     "execution_count": 14,
     "metadata": {},
     "output_type": "execute_result"
    }
   ],
   "source": [
    "train_gender.shape, test_gender.shape, dev_gender.shape"
   ]
  },
  {
   "cell_type": "code",
   "execution_count": 12,
   "metadata": {},
   "outputs": [
    {
     "data": {
      "text/plain": [
       "(25, 25, 5, 5)"
      ]
     },
     "execution_count": 12,
     "metadata": {},
     "output_type": "execute_result"
    }
   ],
   "source": [
    "len(females_train), len(males_train), len(females_test), len(males_test)"
   ]
  },
  {
   "cell_type": "code",
   "execution_count": 15,
   "metadata": {},
   "outputs": [],
   "source": [
    "files_to_move = train_gender.path.tolist()+test_gender.path.tolist()+dev_gender.path.tolist()"
   ]
  },
  {
   "cell_type": "code",
   "execution_count": 16,
   "metadata": {},
   "outputs": [],
   "source": [
    "with open(\"001_files_to_move.txt\", \"w\") as f:\n",
    "    f.writelines([\"seg.\"+ i + \"\\n\" for i in files_to_move])"
   ]
  },
  {
   "cell_type": "code",
   "execution_count": 17,
   "metadata": {},
   "outputs": [],
   "source": [
    "train_gender.to_csv(\"001_gender_train.csv\", index=False)\n",
    "test_gender.to_csv(\"001_gender_test.csv\", index=False)\n",
    "dev_gender.to_csv(\"001_gender_dev.csv\", index=False)"
   ]
  },
  {
   "cell_type": "code",
   "execution_count": 18,
   "metadata": {},
   "outputs": [
    {
     "data": {
      "text/plain": [
       "set()"
      ]
     },
     "execution_count": 18,
     "metadata": {},
     "output_type": "execute_result"
    }
   ],
   "source": [
    "set(females_train).intersection(set(females_test))"
   ]
  },
  {
   "cell_type": "code",
   "execution_count": 19,
   "metadata": {},
   "outputs": [
    {
     "data": {
      "text/plain": [
       "set()"
      ]
     },
     "execution_count": 19,
     "metadata": {},
     "output_type": "execute_result"
    }
   ],
   "source": [
    "set(males_train).intersection(set(males_test))"
   ]
  },
  {
   "cell_type": "code",
   "execution_count": 21,
   "metadata": {},
   "outputs": [
    {
     "data": {
      "text/plain": [
       "(set(), set(), set())"
      ]
     },
     "execution_count": 21,
     "metadata": {},
     "output_type": "execute_result"
    }
   ],
   "source": [
    "set(males_dev).intersection(set(males_test)), set(males_train).intersection(set(males_dev)), set(females_dev).intersection(set(females_test))"
   ]
  }
 ],
 "metadata": {
  "interpreter": {
   "hash": "7f6f5766036ee03d059e365a942add07f79c17033585e9357ee8157d52fe6bb9"
  },
  "kernelspec": {
   "display_name": "Python 3.8.3 ('base')",
   "language": "python",
   "name": "python3"
  },
  "language_info": {
   "codemirror_mode": {
    "name": "ipython",
    "version": 3
   },
   "file_extension": ".py",
   "mimetype": "text/x-python",
   "name": "python",
   "nbconvert_exporter": "python",
   "pygments_lexer": "ipython3",
   "version": "3.8.3"
  },
  "orig_nbformat": 4
 },
 "nbformat": 4,
 "nbformat_minor": 2
}
