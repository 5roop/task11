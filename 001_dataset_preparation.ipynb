{
 "cells": [
  {
   "cell_type": "markdown",
   "metadata": {},
   "source": [
    "The process of this notebook is to prepare a dataset for trait identification."
   ]
  },
  {
   "cell_type": "code",
   "execution_count": 1,
   "metadata": {},
   "outputs": [
    {
     "data": {
      "text/html": [
       "<div>\n",
       "<style scoped>\n",
       "    .dataframe tbody tr th:only-of-type {\n",
       "        vertical-align: middle;\n",
       "    }\n",
       "\n",
       "    .dataframe tbody tr th {\n",
       "        vertical-align: top;\n",
       "    }\n",
       "\n",
       "    .dataframe thead th {\n",
       "        text-align: right;\n",
       "    }\n",
       "</style>\n",
       "<table border=\"1\" class=\"dataframe\">\n",
       "  <thead>\n",
       "    <tr style=\"text-align: right;\">\n",
       "      <th></th>\n",
       "      <th>path</th>\n",
       "      <th>orig_file</th>\n",
       "      <th>start</th>\n",
       "      <th>end</th>\n",
       "      <th>words</th>\n",
       "      <th>word_start_times</th>\n",
       "      <th>norm_words</th>\n",
       "      <th>norm_words_start_times</th>\n",
       "      <th>utterance_id_start</th>\n",
       "      <th>utterance_id_end</th>\n",
       "      <th>...</th>\n",
       "      <th>norm_words_edited</th>\n",
       "      <th>audio_length</th>\n",
       "      <th>Speaker_role</th>\n",
       "      <th>Speaker_type</th>\n",
       "      <th>Speaker_party</th>\n",
       "      <th>Speaker_party_name</th>\n",
       "      <th>Party_status</th>\n",
       "      <th>Speaker_name</th>\n",
       "      <th>Speaker_gender</th>\n",
       "      <th>Speaker_birth</th>\n",
       "    </tr>\n",
       "  </thead>\n",
       "  <tbody>\n",
       "    <tr>\n",
       "      <th>0</th>\n",
       "      <td>rFVDr4ghXlQ_10620.07-10632.05.wav</td>\n",
       "      <td>20 2 2020 - 1. dio, 16. sjednica, 9. saziv [rF...</td>\n",
       "      <td>10620.07</td>\n",
       "      <td>10632.05</td>\n",
       "      <td>[interpretacija,, inzistiranje, na, tim, dezin...</td>\n",
       "      <td>[0, 1.0, 1.83, 1.96, 2.22, 3.79, 4.01, 4.43, 5...</td>\n",
       "      <td>[interpretacija, inzistiranje, na, tim, dezinf...</td>\n",
       "      <td>[0, 1.0, 1.83, 1.96, 2.22, 3.79, 4.01, 4.43, 5...</td>\n",
       "      <td>ParlaMint-HR_S16.u4568</td>\n",
       "      <td>ParlaMint-HR_S16.u4568</td>\n",
       "      <td>...</td>\n",
       "      <td>NaN</td>\n",
       "      <td>11.98</td>\n",
       "      <td>Regular</td>\n",
       "      <td>MP</td>\n",
       "      <td>HDZ</td>\n",
       "      <td>Klub Hrvatske demokratske zajednice</td>\n",
       "      <td>Coalition</td>\n",
       "      <td>Tuđman, Miroslav</td>\n",
       "      <td>M</td>\n",
       "      <td>1946</td>\n",
       "    </tr>\n",
       "    <tr>\n",
       "      <th>1</th>\n",
       "      <td>Ki_SnDM_EkQ_2917.58-2937.5.wav</td>\n",
       "      <td>18 10 2018 - 9. sjednica, 9. saziv [Ki_SnDM_Ek...</td>\n",
       "      <td>2917.58</td>\n",
       "      <td>2937.50</td>\n",
       "      <td>[izraelska, tvrtka, prodaje, avione, Hrvatskoj...</td>\n",
       "      <td>[0, 0.65, 1.04, 1.54, 1.92, 2.51, 3.11, 3.5700...</td>\n",
       "      <td>[izraelska, tvrtka, prodaje, avione, hrvatskoj...</td>\n",
       "      <td>[0, 0.65, 1.04, 1.54, 1.92, 2.51, 3.11, 3.5700...</td>\n",
       "      <td>ParlaMint-HR_S09.u4267</td>\n",
       "      <td>ParlaMint-HR_S09.u4267</td>\n",
       "      <td>...</td>\n",
       "      <td>NaN</td>\n",
       "      <td>19.92</td>\n",
       "      <td>Regular</td>\n",
       "      <td>MP</td>\n",
       "      <td>Živi zid, SNAGA</td>\n",
       "      <td>Klub Živog zida i SNAGA-e</td>\n",
       "      <td>Opposition</td>\n",
       "      <td>Bunjac, Branimir</td>\n",
       "      <td>M</td>\n",
       "      <td>1972</td>\n",
       "    </tr>\n",
       "    <tr>\n",
       "      <th>2</th>\n",
       "      <td>XguZsDKdRh4_13797.59-13811.74.wav</td>\n",
       "      <td>20 1 2017 - 3. sjednica, 9. saziv [XguZsDKdRh4...</td>\n",
       "      <td>13797.59</td>\n",
       "      <td>13811.74</td>\n",
       "      <td>[jučer, trećem,, sutra, ili, prekosutra, četvr...</td>\n",
       "      <td>[0, 0.43, 1.0, 1.4, 1.52, 2.01, 2.55, 3.12, 3....</td>\n",
       "      <td>[jučer, trećem, sutra, ili, prekosutra, četvrt...</td>\n",
       "      <td>[0, 0.43, 1.0, 1.4, 1.52, 2.01, 2.55, 3.12, 3....</td>\n",
       "      <td>ParlaMint-HR_S03.u9702</td>\n",
       "      <td>ParlaMint-HR_S03.u9702</td>\n",
       "      <td>...</td>\n",
       "      <td>NaN</td>\n",
       "      <td>14.15</td>\n",
       "      <td>Regular</td>\n",
       "      <td>MP</td>\n",
       "      <td>HDZ</td>\n",
       "      <td>Klub Hrvatske demokratske zajednice</td>\n",
       "      <td>Coalition</td>\n",
       "      <td>Bačić, Branko</td>\n",
       "      <td>M</td>\n",
       "      <td>1959</td>\n",
       "    </tr>\n",
       "  </tbody>\n",
       "</table>\n",
       "<p>3 rows × 22 columns</p>\n",
       "</div>"
      ],
      "text/plain": [
       "                                path  \\\n",
       "0  rFVDr4ghXlQ_10620.07-10632.05.wav   \n",
       "1     Ki_SnDM_EkQ_2917.58-2937.5.wav   \n",
       "2  XguZsDKdRh4_13797.59-13811.74.wav   \n",
       "\n",
       "                                           orig_file     start       end  \\\n",
       "0  20 2 2020 - 1. dio, 16. sjednica, 9. saziv [rF...  10620.07  10632.05   \n",
       "1  18 10 2018 - 9. sjednica, 9. saziv [Ki_SnDM_Ek...   2917.58   2937.50   \n",
       "2  20 1 2017 - 3. sjednica, 9. saziv [XguZsDKdRh4...  13797.59  13811.74   \n",
       "\n",
       "                                               words  \\\n",
       "0  [interpretacija,, inzistiranje, na, tim, dezin...   \n",
       "1  [izraelska, tvrtka, prodaje, avione, Hrvatskoj...   \n",
       "2  [jučer, trećem,, sutra, ili, prekosutra, četvr...   \n",
       "\n",
       "                                    word_start_times  \\\n",
       "0  [0, 1.0, 1.83, 1.96, 2.22, 3.79, 4.01, 4.43, 5...   \n",
       "1  [0, 0.65, 1.04, 1.54, 1.92, 2.51, 3.11, 3.5700...   \n",
       "2  [0, 0.43, 1.0, 1.4, 1.52, 2.01, 2.55, 3.12, 3....   \n",
       "\n",
       "                                          norm_words  \\\n",
       "0  [interpretacija, inzistiranje, na, tim, dezinf...   \n",
       "1  [izraelska, tvrtka, prodaje, avione, hrvatskoj...   \n",
       "2  [jučer, trećem, sutra, ili, prekosutra, četvrt...   \n",
       "\n",
       "                              norm_words_start_times      utterance_id_start  \\\n",
       "0  [0, 1.0, 1.83, 1.96, 2.22, 3.79, 4.01, 4.43, 5...  ParlaMint-HR_S16.u4568   \n",
       "1  [0, 0.65, 1.04, 1.54, 1.92, 2.51, 3.11, 3.5700...  ParlaMint-HR_S09.u4267   \n",
       "2  [0, 0.43, 1.0, 1.4, 1.52, 2.01, 2.55, 3.12, 3....  ParlaMint-HR_S03.u9702   \n",
       "\n",
       "         utterance_id_end  ... norm_words_edited audio_length Speaker_role  \\\n",
       "0  ParlaMint-HR_S16.u4568  ...               NaN        11.98      Regular   \n",
       "1  ParlaMint-HR_S09.u4267  ...               NaN        19.92      Regular   \n",
       "2  ParlaMint-HR_S03.u9702  ...               NaN        14.15      Regular   \n",
       "\n",
       "   Speaker_type    Speaker_party                   Speaker_party_name  \\\n",
       "0            MP              HDZ  Klub Hrvatske demokratske zajednice   \n",
       "1            MP  Živi zid, SNAGA            Klub Živog zida i SNAGA-e   \n",
       "2            MP              HDZ  Klub Hrvatske demokratske zajednice   \n",
       "\n",
       "  Party_status      Speaker_name Speaker_gender Speaker_birth  \n",
       "0    Coalition  Tuđman, Miroslav              M          1946  \n",
       "1   Opposition  Bunjac, Branimir              M          1972  \n",
       "2    Coalition     Bačić, Branko              M          1959  \n",
       "\n",
       "[3 rows x 22 columns]"
      ]
     },
     "execution_count": 1,
     "metadata": {},
     "output_type": "execute_result"
    }
   ],
   "source": [
    "import pandas as pd\n",
    "\n",
    "def process(text: str):\n",
    "    from parse import compile\n",
    "    from string import punctuation\n",
    "\n",
    "    p = compile(\"{hit:d}.\")\n",
    "    in_list = text.split()\n",
    "    out_list = list()\n",
    "    for seg in in_list:\n",
    "        parse_result = p.parse(seg)\n",
    "        if parse_result:\n",
    "            # We got a number with a dot afterward:\n",
    "            out_list.append(seg.lower())\n",
    "        else:\n",
    "            out_list.append(seg.translate(str.maketrans(\"\", \"\", punctuation)).lower())\n",
    "    return \" \".join(out_list)\n",
    "\n",
    "\n",
    "\n",
    "df = pd.read_json(\"ParlaSpeech-HR.v1.0.jsonl\", orient=\"records\", lines=True)\n",
    "df[\"audio_length\"] = df.end-df.start\n",
    "df = df[df.audio_length >= 8]\n",
    "df = pd.concat([df, df.speaker_info.apply(pd.Series)], axis=1)\n",
    "df.head(3)"
   ]
  },
  {
   "cell_type": "code",
   "execution_count": 2,
   "metadata": {},
   "outputs": [
    {
     "data": {
      "text/plain": [
       "Index(['path', 'orig_file', 'start', 'end', 'words', 'word_start_times',\n",
       "       'norm_words', 'norm_words_start_times', 'utterance_id_start',\n",
       "       'utterance_id_end', 'speaker_info', 'split', 'norm_words_edited',\n",
       "       'Speaker_role', 'Speaker_type', 'Speaker_party', 'Speaker_party_name',\n",
       "       'Party_status', 'Speaker_name', 'Speaker_gender', 'Speaker_birth'],\n",
       "      dtype='object')"
      ]
     },
     "execution_count": 2,
     "metadata": {},
     "output_type": "execute_result"
    }
   ],
   "source": [
    "df.columns"
   ]
  },
  {
   "cell_type": "markdown",
   "metadata": {},
   "source": [
    "# Process transcription\n",
    "\n",
    "In the same way as it was done for e.g. task8: lowercase, discard punctuation except where it follows a number."
   ]
  },
  {
   "cell_type": "code",
   "execution_count": 3,
   "metadata": {},
   "outputs": [
    {
     "data": {
      "text/html": [
       "<div>\n",
       "<style scoped>\n",
       "    .dataframe tbody tr th:only-of-type {\n",
       "        vertical-align: middle;\n",
       "    }\n",
       "\n",
       "    .dataframe tbody tr th {\n",
       "        vertical-align: top;\n",
       "    }\n",
       "\n",
       "    .dataframe thead th {\n",
       "        text-align: right;\n",
       "    }\n",
       "</style>\n",
       "<table border=\"1\" class=\"dataframe\">\n",
       "  <thead>\n",
       "    <tr style=\"text-align: right;\">\n",
       "      <th></th>\n",
       "      <th>path</th>\n",
       "      <th>orig_file</th>\n",
       "      <th>start</th>\n",
       "      <th>end</th>\n",
       "      <th>words</th>\n",
       "      <th>word_start_times</th>\n",
       "      <th>norm_words</th>\n",
       "      <th>norm_words_start_times</th>\n",
       "      <th>utterance_id_start</th>\n",
       "      <th>utterance_id_end</th>\n",
       "      <th>...</th>\n",
       "      <th>norm_words_edited</th>\n",
       "      <th>Speaker_role</th>\n",
       "      <th>Speaker_type</th>\n",
       "      <th>Speaker_party</th>\n",
       "      <th>Speaker_party_name</th>\n",
       "      <th>Party_status</th>\n",
       "      <th>Speaker_name</th>\n",
       "      <th>Speaker_gender</th>\n",
       "      <th>Speaker_birth</th>\n",
       "      <th>processed_transcription</th>\n",
       "    </tr>\n",
       "  </thead>\n",
       "  <tbody>\n",
       "    <tr>\n",
       "      <th>0</th>\n",
       "      <td>rFVDr4ghXlQ_10620.07-10632.05.wav</td>\n",
       "      <td>20 2 2020 - 1. dio, 16. sjednica, 9. saziv [rF...</td>\n",
       "      <td>10620.07</td>\n",
       "      <td>10632.05</td>\n",
       "      <td>[interpretacija,, inzistiranje, na, tim, dezin...</td>\n",
       "      <td>[0, 1.0, 1.83, 1.96, 2.22, 3.79, 4.01, 4.43, 5...</td>\n",
       "      <td>[interpretacija, inzistiranje, na, tim, dezinf...</td>\n",
       "      <td>[0, 1.0, 1.83, 1.96, 2.22, 3.79, 4.01, 4.43, 5...</td>\n",
       "      <td>ParlaMint-HR_S16.u4568</td>\n",
       "      <td>ParlaMint-HR_S16.u4568</td>\n",
       "      <td>...</td>\n",
       "      <td>NaN</td>\n",
       "      <td>Regular</td>\n",
       "      <td>MP</td>\n",
       "      <td>HDZ</td>\n",
       "      <td>Klub Hrvatske demokratske zajednice</td>\n",
       "      <td>Coalition</td>\n",
       "      <td>Tuđman, Miroslav</td>\n",
       "      <td>M</td>\n",
       "      <td>1946</td>\n",
       "      <td>interpretacija inzistiranje na tim dezinformac...</td>\n",
       "    </tr>\n",
       "    <tr>\n",
       "      <th>1</th>\n",
       "      <td>Ki_SnDM_EkQ_2917.58-2937.5.wav</td>\n",
       "      <td>18 10 2018 - 9. sjednica, 9. saziv [Ki_SnDM_Ek...</td>\n",
       "      <td>2917.58</td>\n",
       "      <td>2937.50</td>\n",
       "      <td>[izraelska, tvrtka, prodaje, avione, Hrvatskoj...</td>\n",
       "      <td>[0, 0.65, 1.04, 1.54, 1.92, 2.51, 3.11, 3.5700...</td>\n",
       "      <td>[izraelska, tvrtka, prodaje, avione, hrvatskoj...</td>\n",
       "      <td>[0, 0.65, 1.04, 1.54, 1.92, 2.51, 3.11, 3.5700...</td>\n",
       "      <td>ParlaMint-HR_S09.u4267</td>\n",
       "      <td>ParlaMint-HR_S09.u4267</td>\n",
       "      <td>...</td>\n",
       "      <td>NaN</td>\n",
       "      <td>Regular</td>\n",
       "      <td>MP</td>\n",
       "      <td>Živi zid, SNAGA</td>\n",
       "      <td>Klub Živog zida i SNAGA-e</td>\n",
       "      <td>Opposition</td>\n",
       "      <td>Bunjac, Branimir</td>\n",
       "      <td>M</td>\n",
       "      <td>1972</td>\n",
       "      <td>izraelska tvrtka prodaje avione hrvatskoj dire...</td>\n",
       "    </tr>\n",
       "  </tbody>\n",
       "</table>\n",
       "<p>2 rows × 22 columns</p>\n",
       "</div>"
      ],
      "text/plain": [
       "                                path  \\\n",
       "0  rFVDr4ghXlQ_10620.07-10632.05.wav   \n",
       "1     Ki_SnDM_EkQ_2917.58-2937.5.wav   \n",
       "\n",
       "                                           orig_file     start       end  \\\n",
       "0  20 2 2020 - 1. dio, 16. sjednica, 9. saziv [rF...  10620.07  10632.05   \n",
       "1  18 10 2018 - 9. sjednica, 9. saziv [Ki_SnDM_Ek...   2917.58   2937.50   \n",
       "\n",
       "                                               words  \\\n",
       "0  [interpretacija,, inzistiranje, na, tim, dezin...   \n",
       "1  [izraelska, tvrtka, prodaje, avione, Hrvatskoj...   \n",
       "\n",
       "                                    word_start_times  \\\n",
       "0  [0, 1.0, 1.83, 1.96, 2.22, 3.79, 4.01, 4.43, 5...   \n",
       "1  [0, 0.65, 1.04, 1.54, 1.92, 2.51, 3.11, 3.5700...   \n",
       "\n",
       "                                          norm_words  \\\n",
       "0  [interpretacija, inzistiranje, na, tim, dezinf...   \n",
       "1  [izraelska, tvrtka, prodaje, avione, hrvatskoj...   \n",
       "\n",
       "                              norm_words_start_times      utterance_id_start  \\\n",
       "0  [0, 1.0, 1.83, 1.96, 2.22, 3.79, 4.01, 4.43, 5...  ParlaMint-HR_S16.u4568   \n",
       "1  [0, 0.65, 1.04, 1.54, 1.92, 2.51, 3.11, 3.5700...  ParlaMint-HR_S09.u4267   \n",
       "\n",
       "         utterance_id_end  ... norm_words_edited Speaker_role Speaker_type  \\\n",
       "0  ParlaMint-HR_S16.u4568  ...               NaN      Regular           MP   \n",
       "1  ParlaMint-HR_S09.u4267  ...               NaN      Regular           MP   \n",
       "\n",
       "     Speaker_party                   Speaker_party_name Party_status  \\\n",
       "0              HDZ  Klub Hrvatske demokratske zajednice    Coalition   \n",
       "1  Živi zid, SNAGA            Klub Živog zida i SNAGA-e   Opposition   \n",
       "\n",
       "       Speaker_name Speaker_gender Speaker_birth  \\\n",
       "0  Tuđman, Miroslav              M          1946   \n",
       "1  Bunjac, Branimir              M          1972   \n",
       "\n",
       "                             processed_transcription  \n",
       "0  interpretacija inzistiranje na tim dezinformac...  \n",
       "1  izraelska tvrtka prodaje avione hrvatskoj dire...  \n",
       "\n",
       "[2 rows x 22 columns]"
      ]
     },
     "execution_count": 3,
     "metadata": {},
     "output_type": "execute_result"
    }
   ],
   "source": [
    "df[\"processed_transcription\"] = df.words.apply(\" \".join).apply(process)\n",
    "df.head(2)"
   ]
  },
  {
   "cell_type": "markdown",
   "metadata": {},
   "source": [
    "# Include party orientation\n",
    "\n",
    "where data exists."
   ]
  },
  {
   "cell_type": "code",
   "execution_count": 4,
   "metadata": {},
   "outputs": [],
   "source": [
    "HR_party_orientation = {\n",
    "'SDP':'center-left',\n",
    "'HDZ':'center-right',\n",
    "'Most':'right',\n",
    "'Nezavisni':None,\n",
    "'HSU, SNAGA, NZ i NP':'center-left',\n",
    "'SDSS':'center-left',\n",
    "'HNS':'center-left',\n",
    "'BM 365 i NZ':'center-left',\n",
    "'Živi zid, SNAGA':None,\n",
    "'HSS i Demokrati':'center-right',\n",
    "'GLAS':'center-left',\n",
    "'HDS, HSLS, HDSSB':'center-right',\n",
    "'NLM':'center-right',\n",
    "'Živi zid i PH':None,\n",
    "'IDS, PGS, RI':'center-left',\n",
    "'HS':'right'}\n",
    "\n",
    "df[\"Speaker_party_orientation\"] = df.Speaker_party.apply(lambda i: HR_party_orientation.get(i, None))\n"
   ]
  },
  {
   "cell_type": "code",
   "execution_count": 5,
   "metadata": {},
   "outputs": [
    {
     "data": {
      "text/plain": [
       "0.2342415052299313"
      ]
     },
     "execution_count": 5,
     "metadata": {},
     "output_type": "execute_result"
    }
   ],
   "source": [
    "df.Speaker_party_orientation.isna().sum()/df.Speaker_party_orientation.shape[0]"
   ]
  },
  {
   "cell_type": "markdown",
   "metadata": {},
   "source": [
    "We have 23% of instances without party information.\n",
    "\n",
    "# Calculate duration"
   ]
  },
  {
   "cell_type": "code",
   "execution_count": 6,
   "metadata": {},
   "outputs": [],
   "source": [
    "df[\"audio_length\"] = df.end-df.start"
   ]
  },
  {
   "cell_type": "code",
   "execution_count": 7,
   "metadata": {},
   "outputs": [
    {
     "data": {
      "text/html": [
       "<div>\n",
       "<style scoped>\n",
       "    .dataframe tbody tr th:only-of-type {\n",
       "        vertical-align: middle;\n",
       "    }\n",
       "\n",
       "    .dataframe tbody tr th {\n",
       "        vertical-align: top;\n",
       "    }\n",
       "\n",
       "    .dataframe thead th {\n",
       "        text-align: right;\n",
       "    }\n",
       "</style>\n",
       "<table border=\"1\" class=\"dataframe\">\n",
       "  <thead>\n",
       "    <tr style=\"text-align: right;\">\n",
       "      <th></th>\n",
       "      <th>path</th>\n",
       "      <th>orig_file</th>\n",
       "      <th>start</th>\n",
       "      <th>end</th>\n",
       "      <th>words</th>\n",
       "      <th>word_start_times</th>\n",
       "      <th>norm_words</th>\n",
       "      <th>norm_words_start_times</th>\n",
       "      <th>utterance_id_start</th>\n",
       "      <th>utterance_id_end</th>\n",
       "      <th>...</th>\n",
       "      <th>Speaker_type</th>\n",
       "      <th>Speaker_party</th>\n",
       "      <th>Speaker_party_name</th>\n",
       "      <th>Party_status</th>\n",
       "      <th>Speaker_name</th>\n",
       "      <th>Speaker_gender</th>\n",
       "      <th>Speaker_birth</th>\n",
       "      <th>processed_transcription</th>\n",
       "      <th>Speaker_party_orientation</th>\n",
       "      <th>audio_length</th>\n",
       "    </tr>\n",
       "  </thead>\n",
       "  <tbody>\n",
       "    <tr>\n",
       "      <th>266676</th>\n",
       "      <td>y5Rpk9AIbMY_16451.77-16451.85.wav</td>\n",
       "      <td>3 10 2019 - 14. sjednica, 9. saziv [y5Rpk9AIbM...</td>\n",
       "      <td>16451.77</td>\n",
       "      <td>16451.85</td>\n",
       "      <td>[u]</td>\n",
       "      <td>[0]</td>\n",
       "      <td>[u]</td>\n",
       "      <td>[0]</td>\n",
       "      <td>ParlaMint-HR_S14.u2850</td>\n",
       "      <td>ParlaMint-HR_S14.u2850</td>\n",
       "      <td>...</td>\n",
       "      <td>MP</td>\n",
       "      <td>HDZ</td>\n",
       "      <td>Klub Hrvatske demokratske zajednice</td>\n",
       "      <td>Coalition</td>\n",
       "      <td>Maksimčuk, Ljubica</td>\n",
       "      <td>F</td>\n",
       "      <td>1973</td>\n",
       "      <td>u</td>\n",
       "      <td>center-right</td>\n",
       "      <td>0.08</td>\n",
       "    </tr>\n",
       "    <tr>\n",
       "      <th>140513</th>\n",
       "      <td>Ipptk7Qntq4_6060.89-6060.99.wav</td>\n",
       "      <td>12 12 2017 - 2. dio, 6. sjednica, 9. saziv [Ip...</td>\n",
       "      <td>6060.89</td>\n",
       "      <td>6060.99</td>\n",
       "      <td>[u]</td>\n",
       "      <td>[0]</td>\n",
       "      <td>[u]</td>\n",
       "      <td>[0]</td>\n",
       "      <td>ParlaMint-HR_S06.u6388</td>\n",
       "      <td>ParlaMint-HR_S06.u6388</td>\n",
       "      <td>...</td>\n",
       "      <td>MP</td>\n",
       "      <td>SDP</td>\n",
       "      <td>Klub Socijaldemokratske partije Hrvatske</td>\n",
       "      <td>Opposition</td>\n",
       "      <td>Đujić, Saša</td>\n",
       "      <td>M</td>\n",
       "      <td>1981</td>\n",
       "      <td>u</td>\n",
       "      <td>center-left</td>\n",
       "      <td>0.10</td>\n",
       "    </tr>\n",
       "    <tr>\n",
       "      <th>377373</th>\n",
       "      <td>zIjE0oB5OIg_8854.59-8854.71.wav</td>\n",
       "      <td>16 4 2020 - 16. sjednica, 9. saziv [zIjE0oB5OI...</td>\n",
       "      <td>8854.59</td>\n",
       "      <td>8854.71</td>\n",
       "      <td>[da]</td>\n",
       "      <td>[0]</td>\n",
       "      <td>[da]</td>\n",
       "      <td>[0]</td>\n",
       "      <td>ParlaMint-HR_S16.u9044</td>\n",
       "      <td>ParlaMint-HR_S16.u9044</td>\n",
       "      <td>...</td>\n",
       "      <td>MP</td>\n",
       "      <td>SDP</td>\n",
       "      <td>Klub Socijaldemokratske partije Hrvatske</td>\n",
       "      <td>Opposition</td>\n",
       "      <td>Đujić, Saša</td>\n",
       "      <td>M</td>\n",
       "      <td>1981</td>\n",
       "      <td>da</td>\n",
       "      <td>center-left</td>\n",
       "      <td>0.12</td>\n",
       "    </tr>\n",
       "  </tbody>\n",
       "</table>\n",
       "<p>3 rows × 24 columns</p>\n",
       "</div>"
      ],
      "text/plain": [
       "                                     path  \\\n",
       "266676  y5Rpk9AIbMY_16451.77-16451.85.wav   \n",
       "140513    Ipptk7Qntq4_6060.89-6060.99.wav   \n",
       "377373    zIjE0oB5OIg_8854.59-8854.71.wav   \n",
       "\n",
       "                                                orig_file     start       end  \\\n",
       "266676  3 10 2019 - 14. sjednica, 9. saziv [y5Rpk9AIbM...  16451.77  16451.85   \n",
       "140513  12 12 2017 - 2. dio, 6. sjednica, 9. saziv [Ip...   6060.89   6060.99   \n",
       "377373  16 4 2020 - 16. sjednica, 9. saziv [zIjE0oB5OI...   8854.59   8854.71   \n",
       "\n",
       "       words word_start_times norm_words norm_words_start_times  \\\n",
       "266676   [u]              [0]        [u]                    [0]   \n",
       "140513   [u]              [0]        [u]                    [0]   \n",
       "377373  [da]              [0]       [da]                    [0]   \n",
       "\n",
       "            utterance_id_start        utterance_id_end  ... Speaker_type  \\\n",
       "266676  ParlaMint-HR_S14.u2850  ParlaMint-HR_S14.u2850  ...           MP   \n",
       "140513  ParlaMint-HR_S06.u6388  ParlaMint-HR_S06.u6388  ...           MP   \n",
       "377373  ParlaMint-HR_S16.u9044  ParlaMint-HR_S16.u9044  ...           MP   \n",
       "\n",
       "       Speaker_party                        Speaker_party_name Party_status  \\\n",
       "266676           HDZ       Klub Hrvatske demokratske zajednice    Coalition   \n",
       "140513           SDP  Klub Socijaldemokratske partije Hrvatske   Opposition   \n",
       "377373           SDP  Klub Socijaldemokratske partije Hrvatske   Opposition   \n",
       "\n",
       "              Speaker_name Speaker_gender Speaker_birth  \\\n",
       "266676  Maksimčuk, Ljubica              F          1973   \n",
       "140513         Đujić, Saša              M          1981   \n",
       "377373         Đujić, Saša              M          1981   \n",
       "\n",
       "       processed_transcription Speaker_party_orientation audio_length  \n",
       "266676                       u              center-right         0.08  \n",
       "140513                       u               center-left         0.10  \n",
       "377373                      da               center-left         0.12  \n",
       "\n",
       "[3 rows x 24 columns]"
      ]
     },
     "execution_count": 7,
     "metadata": {},
     "output_type": "execute_result"
    }
   ],
   "source": [
    "df.sort_values(by=\"audio_length\").head(3)"
   ]
  },
  {
   "cell_type": "markdown",
   "metadata": {},
   "source": [
    "# Calculate speaker age at the date of recording"
   ]
  },
  {
   "cell_type": "code",
   "execution_count": 5,
   "metadata": {},
   "outputs": [],
   "source": [
    "df.head()\n",
    "\n",
    "from datetime import datetime\n",
    "def get_date_from_filename(s: str)->datetime:\n",
    "    from parse import compile\n",
    "    pattern = \"{day:d} {month:d} {year:d} {rest}\"\n",
    "\n",
    "    p = compile(pattern)\n",
    "    results = p.search(s)\n",
    "\n",
    "    if not results:\n",
    "        return None\n",
    "    return datetime(results[\"year\"], results[\"month\"], results[\"day\"])\n",
    "\n",
    "df[\"recording_datetime\"] = df.orig_file.apply(get_date_from_filename)\n"
   ]
  },
  {
   "cell_type": "code",
   "execution_count": 6,
   "metadata": {},
   "outputs": [],
   "source": [
    "def get_speaker_age_at_recording(row):\n",
    "    try:\n",
    "        return row[\"recording_datetime\"].year - int(row[\"Speaker_birth\"])\n",
    "    except ValueError:\n",
    "        return None\n",
    "\n",
    "df[\"Speaker_age_at_recording\"] = df.apply(get_speaker_age_at_recording, axis=1)"
   ]
  },
  {
   "cell_type": "code",
   "execution_count": 10,
   "metadata": {},
   "outputs": [
    {
     "data": {
      "image/png": "[encoded data removed]",
      "text/plain": [
       "<Figure size 360x288 with 1 Axes>"
      ]
     },
     "metadata": {
      "needs_background": "light"
     },
     "output_type": "display_data"
    }
   ],
   "source": [
    "import matplotlib.pyplot as plt\n",
    "\n",
    "try:\n",
    "    plt.style.use(\"science no-latex\".split())\n",
    "except:\n",
    "    pass\n",
    "genders = [\"M\", \"F\"]\n",
    "\n",
    "fig, ax = plt.subplots(figsize=(5, 4))\n",
    "for gender in genders:\n",
    "    df[df.Speaker_gender == gender].Speaker_age_at_recording.plot(\n",
    "        kind=\"hist\", ax=ax, label=gender, bins=29\n",
    "    )\n",
    "plt.legend()\n",
    "plt.title(\"Gender distribution by age\")\n",
    "plt.show()\n"
   ]
  },
  {
   "cell_type": "markdown",
   "metadata": {},
   "source": [
    "## Is the result different if we drop all the NaNs?"
   ]
  },
  {
   "cell_type": "code",
   "execution_count": 11,
   "metadata": {},
   "outputs": [
    {
     "data": {
      "image/png": "[encoded data removed]",
      "text/plain": [
       "<Figure size 720x288 with 1 Axes>"
      ]
     },
     "metadata": {
      "needs_background": "light"
     },
     "output_type": "display_data"
    }
   ],
   "source": [
    "import matplotlib.pyplot as plt\n",
    "\n",
    "try:\n",
    "    plt.style.use(\"science no-latex\".split())\n",
    "except:\n",
    "    pass\n",
    "genders = [\"M\", \"F\"]\n",
    "\n",
    "fig, ax = plt.subplots(figsize=(10, 4))\n",
    "subdf = df[(~df.Speaker_age_at_recording.isna()) & (df.audio_length>8) ]\n",
    "for gender in genders:\n",
    "    subdf[subdf.Speaker_gender == gender].Speaker_age_at_recording.plot(\n",
    "        kind=\"hist\", ax=ax, label=gender, bins=29\n",
    "    )\n",
    "plt.legend()\n",
    "plt.title(\"Gender distribution by age where\\ngender is not NaN and audio is longer than 8s\")\n",
    "plt.show()\n"
   ]
  },
  {
   "cell_type": "code",
   "execution_count": 12,
   "metadata": {},
   "outputs": [
    {
     "data": {
      "text/plain": [
       "48.0"
      ]
     },
     "execution_count": 12,
     "metadata": {},
     "output_type": "execute_result"
    }
   ],
   "source": [
    "df.Speaker_age_at_recording.median()"
   ]
  },
  {
   "cell_type": "code",
   "execution_count": 13,
   "metadata": {},
   "outputs": [
    {
     "data": {
      "text/plain": [
       "47.0"
      ]
     },
     "execution_count": 13,
     "metadata": {},
     "output_type": "execute_result"
    }
   ],
   "source": [
    "df[df.Speaker_gender == \"M\"].Speaker_age_at_recording.median()"
   ]
  },
  {
   "cell_type": "code",
   "execution_count": 14,
   "metadata": {},
   "outputs": [
    {
     "data": {
      "text/plain": [
       "54.0"
      ]
     },
     "execution_count": 14,
     "metadata": {},
     "output_type": "execute_result"
    }
   ],
   "source": [
    "df[df.Speaker_gender == \"F\"].Speaker_age_at_recording.median()\n"
   ]
  },
  {
   "cell_type": "code",
   "execution_count": 15,
   "metadata": {},
   "outputs": [
    {
     "data": {
      "text/plain": [
       "286.51737777777777"
      ]
     },
     "execution_count": 15,
     "metadata": {},
     "output_type": "execute_result"
    }
   ],
   "source": [
    "df.loc[(df.Speaker_gender==\"F\") & (df.audio_length > 8), \"audio_length\"].sum() / 3600"
   ]
  },
  {
   "cell_type": "code",
   "execution_count": 16,
   "metadata": {},
   "outputs": [
    {
     "data": {
      "text/plain": [
       "Index(['speaker_info', 'split', 'norm_words_edited', 'Speaker_role',\n",
       "       'Speaker_type', 'Speaker_party', 'Speaker_party_name', 'Party_status',\n",
       "       'Speaker_name', 'Speaker_gender', 'Speaker_birth',\n",
       "       'Speaker_party_orientation', 'Speaker_age_at_recording'],\n",
       "      dtype='object')"
      ]
     },
     "execution_count": 16,
     "metadata": {},
     "output_type": "execute_result"
    }
   ],
   "source": [
    "df.isnull().any()[df.isnull().any()].index"
   ]
  },
  {
   "cell_type": "code",
   "execution_count": 17,
   "metadata": {},
   "outputs": [
    {
     "data": {
      "text/plain": [
       "array(['MP', nan, 'notMP', '-'], dtype=object)"
      ]
     },
     "execution_count": 17,
     "metadata": {},
     "output_type": "execute_result"
    }
   ],
   "source": [
    "df.Speaker_type.unique()"
   ]
  },
  {
   "cell_type": "markdown",
   "metadata": {},
   "source": [
    "# First attempt\n",
    "\n",
    "* Drop useless columns.\n",
    "* Drop NaNs.\n",
    "* Drop instances shorter than some length.\n",
    "* Produce a balanced M-F dataset."
   ]
  },
  {
   "cell_type": "code",
   "execution_count": 18,
   "metadata": {},
   "outputs": [
    {
     "data": {
      "text/plain": [
       "(262978, 15)"
      ]
     },
     "execution_count": 18,
     "metadata": {},
     "output_type": "execute_result"
    }
   ],
   "source": [
    "df.columns\n",
    "\n",
    "columns_to_keep = [\n",
    "    \"path\",\n",
    "    \"words\",\n",
    "    \"split\",\n",
    "    \"Speaker_role\",\n",
    "    \"Speaker_type\",\n",
    "    \"Speaker_party\",\n",
    "    \"Speaker_party_name\",\n",
    "    \"Party_status\",\n",
    "    \"Speaker_name\",\n",
    "    \"Speaker_gender\",\n",
    "    \"Speaker_birth\",\n",
    "    \"processed_transcription\",\n",
    "    \"Speaker_party_orientation\",\n",
    "    \"audio_length\",\n",
    "    \"Speaker_age_at_recording\",\n",
    "]\n",
    "min_length = 8\n",
    "C_audio_longer_than_limit = df.audio_length > min_length\n",
    "df1 = df.loc[C_audio_longer_than_limit, columns_to_keep].dropna()\n",
    "df1.shape"
   ]
  },
  {
   "cell_type": "markdown",
   "metadata": {},
   "source": [
    "Idea 1: go for max coverage (max number of speakers)\n",
    "\n",
    "One by one include the least productive speakers until I have 400h of data."
   ]
  },
  {
   "cell_type": "code",
   "execution_count": 19,
   "metadata": {},
   "outputs": [
    {
     "data": {
      "text/plain": [
       "425.71000277777773"
      ]
     },
     "execution_count": 19,
     "metadata": {},
     "output_type": "execute_result"
    }
   ],
   "source": [
    "valcounts = df1.Speaker_name.value_counts()[::-1]\n",
    "accepted_speakers = list()\n",
    "target_lentgh_hours = 400\n",
    "for speaker in valcounts.index:\n",
    "    gender_counter = df1[df1.Speaker_name.isin(accepted_speakers)].Speaker_gender.value_counts()\n",
    "    M_count = gender_counter.get(\"M\", 0)\n",
    "    F_count = gender_counter.get(\"F\", 0)\n",
    "\n",
    "    current_gender = df1[df1.Speaker_name == speaker].Speaker_gender.values[0]\n",
    "\n",
    "    if M_count > F_count:\n",
    "        # We want female speakers\n",
    "        if current_gender != \"F\":\n",
    "            continue\n",
    "        \n",
    "    accepted_speakers.append(speaker)\n",
    "    length = df1[df1.Speaker_name.isin(accepted_speakers)].audio_length.sum()\n",
    "    if length > target_lentgh_hours * 3600:\n",
    "        break\n",
    "\n",
    "length / 3600"
   ]
  },
  {
   "cell_type": "code",
   "execution_count": 20,
   "metadata": {},
   "outputs": [
    {
     "data": {
      "text/html": [
       "<div>\n",
       "<style scoped>\n",
       "    .dataframe tbody tr th:only-of-type {\n",
       "        vertical-align: middle;\n",
       "    }\n",
       "\n",
       "    .dataframe tbody tr th {\n",
       "        vertical-align: top;\n",
       "    }\n",
       "\n",
       "    .dataframe thead th {\n",
       "        text-align: right;\n",
       "    }\n",
       "</style>\n",
       "<table border=\"1\" class=\"dataframe\">\n",
       "  <thead>\n",
       "    <tr style=\"text-align: right;\">\n",
       "      <th></th>\n",
       "      <th>count</th>\n",
       "      <th>audio_length</th>\n",
       "      <th>Speaker_gender</th>\n",
       "      <th>Speaker_age_at_recording</th>\n",
       "    </tr>\n",
       "    <tr>\n",
       "      <th>Speaker_name</th>\n",
       "      <th></th>\n",
       "      <th></th>\n",
       "      <th></th>\n",
       "      <th></th>\n",
       "    </tr>\n",
       "  </thead>\n",
       "  <tbody>\n",
       "    <tr>\n",
       "      <th>Ahmetović, Mirela</th>\n",
       "      <td>39</td>\n",
       "      <td>743.59</td>\n",
       "      <td>F</td>\n",
       "      <td>39.000000</td>\n",
       "    </tr>\n",
       "    <tr>\n",
       "      <th>Alfirev, Marija</th>\n",
       "      <td>1679</td>\n",
       "      <td>27980.36</td>\n",
       "      <td>F</td>\n",
       "      <td>57.330554</td>\n",
       "    </tr>\n",
       "    <tr>\n",
       "      <th>Balić, Marijana</th>\n",
       "      <td>239</td>\n",
       "      <td>4502.72</td>\n",
       "      <td>F</td>\n",
       "      <td>37.150628</td>\n",
       "    </tr>\n",
       "    <tr>\n",
       "      <th>Baričević, Martin</th>\n",
       "      <td>122</td>\n",
       "      <td>1989.32</td>\n",
       "      <td>M</td>\n",
       "      <td>51.147541</td>\n",
       "    </tr>\n",
       "    <tr>\n",
       "      <th>Bačić, Ante</th>\n",
       "      <td>1270</td>\n",
       "      <td>23030.29</td>\n",
       "      <td>M</td>\n",
       "      <td>34.699213</td>\n",
       "    </tr>\n",
       "    <tr>\n",
       "      <th>...</th>\n",
       "      <td>...</td>\n",
       "      <td>...</td>\n",
       "      <td>...</td>\n",
       "      <td>...</td>\n",
       "    </tr>\n",
       "    <tr>\n",
       "      <th>Zmajlović, Mihael</th>\n",
       "      <td>363</td>\n",
       "      <td>6252.56</td>\n",
       "      <td>M</td>\n",
       "      <td>40.278237</td>\n",
       "    </tr>\n",
       "    <tr>\n",
       "      <th>Ćelić, Ivan</th>\n",
       "      <td>1384</td>\n",
       "      <td>25438.04</td>\n",
       "      <td>M</td>\n",
       "      <td>42.315751</td>\n",
       "    </tr>\n",
       "    <tr>\n",
       "      <th>Čikotić, Sonja</th>\n",
       "      <td>1032</td>\n",
       "      <td>18896.18</td>\n",
       "      <td>F</td>\n",
       "      <td>32.738372</td>\n",
       "    </tr>\n",
       "    <tr>\n",
       "      <th>Šapina, Stipo</th>\n",
       "      <td>142</td>\n",
       "      <td>2412.52</td>\n",
       "      <td>M</td>\n",
       "      <td>56.704225</td>\n",
       "    </tr>\n",
       "    <tr>\n",
       "      <th>Škorić, Petar</th>\n",
       "      <td>990</td>\n",
       "      <td>17768.62</td>\n",
       "      <td>M</td>\n",
       "      <td>46.361616</td>\n",
       "    </tr>\n",
       "  </tbody>\n",
       "</table>\n",
       "<p>62 rows × 4 columns</p>\n",
       "</div>"
      ],
      "text/plain": [
       "                   count  audio_length Speaker_gender  \\\n",
       "Speaker_name                                            \n",
       "Ahmetović, Mirela     39        743.59              F   \n",
       "Alfirev, Marija     1679      27980.36              F   \n",
       "Balić, Marijana      239       4502.72              F   \n",
       "Baričević, Martin    122       1989.32              M   \n",
       "Bačić, Ante         1270      23030.29              M   \n",
       "...                  ...           ...            ...   \n",
       "Zmajlović, Mihael    363       6252.56              M   \n",
       "Ćelić, Ivan         1384      25438.04              M   \n",
       "Čikotić, Sonja      1032      18896.18              F   \n",
       "Šapina, Stipo        142       2412.52              M   \n",
       "Škorić, Petar        990      17768.62              M   \n",
       "\n",
       "                   Speaker_age_at_recording  \n",
       "Speaker_name                                 \n",
       "Ahmetović, Mirela                 39.000000  \n",
       "Alfirev, Marija                   57.330554  \n",
       "Balić, Marijana                   37.150628  \n",
       "Baričević, Martin                 51.147541  \n",
       "Bačić, Ante                       34.699213  \n",
       "...                                     ...  \n",
       "Zmajlović, Mihael                 40.278237  \n",
       "Ćelić, Ivan                       42.315751  \n",
       "Čikotić, Sonja                    32.738372  \n",
       "Šapina, Stipo                     56.704225  \n",
       "Škorić, Petar                     46.361616  \n",
       "\n",
       "[62 rows x 4 columns]"
      ]
     },
     "execution_count": 20,
     "metadata": {},
     "output_type": "execute_result"
    }
   ],
   "source": [
    "gb = df1[df1.Speaker_name.isin(accepted_speakers)].groupby(\"Speaker_name\").agg({\n",
    "    \"Speaker_name\": \"count\",\n",
    "    \"audio_length\": sum,\n",
    "    \"Speaker_gender\": lambda i: list(i)[0],\n",
    "    'Speaker_age_at_recording':  \"mean\",\n",
    "}).rename(columns={\"Speaker_name\": \"count\"})\n",
    "gb\n"
   ]
  },
  {
   "cell_type": "code",
   "execution_count": 21,
   "metadata": {},
   "outputs": [
    {
     "data": {
      "image/png": "[encoded data removed]",
      "text/plain": [
       "<Figure size 360x288 with 1 Axes>"
      ]
     },
     "metadata": {
      "needs_background": "light"
     },
     "output_type": "display_data"
    }
   ],
   "source": [
    "fig, ax = plt.subplots(figsize=(5, 4))\n",
    "\n",
    "for gender in [\"M\", \"F\"][::-1]:\n",
    "    gb[gb.Speaker_gender == gender].Speaker_age_at_recording.plot.hist(\n",
    "        label=gender, ax=ax, alpha=0.4, bins=15\n",
    "    )\n",
    "plt.legend()\n",
    "plt.title(\"Proposed dataset, per speaker age distribution\")\n",
    "plt.show()\n"
   ]
  },
  {
   "cell_type": "code",
   "execution_count": 22,
   "metadata": {},
   "outputs": [
    {
     "data": {
      "image/png": "[encoded data removed]",
      "text/plain": [
       "<Figure size 360x288 with 1 Axes>"
      ]
     },
     "metadata": {
      "needs_background": "light"
     },
     "output_type": "display_data"
    }
   ],
   "source": [
    "fig, ax = plt.subplots(figsize=(5, 4))\n",
    "\n",
    "for gender in [\"M\", \"F\"][::-1]:\n",
    "    gb[gb.Speaker_gender == gender].audio_length.plot.hist(\n",
    "        label=gender, ax=ax, alpha=0.6, bins=30, rot=45, \n",
    "    )\n",
    "plt.legend()\n",
    "plt.title(\"Proposed dataset, per speaker length distribution\")\n",
    "plt.show()\n"
   ]
  },
  {
   "cell_type": "code",
   "execution_count": 23,
   "metadata": {},
   "outputs": [
    {
     "data": {
      "text/html": [
       "<div>\n",
       "<style scoped>\n",
       "    .dataframe tbody tr th:only-of-type {\n",
       "        vertical-align: middle;\n",
       "    }\n",
       "\n",
       "    .dataframe tbody tr th {\n",
       "        vertical-align: top;\n",
       "    }\n",
       "\n",
       "    .dataframe thead th {\n",
       "        text-align: right;\n",
       "    }\n",
       "</style>\n",
       "<table border=\"1\" class=\"dataframe\">\n",
       "  <thead>\n",
       "    <tr style=\"text-align: right;\">\n",
       "      <th></th>\n",
       "      <th>count</th>\n",
       "      <th>audio_length</th>\n",
       "      <th>Speaker_gender</th>\n",
       "      <th>Speaker_age_at_recording</th>\n",
       "    </tr>\n",
       "    <tr>\n",
       "      <th>Speaker_name</th>\n",
       "      <th></th>\n",
       "      <th></th>\n",
       "      <th></th>\n",
       "      <th></th>\n",
       "    </tr>\n",
       "  </thead>\n",
       "  <tbody>\n",
       "    <tr>\n",
       "      <th>Milinković, Dražen</th>\n",
       "      <td>26</td>\n",
       "      <td>471.95</td>\n",
       "      <td>M</td>\n",
       "      <td>55.000000</td>\n",
       "    </tr>\n",
       "    <tr>\n",
       "      <th>Dragovan, Igor</th>\n",
       "      <td>40</td>\n",
       "      <td>686.07</td>\n",
       "      <td>M</td>\n",
       "      <td>50.075000</td>\n",
       "    </tr>\n",
       "    <tr>\n",
       "      <th>Ahmetović, Mirela</th>\n",
       "      <td>39</td>\n",
       "      <td>743.59</td>\n",
       "      <td>F</td>\n",
       "      <td>39.000000</td>\n",
       "    </tr>\n",
       "    <tr>\n",
       "      <th>Baričević, Martin</th>\n",
       "      <td>122</td>\n",
       "      <td>1989.32</td>\n",
       "      <td>M</td>\n",
       "      <td>51.147541</td>\n",
       "    </tr>\n",
       "    <tr>\n",
       "      <th>Lekaj-Prljaskaj, Ermina</th>\n",
       "      <td>117</td>\n",
       "      <td>2094.34</td>\n",
       "      <td>F</td>\n",
       "      <td>46.794872</td>\n",
       "    </tr>\n",
       "    <tr>\n",
       "      <th>...</th>\n",
       "      <td>...</td>\n",
       "      <td>...</td>\n",
       "      <td>...</td>\n",
       "      <td>...</td>\n",
       "    </tr>\n",
       "    <tr>\n",
       "      <th>Pusić, Vesna</th>\n",
       "      <td>3632</td>\n",
       "      <td>61397.07</td>\n",
       "      <td>F</td>\n",
       "      <td>65.298183</td>\n",
       "    </tr>\n",
       "    <tr>\n",
       "      <th>Glasovac, Sabina</th>\n",
       "      <td>3623</td>\n",
       "      <td>64662.06</td>\n",
       "      <td>F</td>\n",
       "      <td>40.174165</td>\n",
       "    </tr>\n",
       "    <tr>\n",
       "      <th>Hrelja, Silvano</th>\n",
       "      <td>3743</td>\n",
       "      <td>64899.45</td>\n",
       "      <td>M</td>\n",
       "      <td>59.969810</td>\n",
       "    </tr>\n",
       "    <tr>\n",
       "      <th>Borić, Josip</th>\n",
       "      <td>4006</td>\n",
       "      <td>72113.69</td>\n",
       "      <td>M</td>\n",
       "      <td>45.778582</td>\n",
       "    </tr>\n",
       "    <tr>\n",
       "      <th>Mrak-Taritaš, Anka</th>\n",
       "      <td>10047</td>\n",
       "      <td>186726.30</td>\n",
       "      <td>F</td>\n",
       "      <td>59.306858</td>\n",
       "    </tr>\n",
       "  </tbody>\n",
       "</table>\n",
       "<p>62 rows × 4 columns</p>\n",
       "</div>"
      ],
      "text/plain": [
       "                         count  audio_length Speaker_gender  \\\n",
       "Speaker_name                                                  \n",
       "Milinković, Dražen          26        471.95              M   \n",
       "Dragovan, Igor              40        686.07              M   \n",
       "Ahmetović, Mirela           39        743.59              F   \n",
       "Baričević, Martin          122       1989.32              M   \n",
       "Lekaj-Prljaskaj, Ermina    117       2094.34              F   \n",
       "...                        ...           ...            ...   \n",
       "Pusić, Vesna              3632      61397.07              F   \n",
       "Glasovac, Sabina          3623      64662.06              F   \n",
       "Hrelja, Silvano           3743      64899.45              M   \n",
       "Borić, Josip              4006      72113.69              M   \n",
       "Mrak-Taritaš, Anka       10047     186726.30              F   \n",
       "\n",
       "                         Speaker_age_at_recording  \n",
       "Speaker_name                                       \n",
       "Milinković, Dražen                      55.000000  \n",
       "Dragovan, Igor                          50.075000  \n",
       "Ahmetović, Mirela                       39.000000  \n",
       "Baričević, Martin                       51.147541  \n",
       "Lekaj-Prljaskaj, Ermina                 46.794872  \n",
       "...                                           ...  \n",
       "Pusić, Vesna                            65.298183  \n",
       "Glasovac, Sabina                        40.174165  \n",
       "Hrelja, Silvano                         59.969810  \n",
       "Borić, Josip                            45.778582  \n",
       "Mrak-Taritaš, Anka                      59.306858  \n",
       "\n",
       "[62 rows x 4 columns]"
      ]
     },
     "execution_count": 23,
     "metadata": {},
     "output_type": "execute_result"
    }
   ],
   "source": [
    "gb.sort_values(\"audio_length\")"
   ]
  },
  {
   "cell_type": "code",
   "execution_count": 24,
   "metadata": {},
   "outputs": [
    {
     "data": {
      "image/png": "[encoded data removed]",
      "text/plain": [
       "<Figure size 360x288 with 1 Axes>"
      ]
     },
     "metadata": {
      "needs_background": "light"
     },
     "output_type": "display_data"
    }
   ],
   "source": [
    "fig, ax = plt.subplots(figsize=(5, 4))\n",
    "\n",
    "\n",
    "for gender in \"MF\":\n",
    "    df1[\n",
    "        df1.Speaker_name.isin(accepted_speakers) & (df1.Speaker_gender == gender)\n",
    "    ].audio_length.plot.hist(ax=ax, density=True, label=gender, alpha=0.5)\n",
    "plt.legend()\n",
    "plt.title(\"Distribution of audio lengths\")\n",
    "plt.semilogy()\n",
    "plt.show()\n"
   ]
  },
  {
   "cell_type": "code",
   "execution_count": 25,
   "metadata": {},
   "outputs": [
    {
     "data": {
      "text/plain": [
       "1532556.0099999998"
      ]
     },
     "execution_count": 25,
     "metadata": {},
     "output_type": "execute_result"
    }
   ],
   "source": [
    "df1[df1.Speaker_name.isin(accepted_speakers)].audio_length.sum()"
   ]
  },
  {
   "cell_type": "code",
   "execution_count": 26,
   "metadata": {},
   "outputs": [
    {
     "data": {
      "text/plain": [
       "1532556.0100000007"
      ]
     },
     "execution_count": 26,
     "metadata": {},
     "output_type": "execute_result"
    }
   ],
   "source": [
    "gb.audio_length.sum()"
   ]
  },
  {
   "cell_type": "markdown",
   "metadata": {},
   "source": [
    "# Second attempt\n",
    "\n",
    "From the paper:\n",
    "\n",
    "\n",
    "Speaker identification (closed, 50 speakers, 100 instances in train per speaker, 10 in dev 10 in test, same in train, dev and test, each bin from different video subsets)\n",
    "\n",
    "%Speaker verification (open)?\n",
    "\n",
    "Gender (1000 training samples?, control for speaker and age)\n",
    "\n",
    "Age (1000 training samples?, we need a histogram of age, quite likely will be a binary problem, or rather regression, control for speaker (and gender - or rather go with men only)) - two or three classes quite likely\n"
   ]
  },
  {
   "cell_type": "code",
   "execution_count": 27,
   "metadata": {},
   "outputs": [
    {
     "data": {
      "text/plain": [
       "(262978, 15)"
      ]
     },
     "execution_count": 27,
     "metadata": {},
     "output_type": "execute_result"
    }
   ],
   "source": [
    "\n",
    "columns_to_keep = [\n",
    "    \"path\",\n",
    "    \"words\",\n",
    "    \"split\",\n",
    "    \"Speaker_role\",\n",
    "    \"Speaker_type\",\n",
    "    \"Speaker_party\",\n",
    "    \"Speaker_party_name\",\n",
    "    \"Party_status\",\n",
    "    \"Speaker_name\",\n",
    "    \"Speaker_gender\",\n",
    "    \"Speaker_birth\",\n",
    "    \"processed_transcription\",\n",
    "    \"Speaker_party_orientation\",\n",
    "    \"audio_length\",\n",
    "    \"Speaker_age_at_recording\",\n",
    "]\n",
    "min_length = 8\n",
    "C_audio_longer_than_limit = df.audio_length > min_length\n",
    "df2 = df.loc[C_audio_longer_than_limit, columns_to_keep].dropna()\n",
    "df2.shape"
   ]
  },
  {
   "cell_type": "code",
   "execution_count": 28,
   "metadata": {},
   "outputs": [
    {
     "data": {
      "text/html": [
       "<div>\n",
       "<style scoped>\n",
       "    .dataframe tbody tr th:only-of-type {\n",
       "        vertical-align: middle;\n",
       "    }\n",
       "\n",
       "    .dataframe tbody tr th {\n",
       "        vertical-align: top;\n",
       "    }\n",
       "\n",
       "    .dataframe thead th {\n",
       "        text-align: right;\n",
       "    }\n",
       "</style>\n",
       "<table border=\"1\" class=\"dataframe\">\n",
       "  <thead>\n",
       "    <tr style=\"text-align: right;\">\n",
       "      <th></th>\n",
       "      <th>Speaker_name</th>\n",
       "      <th>audio_length</th>\n",
       "      <th>Speaker_gender</th>\n",
       "      <th>Speaker_age_at_recording</th>\n",
       "      <th>Count</th>\n",
       "    </tr>\n",
       "    <tr>\n",
       "      <th>Speaker_name</th>\n",
       "      <th></th>\n",
       "      <th></th>\n",
       "      <th></th>\n",
       "      <th></th>\n",
       "      <th></th>\n",
       "    </tr>\n",
       "  </thead>\n",
       "  <tbody>\n",
       "    <tr>\n",
       "      <th>Bulj, Miro</th>\n",
       "      <td>Bulj, Miro</td>\n",
       "      <td>91.927733</td>\n",
       "      <td>M</td>\n",
       "      <td>46.0</td>\n",
       "      <td>19394</td>\n",
       "    </tr>\n",
       "    <tr>\n",
       "      <th>Maras, Gordan</th>\n",
       "      <td>Maras, Gordan</td>\n",
       "      <td>65.979692</td>\n",
       "      <td>M</td>\n",
       "      <td>44.0</td>\n",
       "      <td>13316</td>\n",
       "    </tr>\n",
       "    <tr>\n",
       "      <th>Mrak-Taritaš, Anka</th>\n",
       "      <td>Mrak-Taritaš, Anka</td>\n",
       "      <td>51.868417</td>\n",
       "      <td>F</td>\n",
       "      <td>59.0</td>\n",
       "      <td>10047</td>\n",
       "    </tr>\n",
       "    <tr>\n",
       "      <th>Bačić, Branko</th>\n",
       "      <td>Bačić, Branko</td>\n",
       "      <td>34.452764</td>\n",
       "      <td>M</td>\n",
       "      <td>59.0</td>\n",
       "      <td>7266</td>\n",
       "    </tr>\n",
       "    <tr>\n",
       "      <th>Žagar, Tomislav</th>\n",
       "      <td>Žagar, Tomislav</td>\n",
       "      <td>32.850731</td>\n",
       "      <td>M</td>\n",
       "      <td>49.0</td>\n",
       "      <td>6827</td>\n",
       "    </tr>\n",
       "    <tr>\n",
       "      <th>...</th>\n",
       "      <td>...</td>\n",
       "      <td>...</td>\n",
       "      <td>...</td>\n",
       "      <td>...</td>\n",
       "      <td>...</td>\n",
       "    </tr>\n",
       "    <tr>\n",
       "      <th>Ahmetović, Mirela</th>\n",
       "      <td>Ahmetović, Mirela</td>\n",
       "      <td>0.206553</td>\n",
       "      <td>F</td>\n",
       "      <td>39.0</td>\n",
       "      <td>39</td>\n",
       "    </tr>\n",
       "    <tr>\n",
       "      <th>Dragovan, Igor</th>\n",
       "      <td>Dragovan, Igor</td>\n",
       "      <td>0.190575</td>\n",
       "      <td>M</td>\n",
       "      <td>50.5</td>\n",
       "      <td>40</td>\n",
       "    </tr>\n",
       "    <tr>\n",
       "      <th>Kustić, Marijan</th>\n",
       "      <td>Kustić, Marijan</td>\n",
       "      <td>0.173183</td>\n",
       "      <td>M</td>\n",
       "      <td>43.0</td>\n",
       "      <td>36</td>\n",
       "    </tr>\n",
       "    <tr>\n",
       "      <th>Grgić, Vinko</th>\n",
       "      <td>Grgić, Vinko</td>\n",
       "      <td>0.151272</td>\n",
       "      <td>M</td>\n",
       "      <td>48.0</td>\n",
       "      <td>31</td>\n",
       "    </tr>\n",
       "    <tr>\n",
       "      <th>Milinković, Dražen</th>\n",
       "      <td>Milinković, Dražen</td>\n",
       "      <td>0.131097</td>\n",
       "      <td>M</td>\n",
       "      <td>55.0</td>\n",
       "      <td>26</td>\n",
       "    </tr>\n",
       "  </tbody>\n",
       "</table>\n",
       "<p>156 rows × 5 columns</p>\n",
       "</div>"
      ],
      "text/plain": [
       "                          Speaker_name  audio_length Speaker_gender  \\\n",
       "Speaker_name                                                          \n",
       "Bulj, Miro                  Bulj, Miro     91.927733              M   \n",
       "Maras, Gordan            Maras, Gordan     65.979692              M   \n",
       "Mrak-Taritaš, Anka  Mrak-Taritaš, Anka     51.868417              F   \n",
       "Bačić, Branko            Bačić, Branko     34.452764              M   \n",
       "Žagar, Tomislav        Žagar, Tomislav     32.850731              M   \n",
       "...                                ...           ...            ...   \n",
       "Ahmetović, Mirela    Ahmetović, Mirela      0.206553              F   \n",
       "Dragovan, Igor          Dragovan, Igor      0.190575              M   \n",
       "Kustić, Marijan        Kustić, Marijan      0.173183              M   \n",
       "Grgić, Vinko              Grgić, Vinko      0.151272              M   \n",
       "Milinković, Dražen  Milinković, Dražen      0.131097              M   \n",
       "\n",
       "                    Speaker_age_at_recording  Count  \n",
       "Speaker_name                                         \n",
       "Bulj, Miro                              46.0  19394  \n",
       "Maras, Gordan                           44.0  13316  \n",
       "Mrak-Taritaš, Anka                      59.0  10047  \n",
       "Bačić, Branko                           59.0   7266  \n",
       "Žagar, Tomislav                         49.0   6827  \n",
       "...                                      ...    ...  \n",
       "Ahmetović, Mirela                       39.0     39  \n",
       "Dragovan, Igor                          50.5     40  \n",
       "Kustić, Marijan                         43.0     36  \n",
       "Grgić, Vinko                            48.0     31  \n",
       "Milinković, Dražen                      55.0     26  \n",
       "\n",
       "[156 rows x 5 columns]"
      ]
     },
     "execution_count": 28,
     "metadata": {},
     "output_type": "execute_result"
    }
   ],
   "source": [
    "gb = df2.groupby(\"Speaker_name\").agg({\n",
    "    \"Speaker_name\":  lambda i: list(i)[0],\n",
    "    \"audio_length\": lambda i: sum(i) / 3600,\n",
    "    \"Speaker_gender\":  lambda i: list(i)[0],\n",
    "    \"Speaker_age_at_recording\": \"median\",\n",
    "    \"Speaker_party\": \"count\"\n",
    "}).rename(columns={\"Speaker_party\": \"Count\"}).sort_values(by=\"audio_length\", ascending=False)\n",
    "gb"
   ]
  },
  {
   "cell_type": "code",
   "execution_count": 29,
   "metadata": {},
   "outputs": [
    {
     "data": {
      "text/plain": [
       "(66, 5)"
      ]
     },
     "execution_count": 29,
     "metadata": {},
     "output_type": "execute_result"
    }
   ],
   "source": [
    "speakers_to_use = gb[gb.Speaker_gender==\"M\"].index[:35].tolist() + gb[gb.Speaker_gender==\"F\"].index[:35].tolist()\n",
    "filtered_gb = gb.loc[speakers_to_use]\n",
    "filtered_gb.shape"
   ]
  },
  {
   "cell_type": "code",
   "execution_count": 30,
   "metadata": {},
   "outputs": [
    {
     "data": {
      "text/html": [
       "<div>\n",
       "<style scoped>\n",
       "    .dataframe tbody tr th:only-of-type {\n",
       "        vertical-align: middle;\n",
       "    }\n",
       "\n",
       "    .dataframe tbody tr th {\n",
       "        vertical-align: top;\n",
       "    }\n",
       "\n",
       "    .dataframe thead th {\n",
       "        text-align: right;\n",
       "    }\n",
       "</style>\n",
       "<table border=\"1\" class=\"dataframe\">\n",
       "  <thead>\n",
       "    <tr style=\"text-align: right;\">\n",
       "      <th></th>\n",
       "      <th>Speaker_name</th>\n",
       "      <th>audio_length</th>\n",
       "      <th>Speaker_gender</th>\n",
       "      <th>Speaker_age_at_recording</th>\n",
       "      <th>Count</th>\n",
       "    </tr>\n",
       "    <tr>\n",
       "      <th>Speaker_name</th>\n",
       "      <th></th>\n",
       "      <th></th>\n",
       "      <th></th>\n",
       "      <th></th>\n",
       "      <th></th>\n",
       "    </tr>\n",
       "  </thead>\n",
       "  <tbody>\n",
       "    <tr>\n",
       "      <th>Mrak-Taritaš, Anka</th>\n",
       "      <td>Mrak-Taritaš, Anka</td>\n",
       "      <td>51.868417</td>\n",
       "      <td>F</td>\n",
       "      <td>59.0</td>\n",
       "      <td>10047</td>\n",
       "    </tr>\n",
       "    <tr>\n",
       "      <th>Glasovac, Sabina</th>\n",
       "      <td>Glasovac, Sabina</td>\n",
       "      <td>17.961683</td>\n",
       "      <td>F</td>\n",
       "      <td>40.0</td>\n",
       "      <td>3623</td>\n",
       "    </tr>\n",
       "    <tr>\n",
       "      <th>Pusić, Vesna</th>\n",
       "      <td>Pusić, Vesna</td>\n",
       "      <td>17.054742</td>\n",
       "      <td>F</td>\n",
       "      <td>65.0</td>\n",
       "      <td>3632</td>\n",
       "    </tr>\n",
       "    <tr>\n",
       "      <th>Strenja-Linić, Ines</th>\n",
       "      <td>Strenja-Linić, Ines</td>\n",
       "      <td>15.958281</td>\n",
       "      <td>F</td>\n",
       "      <td>53.0</td>\n",
       "      <td>3127</td>\n",
       "    </tr>\n",
       "    <tr>\n",
       "      <th>Perić, Grozdana</th>\n",
       "      <td>Perić, Grozdana</td>\n",
       "      <td>14.528253</td>\n",
       "      <td>F</td>\n",
       "      <td>57.0</td>\n",
       "      <td>3105</td>\n",
       "    </tr>\n",
       "    <tr>\n",
       "      <th>Petrijevčanin Vuksanović, Irena</th>\n",
       "      <td>Petrijevčanin Vuksanović, Irena</td>\n",
       "      <td>11.198261</td>\n",
       "      <td>F</td>\n",
       "      <td>40.0</td>\n",
       "      <td>2201</td>\n",
       "    </tr>\n",
       "    <tr>\n",
       "      <th>Makar, Božica</th>\n",
       "      <td>Makar, Božica</td>\n",
       "      <td>9.921461</td>\n",
       "      <td>F</td>\n",
       "      <td>59.0</td>\n",
       "      <td>1953</td>\n",
       "    </tr>\n",
       "    <tr>\n",
       "      <th>Juričev-Martinčev, Branka</th>\n",
       "      <td>Juričev-Martinčev, Branka</td>\n",
       "      <td>9.658547</td>\n",
       "      <td>F</td>\n",
       "      <td>53.0</td>\n",
       "      <td>1923</td>\n",
       "    </tr>\n",
       "    <tr>\n",
       "      <th>Jelkovac, Marija</th>\n",
       "      <td>Jelkovac, Marija</td>\n",
       "      <td>8.384558</td>\n",
       "      <td>F</td>\n",
       "      <td>47.0</td>\n",
       "      <td>1698</td>\n",
       "    </tr>\n",
       "    <tr>\n",
       "      <th>Alfirev, Marija</th>\n",
       "      <td>Alfirev, Marija</td>\n",
       "      <td>7.772322</td>\n",
       "      <td>F</td>\n",
       "      <td>57.0</td>\n",
       "      <td>1679</td>\n",
       "    </tr>\n",
       "    <tr>\n",
       "      <th>Bedeković, Vesna</th>\n",
       "      <td>Bedeković, Vesna</td>\n",
       "      <td>7.586578</td>\n",
       "      <td>F</td>\n",
       "      <td>52.0</td>\n",
       "      <td>1554</td>\n",
       "    </tr>\n",
       "    <tr>\n",
       "      <th>Lukačić, Ljubica</th>\n",
       "      <td>Lukačić, Ljubica</td>\n",
       "      <td>7.146792</td>\n",
       "      <td>F</td>\n",
       "      <td>52.0</td>\n",
       "      <td>1515</td>\n",
       "    </tr>\n",
       "    <tr>\n",
       "      <th>Turina-Đurić, Nada</th>\n",
       "      <td>Turina-Đurić, Nada</td>\n",
       "      <td>6.501536</td>\n",
       "      <td>F</td>\n",
       "      <td>55.0</td>\n",
       "      <td>1381</td>\n",
       "    </tr>\n",
       "    <tr>\n",
       "      <th>Jeckov, Dragana</th>\n",
       "      <td>Jeckov, Dragana</td>\n",
       "      <td>6.196233</td>\n",
       "      <td>F</td>\n",
       "      <td>42.0</td>\n",
       "      <td>1263</td>\n",
       "    </tr>\n",
       "    <tr>\n",
       "      <th>Čikotić, Sonja</th>\n",
       "      <td>Čikotić, Sonja</td>\n",
       "      <td>5.248939</td>\n",
       "      <td>F</td>\n",
       "      <td>32.0</td>\n",
       "      <td>1032</td>\n",
       "    </tr>\n",
       "    <tr>\n",
       "      <th>Vranješ, Dragica</th>\n",
       "      <td>Vranješ, Dragica</td>\n",
       "      <td>4.657100</td>\n",
       "      <td>F</td>\n",
       "      <td>29.0</td>\n",
       "      <td>896</td>\n",
       "    </tr>\n",
       "    <tr>\n",
       "      <th>Puh, Marija</th>\n",
       "      <td>Puh, Marija</td>\n",
       "      <td>4.436131</td>\n",
       "      <td>F</td>\n",
       "      <td>33.0</td>\n",
       "      <td>887</td>\n",
       "    </tr>\n",
       "    <tr>\n",
       "      <th>Maksimčuk, Ljubica</th>\n",
       "      <td>Maksimčuk, Ljubica</td>\n",
       "      <td>3.829125</td>\n",
       "      <td>F</td>\n",
       "      <td>46.0</td>\n",
       "      <td>763</td>\n",
       "    </tr>\n",
       "    <tr>\n",
       "      <th>Glavak, Sunčana</th>\n",
       "      <td>Glavak, Sunčana</td>\n",
       "      <td>3.527375</td>\n",
       "      <td>F</td>\n",
       "      <td>51.0</td>\n",
       "      <td>688</td>\n",
       "    </tr>\n",
       "    <tr>\n",
       "      <th>Ninčević-Lesandrić, Ivana</th>\n",
       "      <td>Ninčević-Lesandrić, Ivana</td>\n",
       "      <td>3.256797</td>\n",
       "      <td>F</td>\n",
       "      <td>34.0</td>\n",
       "      <td>652</td>\n",
       "    </tr>\n",
       "    <tr>\n",
       "      <th>Topolko, Bernarda</th>\n",
       "      <td>Topolko, Bernarda</td>\n",
       "      <td>3.016739</td>\n",
       "      <td>F</td>\n",
       "      <td>59.0</td>\n",
       "      <td>621</td>\n",
       "    </tr>\n",
       "    <tr>\n",
       "      <th>Petin, Ana-Marija</th>\n",
       "      <td>Petin, Ana-Marija</td>\n",
       "      <td>2.704311</td>\n",
       "      <td>F</td>\n",
       "      <td>41.0</td>\n",
       "      <td>541</td>\n",
       "    </tr>\n",
       "    <tr>\n",
       "      <th>Jerković, Romana</th>\n",
       "      <td>Jerković, Romana</td>\n",
       "      <td>2.649842</td>\n",
       "      <td>F</td>\n",
       "      <td>54.0</td>\n",
       "      <td>560</td>\n",
       "    </tr>\n",
       "    <tr>\n",
       "      <th>Josić, Željka</th>\n",
       "      <td>Josić, Željka</td>\n",
       "      <td>2.634769</td>\n",
       "      <td>F</td>\n",
       "      <td>41.0</td>\n",
       "      <td>552</td>\n",
       "    </tr>\n",
       "    <tr>\n",
       "      <th>Luc-Polanc, Marta</th>\n",
       "      <td>Luc-Polanc, Marta</td>\n",
       "      <td>1.880800</td>\n",
       "      <td>F</td>\n",
       "      <td>41.0</td>\n",
       "      <td>385</td>\n",
       "    </tr>\n",
       "    <tr>\n",
       "      <th>Putica, Sanja</th>\n",
       "      <td>Putica, Sanja</td>\n",
       "      <td>1.601342</td>\n",
       "      <td>F</td>\n",
       "      <td>39.0</td>\n",
       "      <td>321</td>\n",
       "    </tr>\n",
       "    <tr>\n",
       "      <th>Opačić, Milanka</th>\n",
       "      <td>Opačić, Milanka</td>\n",
       "      <td>1.563775</td>\n",
       "      <td>F</td>\n",
       "      <td>49.0</td>\n",
       "      <td>317</td>\n",
       "    </tr>\n",
       "    <tr>\n",
       "      <th>Balić, Marijana</th>\n",
       "      <td>Balić, Marijana</td>\n",
       "      <td>1.250756</td>\n",
       "      <td>F</td>\n",
       "      <td>37.0</td>\n",
       "      <td>239</td>\n",
       "    </tr>\n",
       "    <tr>\n",
       "      <th>Mačković, Marija</th>\n",
       "      <td>Mačković, Marija</td>\n",
       "      <td>0.703319</td>\n",
       "      <td>F</td>\n",
       "      <td>64.0</td>\n",
       "      <td>141</td>\n",
       "    </tr>\n",
       "    <tr>\n",
       "      <th>Lekaj-Prljaskaj, Ermina</th>\n",
       "      <td>Lekaj-Prljaskaj, Ermina</td>\n",
       "      <td>0.581761</td>\n",
       "      <td>F</td>\n",
       "      <td>47.0</td>\n",
       "      <td>117</td>\n",
       "    </tr>\n",
       "    <tr>\n",
       "      <th>Ahmetović, Mirela</th>\n",
       "      <td>Ahmetović, Mirela</td>\n",
       "      <td>0.206553</td>\n",
       "      <td>F</td>\n",
       "      <td>39.0</td>\n",
       "      <td>39</td>\n",
       "    </tr>\n",
       "  </tbody>\n",
       "</table>\n",
       "</div>"
      ],
      "text/plain": [
       "                                                    Speaker_name  \\\n",
       "Speaker_name                                                       \n",
       "Mrak-Taritaš, Anka                            Mrak-Taritaš, Anka   \n",
       "Glasovac, Sabina                                Glasovac, Sabina   \n",
       "Pusić, Vesna                                        Pusić, Vesna   \n",
       "Strenja-Linić, Ines                          Strenja-Linić, Ines   \n",
       "Perić, Grozdana                                  Perić, Grozdana   \n",
       "Petrijevčanin Vuksanović, Irena  Petrijevčanin Vuksanović, Irena   \n",
       "Makar, Božica                                      Makar, Božica   \n",
       "Juričev-Martinčev, Branka              Juričev-Martinčev, Branka   \n",
       "Jelkovac, Marija                                Jelkovac, Marija   \n",
       "Alfirev, Marija                                  Alfirev, Marija   \n",
       "Bedeković, Vesna                                Bedeković, Vesna   \n",
       "Lukačić, Ljubica                                Lukačić, Ljubica   \n",
       "Turina-Đurić, Nada                            Turina-Đurić, Nada   \n",
       "Jeckov, Dragana                                  Jeckov, Dragana   \n",
       "Čikotić, Sonja                                    Čikotić, Sonja   \n",
       "Vranješ, Dragica                                Vranješ, Dragica   \n",
       "Puh, Marija                                          Puh, Marija   \n",
       "Maksimčuk, Ljubica                            Maksimčuk, Ljubica   \n",
       "Glavak, Sunčana                                  Glavak, Sunčana   \n",
       "Ninčević-Lesandrić, Ivana              Ninčević-Lesandrić, Ivana   \n",
       "Topolko, Bernarda                              Topolko, Bernarda   \n",
       "Petin, Ana-Marija                              Petin, Ana-Marija   \n",
       "Jerković, Romana                                Jerković, Romana   \n",
       "Josić, Željka                                      Josić, Željka   \n",
       "Luc-Polanc, Marta                              Luc-Polanc, Marta   \n",
       "Putica, Sanja                                      Putica, Sanja   \n",
       "Opačić, Milanka                                  Opačić, Milanka   \n",
       "Balić, Marijana                                  Balić, Marijana   \n",
       "Mačković, Marija                                Mačković, Marija   \n",
       "Lekaj-Prljaskaj, Ermina                  Lekaj-Prljaskaj, Ermina   \n",
       "Ahmetović, Mirela                              Ahmetović, Mirela   \n",
       "\n",
       "                                 audio_length Speaker_gender  \\\n",
       "Speaker_name                                                   \n",
       "Mrak-Taritaš, Anka                  51.868417              F   \n",
       "Glasovac, Sabina                    17.961683              F   \n",
       "Pusić, Vesna                        17.054742              F   \n",
       "Strenja-Linić, Ines                 15.958281              F   \n",
       "Perić, Grozdana                     14.528253              F   \n",
       "Petrijevčanin Vuksanović, Irena     11.198261              F   \n",
       "Makar, Božica                        9.921461              F   \n",
       "Juričev-Martinčev, Branka            9.658547              F   \n",
       "Jelkovac, Marija                     8.384558              F   \n",
       "Alfirev, Marija                      7.772322              F   \n",
       "Bedeković, Vesna                     7.586578              F   \n",
       "Lukačić, Ljubica                     7.146792              F   \n",
       "Turina-Đurić, Nada                   6.501536              F   \n",
       "Jeckov, Dragana                      6.196233              F   \n",
       "Čikotić, Sonja                       5.248939              F   \n",
       "Vranješ, Dragica                     4.657100              F   \n",
       "Puh, Marija                          4.436131              F   \n",
       "Maksimčuk, Ljubica                   3.829125              F   \n",
       "Glavak, Sunčana                      3.527375              F   \n",
       "Ninčević-Lesandrić, Ivana            3.256797              F   \n",
       "Topolko, Bernarda                    3.016739              F   \n",
       "Petin, Ana-Marija                    2.704311              F   \n",
       "Jerković, Romana                     2.649842              F   \n",
       "Josić, Željka                        2.634769              F   \n",
       "Luc-Polanc, Marta                    1.880800              F   \n",
       "Putica, Sanja                        1.601342              F   \n",
       "Opačić, Milanka                      1.563775              F   \n",
       "Balić, Marijana                      1.250756              F   \n",
       "Mačković, Marija                     0.703319              F   \n",
       "Lekaj-Prljaskaj, Ermina              0.581761              F   \n",
       "Ahmetović, Mirela                    0.206553              F   \n",
       "\n",
       "                                 Speaker_age_at_recording  Count  \n",
       "Speaker_name                                                      \n",
       "Mrak-Taritaš, Anka                                   59.0  10047  \n",
       "Glasovac, Sabina                                     40.0   3623  \n",
       "Pusić, Vesna                                         65.0   3632  \n",
       "Strenja-Linić, Ines                                  53.0   3127  \n",
       "Perić, Grozdana                                      57.0   3105  \n",
       "Petrijevčanin Vuksanović, Irena                      40.0   2201  \n",
       "Makar, Božica                                        59.0   1953  \n",
       "Juričev-Martinčev, Branka                            53.0   1923  \n",
       "Jelkovac, Marija                                     47.0   1698  \n",
       "Alfirev, Marija                                      57.0   1679  \n",
       "Bedeković, Vesna                                     52.0   1554  \n",
       "Lukačić, Ljubica                                     52.0   1515  \n",
       "Turina-Đurić, Nada                                   55.0   1381  \n",
       "Jeckov, Dragana                                      42.0   1263  \n",
       "Čikotić, Sonja                                       32.0   1032  \n",
       "Vranješ, Dragica                                     29.0    896  \n",
       "Puh, Marija                                          33.0    887  \n",
       "Maksimčuk, Ljubica                                   46.0    763  \n",
       "Glavak, Sunčana                                      51.0    688  \n",
       "Ninčević-Lesandrić, Ivana                            34.0    652  \n",
       "Topolko, Bernarda                                    59.0    621  \n",
       "Petin, Ana-Marija                                    41.0    541  \n",
       "Jerković, Romana                                     54.0    560  \n",
       "Josić, Željka                                        41.0    552  \n",
       "Luc-Polanc, Marta                                    41.0    385  \n",
       "Putica, Sanja                                        39.0    321  \n",
       "Opačić, Milanka                                      49.0    317  \n",
       "Balić, Marijana                                      37.0    239  \n",
       "Mačković, Marija                                     64.0    141  \n",
       "Lekaj-Prljaskaj, Ermina                              47.0    117  \n",
       "Ahmetović, Mirela                                    39.0     39  "
      ]
     },
     "execution_count": 30,
     "metadata": {},
     "output_type": "execute_result"
    }
   ],
   "source": [
    "gb[gb.Speaker_gender==\"F\"][:35]"
   ]
  },
  {
   "cell_type": "code",
   "execution_count": 31,
   "metadata": {},
   "outputs": [
    {
     "data": {
      "text/plain": [
       "(6539, 15)"
      ]
     },
     "execution_count": 31,
     "metadata": {},
     "output_type": "execute_result"
    }
   ],
   "source": [
    "dataset_recognition = pd.concat([\n",
    "    df2[df2.Speaker_name == name][0:100] for name in filtered_gb.index\n",
    "])\n",
    "dataset_recognition.shape"
   ]
  },
  {
   "cell_type": "code",
   "execution_count": 32,
   "metadata": {},
   "outputs": [
    {
     "data": {
      "text/html": [
       "<div>\n",
       "<style scoped>\n",
       "    .dataframe tbody tr th:only-of-type {\n",
       "        vertical-align: middle;\n",
       "    }\n",
       "\n",
       "    .dataframe tbody tr th {\n",
       "        vertical-align: top;\n",
       "    }\n",
       "\n",
       "    .dataframe thead th {\n",
       "        text-align: right;\n",
       "    }\n",
       "</style>\n",
       "<table border=\"1\" class=\"dataframe\">\n",
       "  <thead>\n",
       "    <tr style=\"text-align: right;\">\n",
       "      <th></th>\n",
       "      <th>path</th>\n",
       "      <th>words</th>\n",
       "      <th>split</th>\n",
       "      <th>Speaker_role</th>\n",
       "      <th>Speaker_type</th>\n",
       "      <th>Speaker_party</th>\n",
       "      <th>Speaker_party_name</th>\n",
       "      <th>Party_status</th>\n",
       "      <th>Speaker_gender</th>\n",
       "      <th>Speaker_birth</th>\n",
       "      <th>processed_transcription</th>\n",
       "      <th>Speaker_party_orientation</th>\n",
       "      <th>audio_length</th>\n",
       "      <th>Speaker_age_at_recording</th>\n",
       "    </tr>\n",
       "    <tr>\n",
       "      <th>Speaker_name</th>\n",
       "      <th></th>\n",
       "      <th></th>\n",
       "      <th></th>\n",
       "      <th></th>\n",
       "      <th></th>\n",
       "      <th></th>\n",
       "      <th></th>\n",
       "      <th></th>\n",
       "      <th></th>\n",
       "      <th></th>\n",
       "      <th></th>\n",
       "      <th></th>\n",
       "      <th></th>\n",
       "      <th></th>\n",
       "    </tr>\n",
       "  </thead>\n",
       "  <tbody>\n",
       "    <tr>\n",
       "      <th>Ahmetović, Mirela</th>\n",
       "      <td>39</td>\n",
       "      <td>39</td>\n",
       "      <td>39</td>\n",
       "      <td>39</td>\n",
       "      <td>39</td>\n",
       "      <td>39</td>\n",
       "      <td>39</td>\n",
       "      <td>39</td>\n",
       "      <td>39</td>\n",
       "      <td>39</td>\n",
       "      <td>39</td>\n",
       "      <td>39</td>\n",
       "      <td>39</td>\n",
       "      <td>39</td>\n",
       "    </tr>\n",
       "    <tr>\n",
       "      <th>Aleksić, Goran</th>\n",
       "      <td>100</td>\n",
       "      <td>100</td>\n",
       "      <td>100</td>\n",
       "      <td>100</td>\n",
       "      <td>100</td>\n",
       "      <td>100</td>\n",
       "      <td>100</td>\n",
       "      <td>100</td>\n",
       "      <td>100</td>\n",
       "      <td>100</td>\n",
       "      <td>100</td>\n",
       "      <td>100</td>\n",
       "      <td>100</td>\n",
       "      <td>100</td>\n",
       "    </tr>\n",
       "    <tr>\n",
       "      <th>Alfirev, Marija</th>\n",
       "      <td>100</td>\n",
       "      <td>100</td>\n",
       "      <td>100</td>\n",
       "      <td>100</td>\n",
       "      <td>100</td>\n",
       "      <td>100</td>\n",
       "      <td>100</td>\n",
       "      <td>100</td>\n",
       "      <td>100</td>\n",
       "      <td>100</td>\n",
       "      <td>100</td>\n",
       "      <td>100</td>\n",
       "      <td>100</td>\n",
       "      <td>100</td>\n",
       "    </tr>\n",
       "    <tr>\n",
       "      <th>Babić, Ante</th>\n",
       "      <td>100</td>\n",
       "      <td>100</td>\n",
       "      <td>100</td>\n",
       "      <td>100</td>\n",
       "      <td>100</td>\n",
       "      <td>100</td>\n",
       "      <td>100</td>\n",
       "      <td>100</td>\n",
       "      <td>100</td>\n",
       "      <td>100</td>\n",
       "      <td>100</td>\n",
       "      <td>100</td>\n",
       "      <td>100</td>\n",
       "      <td>100</td>\n",
       "    </tr>\n",
       "    <tr>\n",
       "      <th>Balić, Marijana</th>\n",
       "      <td>100</td>\n",
       "      <td>100</td>\n",
       "      <td>100</td>\n",
       "      <td>100</td>\n",
       "      <td>100</td>\n",
       "      <td>100</td>\n",
       "      <td>100</td>\n",
       "      <td>100</td>\n",
       "      <td>100</td>\n",
       "      <td>100</td>\n",
       "      <td>100</td>\n",
       "      <td>100</td>\n",
       "      <td>100</td>\n",
       "      <td>100</td>\n",
       "    </tr>\n",
       "    <tr>\n",
       "      <th>...</th>\n",
       "      <td>...</td>\n",
       "      <td>...</td>\n",
       "      <td>...</td>\n",
       "      <td>...</td>\n",
       "      <td>...</td>\n",
       "      <td>...</td>\n",
       "      <td>...</td>\n",
       "      <td>...</td>\n",
       "      <td>...</td>\n",
       "      <td>...</td>\n",
       "      <td>...</td>\n",
       "      <td>...</td>\n",
       "      <td>...</td>\n",
       "      <td>...</td>\n",
       "    </tr>\n",
       "    <tr>\n",
       "      <th>Čuraj, Stjepan</th>\n",
       "      <td>100</td>\n",
       "      <td>100</td>\n",
       "      <td>100</td>\n",
       "      <td>100</td>\n",
       "      <td>100</td>\n",
       "      <td>100</td>\n",
       "      <td>100</td>\n",
       "      <td>100</td>\n",
       "      <td>100</td>\n",
       "      <td>100</td>\n",
       "      <td>100</td>\n",
       "      <td>100</td>\n",
       "      <td>100</td>\n",
       "      <td>100</td>\n",
       "    </tr>\n",
       "    <tr>\n",
       "      <th>Đakić, Josip</th>\n",
       "      <td>100</td>\n",
       "      <td>100</td>\n",
       "      <td>100</td>\n",
       "      <td>100</td>\n",
       "      <td>100</td>\n",
       "      <td>100</td>\n",
       "      <td>100</td>\n",
       "      <td>100</td>\n",
       "      <td>100</td>\n",
       "      <td>100</td>\n",
       "      <td>100</td>\n",
       "      <td>100</td>\n",
       "      <td>100</td>\n",
       "      <td>100</td>\n",
       "    </tr>\n",
       "    <tr>\n",
       "      <th>Đujić, Saša</th>\n",
       "      <td>100</td>\n",
       "      <td>100</td>\n",
       "      <td>100</td>\n",
       "      <td>100</td>\n",
       "      <td>100</td>\n",
       "      <td>100</td>\n",
       "      <td>100</td>\n",
       "      <td>100</td>\n",
       "      <td>100</td>\n",
       "      <td>100</td>\n",
       "      <td>100</td>\n",
       "      <td>100</td>\n",
       "      <td>100</td>\n",
       "      <td>100</td>\n",
       "    </tr>\n",
       "    <tr>\n",
       "      <th>Šuker, Ivan</th>\n",
       "      <td>100</td>\n",
       "      <td>100</td>\n",
       "      <td>100</td>\n",
       "      <td>100</td>\n",
       "      <td>100</td>\n",
       "      <td>100</td>\n",
       "      <td>100</td>\n",
       "      <td>100</td>\n",
       "      <td>100</td>\n",
       "      <td>100</td>\n",
       "      <td>100</td>\n",
       "      <td>100</td>\n",
       "      <td>100</td>\n",
       "      <td>100</td>\n",
       "    </tr>\n",
       "    <tr>\n",
       "      <th>Žagar, Tomislav</th>\n",
       "      <td>100</td>\n",
       "      <td>100</td>\n",
       "      <td>100</td>\n",
       "      <td>100</td>\n",
       "      <td>100</td>\n",
       "      <td>100</td>\n",
       "      <td>100</td>\n",
       "      <td>100</td>\n",
       "      <td>100</td>\n",
       "      <td>100</td>\n",
       "      <td>100</td>\n",
       "      <td>100</td>\n",
       "      <td>100</td>\n",
       "      <td>100</td>\n",
       "    </tr>\n",
       "  </tbody>\n",
       "</table>\n",
       "<p>66 rows × 14 columns</p>\n",
       "</div>"
      ],
      "text/plain": [
       "                   path  words  split  Speaker_role  Speaker_type  \\\n",
       "Speaker_name                                                        \n",
       "Ahmetović, Mirela    39     39     39            39            39   \n",
       "Aleksić, Goran      100    100    100           100           100   \n",
       "Alfirev, Marija     100    100    100           100           100   \n",
       "Babić, Ante         100    100    100           100           100   \n",
       "Balić, Marijana     100    100    100           100           100   \n",
       "...                 ...    ...    ...           ...           ...   \n",
       "Čuraj, Stjepan      100    100    100           100           100   \n",
       "Đakić, Josip        100    100    100           100           100   \n",
       "Đujić, Saša         100    100    100           100           100   \n",
       "Šuker, Ivan         100    100    100           100           100   \n",
       "Žagar, Tomislav     100    100    100           100           100   \n",
       "\n",
       "                   Speaker_party  Speaker_party_name  Party_status  \\\n",
       "Speaker_name                                                         \n",
       "Ahmetović, Mirela             39                  39            39   \n",
       "Aleksić, Goran               100                 100           100   \n",
       "Alfirev, Marija              100                 100           100   \n",
       "Babić, Ante                  100                 100           100   \n",
       "Balić, Marijana              100                 100           100   \n",
       "...                          ...                 ...           ...   \n",
       "Čuraj, Stjepan               100                 100           100   \n",
       "Đakić, Josip                 100                 100           100   \n",
       "Đujić, Saša                  100                 100           100   \n",
       "Šuker, Ivan                  100                 100           100   \n",
       "Žagar, Tomislav              100                 100           100   \n",
       "\n",
       "                   Speaker_gender  Speaker_birth  processed_transcription  \\\n",
       "Speaker_name                                                                \n",
       "Ahmetović, Mirela              39             39                       39   \n",
       "Aleksić, Goran                100            100                      100   \n",
       "Alfirev, Marija               100            100                      100   \n",
       "Babić, Ante                   100            100                      100   \n",
       "Balić, Marijana               100            100                      100   \n",
       "...                           ...            ...                      ...   \n",
       "Čuraj, Stjepan                100            100                      100   \n",
       "Đakić, Josip                  100            100                      100   \n",
       "Đujić, Saša                   100            100                      100   \n",
       "Šuker, Ivan                   100            100                      100   \n",
       "Žagar, Tomislav               100            100                      100   \n",
       "\n",
       "                   Speaker_party_orientation  audio_length  \\\n",
       "Speaker_name                                                 \n",
       "Ahmetović, Mirela                         39            39   \n",
       "Aleksić, Goran                           100           100   \n",
       "Alfirev, Marija                          100           100   \n",
       "Babić, Ante                              100           100   \n",
       "Balić, Marijana                          100           100   \n",
       "...                                      ...           ...   \n",
       "Čuraj, Stjepan                           100           100   \n",
       "Đakić, Josip                             100           100   \n",
       "Đujić, Saša                              100           100   \n",
       "Šuker, Ivan                              100           100   \n",
       "Žagar, Tomislav                          100           100   \n",
       "\n",
       "                   Speaker_age_at_recording  \n",
       "Speaker_name                                 \n",
       "Ahmetović, Mirela                        39  \n",
       "Aleksić, Goran                          100  \n",
       "Alfirev, Marija                         100  \n",
       "Babić, Ante                             100  \n",
       "Balić, Marijana                         100  \n",
       "...                                     ...  \n",
       "Čuraj, Stjepan                          100  \n",
       "Đakić, Josip                            100  \n",
       "Đujić, Saša                             100  \n",
       "Šuker, Ivan                             100  \n",
       "Žagar, Tomislav                         100  \n",
       "\n",
       "[66 rows x 14 columns]"
      ]
     },
     "execution_count": 32,
     "metadata": {},
     "output_type": "execute_result"
    }
   ],
   "source": [
    "dataset_recognition.groupby(\"Speaker_name\").count()"
   ]
  },
  {
   "cell_type": "markdown",
   "metadata": {},
   "source": [
    "# THird approach"
   ]
  },
  {
   "cell_type": "code",
   "execution_count": 4,
   "metadata": {},
   "outputs": [
    {
     "data": {
      "text/plain": [
       "Index(['path', 'orig_file', 'start', 'end', 'words', 'word_start_times',\n",
       "       'norm_words', 'norm_words_start_times', 'utterance_id_start',\n",
       "       'utterance_id_end', 'speaker_info', 'split', 'norm_words_edited',\n",
       "       'audio_length', 'Speaker_role', 'Speaker_type', 'Speaker_party',\n",
       "       'Speaker_party_name', 'Party_status', 'Speaker_name', 'Speaker_gender',\n",
       "       'Speaker_birth'],\n",
       "      dtype='object')"
      ]
     },
     "execution_count": 4,
     "metadata": {},
     "output_type": "execute_result"
    }
   ],
   "source": [
    "df.columns"
   ]
  },
  {
   "cell_type": "code",
   "execution_count": 7,
   "metadata": {},
   "outputs": [
    {
     "data": {
      "image/png": "[encoded data removed]",
      "text/plain": [
       "<Figure size 504x360 with 1 Axes>"
      ]
     },
     "metadata": {
      "needs_background": "light"
     },
     "output_type": "display_data"
    }
   ],
   "source": [
    "gb = df.groupby(\"Speaker_name\").agg({\n",
    "    \"path\": \"count\",\n",
    "    \"Speaker_age_at_recording\": \"median\",\n",
    "    \"Speaker_gender\": lambda i: i.iloc[0],\n",
    "}).rename(columns={\"path\": \"Count\"}).sort_values(by=\"Count\", ascending=False)\n",
    "gb =  gb.loc[(gb.Count > 200) & (gb.Count < 3000)]\n",
    "\n",
    "for gender in \"MF\":\n",
    "    gb.Speaker_age_at_recording[gb.Speaker_gender == gender].plot(kind=\"hist\", bins=40, figsize=(7,5))"
   ]
  },
  {
   "cell_type": "code",
   "execution_count": 8,
   "metadata": {},
   "outputs": [
    {
     "data": {
      "text/plain": [
       "41"
      ]
     },
     "execution_count": 8,
     "metadata": {},
     "output_type": "execute_result"
    }
   ],
   "source": [
    "sum(gb.Speaker_gender == \"F\")"
   ]
  },
  {
   "cell_type": "code",
   "execution_count": 9,
   "metadata": {},
   "outputs": [],
   "source": [
    "C_is_female = gb.Speaker_gender == \"F\"\n",
    "C_is_male = gb.Speaker_gender == \"M\"\n",
    "\n",
    "females_train = gb.loc[C_is_female].index[0:25].tolist()\n",
    "males_train = gb.loc[C_is_male].index[0:25].tolist()\n",
    "\n",
    "females_test = gb.loc[C_is_female].index[25:25+5].tolist()\n",
    "males_test = gb.loc[C_is_male].index[25:25+5].tolist()"
   ]
  },
  {
   "cell_type": "code",
   "execution_count": 10,
   "metadata": {},
   "outputs": [],
   "source": [
    "train_gender = pd.concat([\n",
    "    df[df.Speaker_name == name][0:20] for name in females_train+males_train\n",
    "])\n",
    "test_gender = pd.concat([\n",
    "    df[df.Speaker_name == name][0:200] for name in females_test+males_test\n",
    "])"
   ]
  },
  {
   "cell_type": "code",
   "execution_count": 11,
   "metadata": {},
   "outputs": [
    {
     "data": {
      "text/plain": [
       "((1000, 24), (2000, 24))"
      ]
     },
     "execution_count": 11,
     "metadata": {},
     "output_type": "execute_result"
    }
   ],
   "source": [
    "train_gender.shape, test_gender.shape"
   ]
  },
  {
   "cell_type": "code",
   "execution_count": 12,
   "metadata": {},
   "outputs": [
    {
     "data": {
      "text/plain": [
       "(25, 25, 5, 5)"
      ]
     },
     "execution_count": 12,
     "metadata": {},
     "output_type": "execute_result"
    }
   ],
   "source": [
    "len(females_train), len(males_train), len(females_test), len(males_test)"
   ]
  },
  {
   "cell_type": "code",
   "execution_count": 13,
   "metadata": {},
   "outputs": [],
   "source": [
    "files_to_move = train_gender.path.tolist()+test_gender.path.tolist()"
   ]
  },
  {
   "cell_type": "code",
   "execution_count": 15,
   "metadata": {},
   "outputs": [],
   "source": [
    "with open(\"001_files_to_move.txt\", \"w\") as f:\n",
    "    f.writelines([\"seg.\"+ i + \"\\n\" for i in files_to_move])"
   ]
  },
  {
   "cell_type": "code",
   "execution_count": 17,
   "metadata": {},
   "outputs": [],
   "source": [
    "train_gender.to_csv(\"001_gender_train.csv\", index=False)\n",
    "test_gender.to_csv(\"001_gender_test.csv\", index=False)"
   ]
  },
  {
   "cell_type": "code",
   "execution_count": 18,
   "metadata": {},
   "outputs": [
    {
     "data": {
      "text/plain": [
       "set()"
      ]
     },
     "execution_count": 18,
     "metadata": {},
     "output_type": "execute_result"
    }
   ],
   "source": [
    "set(females_train).intersection(set(females_test))"
   ]
  },
  {
   "cell_type": "code",
   "execution_count": 19,
   "metadata": {},
   "outputs": [
    {
     "data": {
      "text/plain": [
       "set()"
      ]
     },
     "execution_count": 19,
     "metadata": {},
     "output_type": "execute_result"
    }
   ],
   "source": [
    "set(males_train).intersection(set(males_test))"
   ]
  },
  {
   "cell_type": "code",
   "execution_count": 21,
   "metadata": {},
   "outputs": [
    {
     "data": {
      "text/plain": [
       "Index(['path', 'orig_file', 'start', 'end', 'words', 'word_start_times',\n",
       "       'norm_words', 'norm_words_start_times', 'utterance_id_start',\n",
       "       'utterance_id_end', 'speaker_info', 'split', 'norm_words_edited',\n",
       "       'audio_length', 'Speaker_role', 'Speaker_type', 'Speaker_party',\n",
       "       'Speaker_party_name', 'Party_status', 'Speaker_name', 'Speaker_gender',\n",
       "       'Speaker_birth', 'recording_datetime', 'Speaker_age_at_recording'],\n",
       "      dtype='object')"
      ]
     },
     "execution_count": 21,
     "metadata": {},
     "output_type": "execute_result"
    }
   ],
   "source": [
    "train_gender.columns"
   ]
  },
  {
   "cell_type": "code",
   "execution_count": 29,
   "metadata": {},
   "outputs": [
    {
     "name": "stderr",
     "output_type": "stream",
     "text": [
      "<ipython-input-29-57ad2665bc50>:1: FutureWarning: The pandas.np module is deprecated and will be removed from pandas in a future version. Import numpy directly instead\n",
      "  train_gender[\"Speaker_median_age\"] = pd.np.nan\n"
     ]
    }
   ],
   "source": [
    "train_gender[\"Speaker_median_age\"] = pd.np.nan\n",
    "for speaker in train_gender.Speaker_name:\n",
    "    median_age = train_gender[train_gender.Speaker_name == speaker].Speaker_age_at_recording.median()\n",
    "    train_gender.loc[train_gender.Speaker_name == speaker, \"Speaker_median_age\"] = median_age\n",
    "test_gender[\"Speaker_median_age\"] = 0.0\n",
    "for speaker in test_gender.Speaker_name:\n",
    "    median_age = test_gender[test_gender.Speaker_name == speaker].Speaker_age_at_recording.median()\n",
    "    test_gender.loc[test_gender.Speaker_name == speaker, \"Speaker_median_age\"] = median_age"
   ]
  },
  {
   "cell_type": "code",
   "execution_count": 30,
   "metadata": {},
   "outputs": [],
   "source": [
    "train_gender.to_csv(\"005_age_train.csv\", index=False)\n",
    "test_gender.to_csv(\"005_age_test.csv\", index=False)"
   ]
  },
  {
   "cell_type": "code",
   "execution_count": 32,
   "metadata": {},
   "outputs": [
    {
     "data": {
      "text/plain": [
       "<matplotlib.axes._subplots.AxesSubplot at 0x7f39713c2550>"
      ]
     },
     "execution_count": 32,
     "metadata": {},
     "output_type": "execute_result"
    },
    {
     "data": {
      "image/png": "[encoded data removed]",
      "text/plain": [
       "<Figure size 432x288 with 1 Axes>"
      ]
     },
     "metadata": {
      "needs_background": "light"
     },
     "output_type": "display_data"
    }
   ],
   "source": [
    "train_gender.Speaker_median_age.plot.hist()"
   ]
  },
  {
   "cell_type": "code",
   "execution_count": 33,
   "metadata": {},
   "outputs": [
    {
     "data": {
      "text/plain": [
       "160"
      ]
     },
     "execution_count": 33,
     "metadata": {},
     "output_type": "execute_result"
    }
   ],
   "source": [
    "train_gender.Speaker_median_age.isna().sum()"
   ]
  },
  {
   "cell_type": "code",
   "execution_count": null,
   "metadata": {},
   "outputs": [],
   "source": []
  }
 ],
 "metadata": {
  "interpreter": {
   "hash": "7f6f5766036ee03d059e365a942add07f79c17033585e9357ee8157d52fe6bb9"
  },
  "kernelspec": {
   "display_name": "Python 3.8.3 ('base')",
   "language": "python",
   "name": "python3"
  },
  "language_info": {
   "codemirror_mode": {
    "name": "ipython",
    "version": 3
   },
   "file_extension": ".py",
   "mimetype": "text/x-python",
   "name": "python",
   "nbconvert_exporter": "python",
   "pygments_lexer": "ipython3",
   "version": "3.8.3"
  },
  "orig_nbformat": 4
 },
 "nbformat": 4,
 "nbformat_minor": 2
}
