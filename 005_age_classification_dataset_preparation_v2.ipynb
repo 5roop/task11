{
 "cells": [
  {
   "cell_type": "code",
   "execution_count": 1,
   "metadata": {},
   "outputs": [
    {
     "data": {
      "text/html": [
       "<div>\n",
       "<style scoped>\n",
       "    .dataframe tbody tr th:only-of-type {\n",
       "        vertical-align: middle;\n",
       "    }\n",
       "\n",
       "    .dataframe tbody tr th {\n",
       "        vertical-align: top;\n",
       "    }\n",
       "\n",
       "    .dataframe thead th {\n",
       "        text-align: right;\n",
       "    }\n",
       "</style>\n",
       "<table border=\"1\" class=\"dataframe\">\n",
       "  <thead>\n",
       "    <tr style=\"text-align: right;\">\n",
       "      <th></th>\n",
       "      <th>path</th>\n",
       "      <th>orig_file</th>\n",
       "      <th>start</th>\n",
       "      <th>end</th>\n",
       "      <th>words</th>\n",
       "      <th>word_start_times</th>\n",
       "      <th>norm_words</th>\n",
       "      <th>norm_words_start_times</th>\n",
       "      <th>utterance_id_start</th>\n",
       "      <th>utterance_id_end</th>\n",
       "      <th>...</th>\n",
       "      <th>norm_words_edited</th>\n",
       "      <th>audio_length</th>\n",
       "      <th>Speaker_role</th>\n",
       "      <th>Speaker_type</th>\n",
       "      <th>Speaker_party</th>\n",
       "      <th>Speaker_party_name</th>\n",
       "      <th>Party_status</th>\n",
       "      <th>Speaker_name</th>\n",
       "      <th>Speaker_gender</th>\n",
       "      <th>Speaker_birth</th>\n",
       "    </tr>\n",
       "  </thead>\n",
       "  <tbody>\n",
       "    <tr>\n",
       "      <th>0</th>\n",
       "      <td>rFVDr4ghXlQ_10620.07-10632.05.wav</td>\n",
       "      <td>20 2 2020 - 1. dio, 16. sjednica, 9. saziv [rF...</td>\n",
       "      <td>10620.07</td>\n",
       "      <td>10632.05</td>\n",
       "      <td>[interpretacija,, inzistiranje, na, tim, dezin...</td>\n",
       "      <td>[0, 1.0, 1.83, 1.96, 2.22, 3.79, 4.01, 4.43, 5...</td>\n",
       "      <td>[interpretacija, inzistiranje, na, tim, dezinf...</td>\n",
       "      <td>[0, 1.0, 1.83, 1.96, 2.22, 3.79, 4.01, 4.43, 5...</td>\n",
       "      <td>ParlaMint-HR_S16.u4568</td>\n",
       "      <td>ParlaMint-HR_S16.u4568</td>\n",
       "      <td>...</td>\n",
       "      <td>NaN</td>\n",
       "      <td>11.98</td>\n",
       "      <td>Regular</td>\n",
       "      <td>MP</td>\n",
       "      <td>HDZ</td>\n",
       "      <td>Klub Hrvatske demokratske zajednice</td>\n",
       "      <td>Coalition</td>\n",
       "      <td>Tuđman, Miroslav</td>\n",
       "      <td>M</td>\n",
       "      <td>1946</td>\n",
       "    </tr>\n",
       "    <tr>\n",
       "      <th>1</th>\n",
       "      <td>Ki_SnDM_EkQ_2917.58-2937.5.wav</td>\n",
       "      <td>18 10 2018 - 9. sjednica, 9. saziv [Ki_SnDM_Ek...</td>\n",
       "      <td>2917.58</td>\n",
       "      <td>2937.50</td>\n",
       "      <td>[izraelska, tvrtka, prodaje, avione, Hrvatskoj...</td>\n",
       "      <td>[0, 0.65, 1.04, 1.54, 1.92, 2.51, 3.11, 3.5700...</td>\n",
       "      <td>[izraelska, tvrtka, prodaje, avione, hrvatskoj...</td>\n",
       "      <td>[0, 0.65, 1.04, 1.54, 1.92, 2.51, 3.11, 3.5700...</td>\n",
       "      <td>ParlaMint-HR_S09.u4267</td>\n",
       "      <td>ParlaMint-HR_S09.u4267</td>\n",
       "      <td>...</td>\n",
       "      <td>NaN</td>\n",
       "      <td>19.92</td>\n",
       "      <td>Regular</td>\n",
       "      <td>MP</td>\n",
       "      <td>Živi zid, SNAGA</td>\n",
       "      <td>Klub Živog zida i SNAGA-e</td>\n",
       "      <td>Opposition</td>\n",
       "      <td>Bunjac, Branimir</td>\n",
       "      <td>M</td>\n",
       "      <td>1972</td>\n",
       "    </tr>\n",
       "    <tr>\n",
       "      <th>2</th>\n",
       "      <td>XguZsDKdRh4_13797.59-13811.74.wav</td>\n",
       "      <td>20 1 2017 - 3. sjednica, 9. saziv [XguZsDKdRh4...</td>\n",
       "      <td>13797.59</td>\n",
       "      <td>13811.74</td>\n",
       "      <td>[jučer, trećem,, sutra, ili, prekosutra, četvr...</td>\n",
       "      <td>[0, 0.43, 1.0, 1.4, 1.52, 2.01, 2.55, 3.12, 3....</td>\n",
       "      <td>[jučer, trećem, sutra, ili, prekosutra, četvrt...</td>\n",
       "      <td>[0, 0.43, 1.0, 1.4, 1.52, 2.01, 2.55, 3.12, 3....</td>\n",
       "      <td>ParlaMint-HR_S03.u9702</td>\n",
       "      <td>ParlaMint-HR_S03.u9702</td>\n",
       "      <td>...</td>\n",
       "      <td>NaN</td>\n",
       "      <td>14.15</td>\n",
       "      <td>Regular</td>\n",
       "      <td>MP</td>\n",
       "      <td>HDZ</td>\n",
       "      <td>Klub Hrvatske demokratske zajednice</td>\n",
       "      <td>Coalition</td>\n",
       "      <td>Bačić, Branko</td>\n",
       "      <td>M</td>\n",
       "      <td>1959</td>\n",
       "    </tr>\n",
       "  </tbody>\n",
       "</table>\n",
       "<p>3 rows × 22 columns</p>\n",
       "</div>"
      ],
      "text/plain": [
       "                                path  \\\n",
       "0  rFVDr4ghXlQ_10620.07-10632.05.wav   \n",
       "1     Ki_SnDM_EkQ_2917.58-2937.5.wav   \n",
       "2  XguZsDKdRh4_13797.59-13811.74.wav   \n",
       "\n",
       "                                           orig_file     start       end  \\\n",
       "0  20 2 2020 - 1. dio, 16. sjednica, 9. saziv [rF...  10620.07  10632.05   \n",
       "1  18 10 2018 - 9. sjednica, 9. saziv [Ki_SnDM_Ek...   2917.58   2937.50   \n",
       "2  20 1 2017 - 3. sjednica, 9. saziv [XguZsDKdRh4...  13797.59  13811.74   \n",
       "\n",
       "                                               words  \\\n",
       "0  [interpretacija,, inzistiranje, na, tim, dezin...   \n",
       "1  [izraelska, tvrtka, prodaje, avione, Hrvatskoj...   \n",
       "2  [jučer, trećem,, sutra, ili, prekosutra, četvr...   \n",
       "\n",
       "                                    word_start_times  \\\n",
       "0  [0, 1.0, 1.83, 1.96, 2.22, 3.79, 4.01, 4.43, 5...   \n",
       "1  [0, 0.65, 1.04, 1.54, 1.92, 2.51, 3.11, 3.5700...   \n",
       "2  [0, 0.43, 1.0, 1.4, 1.52, 2.01, 2.55, 3.12, 3....   \n",
       "\n",
       "                                          norm_words  \\\n",
       "0  [interpretacija, inzistiranje, na, tim, dezinf...   \n",
       "1  [izraelska, tvrtka, prodaje, avione, hrvatskoj...   \n",
       "2  [jučer, trećem, sutra, ili, prekosutra, četvrt...   \n",
       "\n",
       "                              norm_words_start_times      utterance_id_start  \\\n",
       "0  [0, 1.0, 1.83, 1.96, 2.22, 3.79, 4.01, 4.43, 5...  ParlaMint-HR_S16.u4568   \n",
       "1  [0, 0.65, 1.04, 1.54, 1.92, 2.51, 3.11, 3.5700...  ParlaMint-HR_S09.u4267   \n",
       "2  [0, 0.43, 1.0, 1.4, 1.52, 2.01, 2.55, 3.12, 3....  ParlaMint-HR_S03.u9702   \n",
       "\n",
       "         utterance_id_end  ... norm_words_edited audio_length Speaker_role  \\\n",
       "0  ParlaMint-HR_S16.u4568  ...               NaN        11.98      Regular   \n",
       "1  ParlaMint-HR_S09.u4267  ...               NaN        19.92      Regular   \n",
       "2  ParlaMint-HR_S03.u9702  ...               NaN        14.15      Regular   \n",
       "\n",
       "   Speaker_type    Speaker_party                   Speaker_party_name  \\\n",
       "0            MP              HDZ  Klub Hrvatske demokratske zajednice   \n",
       "1            MP  Živi zid, SNAGA            Klub Živog zida i SNAGA-e   \n",
       "2            MP              HDZ  Klub Hrvatske demokratske zajednice   \n",
       "\n",
       "  Party_status      Speaker_name Speaker_gender Speaker_birth  \n",
       "0    Coalition  Tuđman, Miroslav              M          1946  \n",
       "1   Opposition  Bunjac, Branimir              M          1972  \n",
       "2    Coalition     Bačić, Branko              M          1959  \n",
       "\n",
       "[3 rows x 22 columns]"
      ]
     },
     "execution_count": 1,
     "metadata": {},
     "output_type": "execute_result"
    }
   ],
   "source": [
    "import pandas as pd\n",
    "\n",
    "\n",
    "df = pd.read_json(\"ParlaSpeech-HR.v1.0.jsonl\", orient=\"records\", lines=True)\n",
    "df[\"audio_length\"] = df.end-df.start\n",
    "df = df[df.audio_length >= 8]\n",
    "df = pd.concat([df, df.speaker_info.apply(pd.Series)], axis=1)\n",
    "df.head(3)"
   ]
  },
  {
   "cell_type": "code",
   "execution_count": 2,
   "metadata": {},
   "outputs": [],
   "source": [
    "\n",
    "from datetime import datetime\n",
    "def get_date_from_filename(s: str)->datetime:\n",
    "    from parse import compile\n",
    "    pattern = \"{day:d} {month:d} {year:d} {rest}\"\n",
    "\n",
    "    p = compile(pattern)\n",
    "    results = p.search(s)\n",
    "\n",
    "    if not results:\n",
    "        return None\n",
    "    return datetime(results[\"year\"], results[\"month\"], results[\"day\"])\n",
    "\n",
    "df[\"recording_datetime\"] = df.orig_file.apply(get_date_from_filename)\n"
   ]
  },
  {
   "cell_type": "code",
   "execution_count": 3,
   "metadata": {},
   "outputs": [],
   "source": [
    "def get_speaker_age_at_recording(row):\n",
    "    try:\n",
    "        return row[\"recording_datetime\"].year - int(row[\"Speaker_birth\"])\n",
    "    except ValueError:\n",
    "        return None\n",
    "\n",
    "df[\"Speaker_age_at_recording\"] = df.apply(get_speaker_age_at_recording, axis=1)"
   ]
  },
  {
   "cell_type": "code",
   "execution_count": 4,
   "metadata": {},
   "outputs": [],
   "source": [
    "df = df[~df.Speaker_age_at_recording.isna()]"
   ]
  },
  {
   "cell_type": "code",
   "execution_count": 5,
   "metadata": {},
   "outputs": [],
   "source": [
    "gb = df.groupby(\"Speaker_name\").agg({\n",
    "    \"path\": \"count\",\n",
    "    \"Speaker_age_at_recording\": \"median\",\n",
    "    \"Speaker_gender\": lambda i: i.iloc[0],\n",
    "}).rename(columns={\"path\": \"Count\"}).sort_values(by=\"Count\", ascending=False)\n",
    "gb =  gb.loc[(gb.Count > 100) & (gb.Count < 3000)]\n"
   ]
  },
  {
   "cell_type": "code",
   "execution_count": 7,
   "metadata": {},
   "outputs": [
    {
     "data": {
      "text/plain": [
       "(128, 3)"
      ]
     },
     "execution_count": 7,
     "metadata": {},
     "output_type": "execute_result"
    }
   ],
   "source": [
    "gb.shape"
   ]
  },
  {
   "cell_type": "code",
   "execution_count": 8,
   "metadata": {},
   "outputs": [
    {
     "data": {
      "text/plain": [
       "{'M median age': 49.0, 'F median age': 46.0}"
      ]
     },
     "execution_count": 8,
     "metadata": {},
     "output_type": "execute_result"
    }
   ],
   "source": [
    "{f\"{G} median age\": gb[gb.Speaker_gender==G].Speaker_age_at_recording.median() for G in \"MF\"}\n",
    "\n",
    "# gb[gb.Speaker_gender==\"F\"].Speaker_age_at_recording.median(), gb[gb.Speaker_gender==\"M\"].Speaker_age_at_recording.median(), "
   ]
  },
  {
   "cell_type": "code",
   "execution_count": 22,
   "metadata": {},
   "outputs": [
    {
     "data": {
      "image/png": "[encoded data removed]",
      "text/plain": [
       "<Figure size 432x288 with 1 Axes>"
      ]
     },
     "metadata": {
      "needs_background": "light"
     },
     "output_type": "display_data"
    }
   ],
   "source": [
    "import matplotlib.pyplot as plt\n",
    "\n",
    "fig, ax = plt.subplots()\n",
    "\n",
    "for gender in \"MF\":\n",
    "    gb[gb.Speaker_gender == gender].Speaker_age_at_recording.plot.hist(\n",
    "        ax=ax,\n",
    "        label=gender,\n",
    "        bins=range(\n",
    "            gb.Speaker_age_at_recording.astype(int).min(),\n",
    "            gb.Speaker_age_at_recording.astype(int).max(),\n",
    "        ),\n",
    "    )\n",
    "plt.legend()\n",
    "plt.title(\"Entire Dataset composition\")\n",
    "plt.show()\n"
   ]
  },
  {
   "cell_type": "markdown",
   "metadata": {},
   "source": [
    "Border for men shall be 49, for women 46"
   ]
  },
  {
   "cell_type": "code",
   "execution_count": 9,
   "metadata": {},
   "outputs": [
    {
     "data": {
      "text/html": [
       "<div>\n",
       "<style scoped>\n",
       "    .dataframe tbody tr th:only-of-type {\n",
       "        vertical-align: middle;\n",
       "    }\n",
       "\n",
       "    .dataframe tbody tr th {\n",
       "        vertical-align: top;\n",
       "    }\n",
       "\n",
       "    .dataframe thead th {\n",
       "        text-align: right;\n",
       "    }\n",
       "</style>\n",
       "<table border=\"1\" class=\"dataframe\">\n",
       "  <thead>\n",
       "    <tr style=\"text-align: right;\">\n",
       "      <th></th>\n",
       "      <th>Count</th>\n",
       "      <th>Speaker_age_at_recording</th>\n",
       "      <th>Speaker_gender</th>\n",
       "      <th>Speaker_age_group</th>\n",
       "    </tr>\n",
       "    <tr>\n",
       "      <th>Speaker_name</th>\n",
       "      <th></th>\n",
       "      <th></th>\n",
       "      <th></th>\n",
       "      <th></th>\n",
       "    </tr>\n",
       "  </thead>\n",
       "  <tbody>\n",
       "    <tr>\n",
       "      <th>Đujić, Saša</th>\n",
       "      <td>2980</td>\n",
       "      <td>38.0</td>\n",
       "      <td>M</td>\n",
       "      <td>young</td>\n",
       "    </tr>\n",
       "    <tr>\n",
       "      <th>Bauk, Arsen</th>\n",
       "      <td>2914</td>\n",
       "      <td>45.0</td>\n",
       "      <td>M</td>\n",
       "      <td>young</td>\n",
       "    </tr>\n",
       "    <tr>\n",
       "      <th>Babić, Ante</th>\n",
       "      <td>2727</td>\n",
       "      <td>52.0</td>\n",
       "      <td>M</td>\n",
       "      <td>old</td>\n",
       "    </tr>\n",
       "    <tr>\n",
       "      <th>Jovanović, Željko</th>\n",
       "      <td>2718</td>\n",
       "      <td>53.0</td>\n",
       "      <td>M</td>\n",
       "      <td>old</td>\n",
       "    </tr>\n",
       "    <tr>\n",
       "      <th>Lenart, Željko</th>\n",
       "      <td>2624</td>\n",
       "      <td>50.0</td>\n",
       "      <td>M</td>\n",
       "      <td>old</td>\n",
       "    </tr>\n",
       "  </tbody>\n",
       "</table>\n",
       "</div>"
      ],
      "text/plain": [
       "                   Count  Speaker_age_at_recording Speaker_gender  \\\n",
       "Speaker_name                                                        \n",
       "Đujić, Saša         2980                      38.0              M   \n",
       "Bauk, Arsen         2914                      45.0              M   \n",
       "Babić, Ante         2727                      52.0              M   \n",
       "Jovanović, Željko   2718                      53.0              M   \n",
       "Lenart, Željko      2624                      50.0              M   \n",
       "\n",
       "                  Speaker_age_group  \n",
       "Speaker_name                         \n",
       "Đujić, Saša                   young  \n",
       "Bauk, Arsen                   young  \n",
       "Babić, Ante                     old  \n",
       "Jovanović, Željko               old  \n",
       "Lenart, Željko                  old  "
      ]
     },
     "execution_count": 9,
     "metadata": {},
     "output_type": "execute_result"
    }
   ],
   "source": [
    "age_category = []\n",
    "for speaker, row in gb.iterrows():\n",
    "    if row[\"Speaker_gender\"] == \"M\":\n",
    "        if row[\"Speaker_age_at_recording\"] >49:\n",
    "            age_category.append(\"old\")\n",
    "        else:\n",
    "            age_category.append(\"young\")\n",
    "    else:\n",
    "        if row[\"Speaker_age_at_recording\"] > 46:\n",
    "            age_category.append(\"old\")\n",
    "        else:\n",
    "            age_category.append(\"young\")\n",
    "gb[\"Speaker_age_group\"] = age_category\n",
    "gb.head()"
   ]
  },
  {
   "cell_type": "code",
   "execution_count": 19,
   "metadata": {},
   "outputs": [
    {
     "data": {
      "text/plain": [
       "(100, 4)"
      ]
     },
     "execution_count": 19,
     "metadata": {},
     "output_type": "execute_result"
    }
   ],
   "source": [
    "gb.shape"
   ]
  },
  {
   "cell_type": "code",
   "execution_count": 10,
   "metadata": {},
   "outputs": [],
   "source": [
    "gb = gb[gb.Speaker_gender == \"M\"]"
   ]
  },
  {
   "cell_type": "code",
   "execution_count": 49,
   "metadata": {},
   "outputs": [
    {
     "data": {
      "application/vnd.jupyter.widget-view+json": {
       "model_id": "2eecbb585c7a4773a1ea541a4e31e101",
       "version_major": 2,
       "version_minor": 0
      },
      "text/plain": [
       "  0%|          | 0/200 [00:00<?, ?it/s]"
      ]
     },
     "metadata": {},
     "output_type": "display_data"
    },
    {
     "data": {
      "image/png": "[encoded data removed]",
      "text/plain": [
       "<Figure size 360x360 with 1 Axes>"
      ]
     },
     "metadata": {
      "needs_background": "light"
     },
     "output_type": "display_data"
    }
   ],
   "source": [
    "from sklearn.model_selection import train_test_split\n",
    "import matplotlib.pyplot as plt\n",
    "import numpy as np\n",
    "r = range(gb.Speaker_age_at_recording.astype(int).min(), gb.Speaker_age_at_recording.astype(int).max(), 3)\n",
    "plt.style.use([\"science\", \"no-latex\"])\n",
    "fig, ax = plt.subplots(figsize=(5,5))\n",
    "\n",
    "\n",
    "def calc_similarity(v1, v2, v3):\n",
    "    cos_sim1 = np.dot(v1, v2)/(np.linalg.norm(v1)*np.linalg.norm(v2))\n",
    "    cos_sim2 = np.dot(v1, v3)/(np.linalg.norm(v1)*np.linalg.norm(v3))\n",
    "\n",
    "    return 0.5 * cos_sim1 + 0.5 * cos_sim2\n",
    "\n",
    "best_i, best_j = 0,0\n",
    "best_sim = 0\n",
    "\n",
    "from tqdm.auto import tqdm\n",
    "\n",
    "for i in tqdm(range(200)):\n",
    "    for j in range(200):\n",
    "        train, devtest = train_test_split(gb, train_size=0.6, random_state=i, stratify=gb.Speaker_age_group)\n",
    "        dev, test = train_test_split(devtest, train_size=0.5, random_state=j, stratify=devtest.Speaker_age_group)\n",
    "        train_vector = np.histogram(train.Speaker_age_at_recording, bins=r)[0]\n",
    "        dev_vector = np.histogram(dev.Speaker_age_at_recording, bins=r)[0]\n",
    "        test_vector = np.histogram(test.Speaker_age_at_recording, bins=r)[0]\n",
    "\n",
    "        sim = calc_similarity(train_vector, dev_vector, test_vector)\n",
    "        if sim > best_sim:\n",
    "            best_sim = sim\n",
    "            best_i, best_j = i, j\n",
    "\n",
    "\n",
    "train, devtest = train_test_split(gb, train_size=0.6, random_state=i, stratify=gb.Speaker_age_group)\n",
    "dev, test = train_test_split(devtest, train_size=0.5, random_state=j, stratify=devtest.Speaker_age_group)\n",
    "\n",
    "train.Speaker_age_at_recording.plot.hist(ax=ax, label=\"train\", density=True, bins=r)\n",
    "test.Speaker_age_at_recording.plot.hist(ax=ax, label=\"test\", density=True, bins=r, histtype=\"step\")\n",
    "dev.Speaker_age_at_recording.plot.hist(ax=ax, label=\"dev\", density=True, bins=r, histtype=\"step\")\n",
    "plt.legend()\n",
    "plt.show()\n",
    "\n"
   ]
  },
  {
   "cell_type": "code",
   "execution_count": 50,
   "metadata": {},
   "outputs": [
    {
     "data": {
      "text/plain": [
       "(60, 4)"
      ]
     },
     "execution_count": 50,
     "metadata": {},
     "output_type": "execute_result"
    }
   ],
   "source": [
    "train.shape"
   ]
  },
  {
   "cell_type": "code",
   "execution_count": 51,
   "metadata": {},
   "outputs": [],
   "source": [
    "train_data = []\n",
    "train = train.index.tolist()\n",
    "test = test.index.tolist()\n",
    "dev = dev.index.tolist()\n",
    "\n",
    "for speaker, row in gb.loc[train, :].iterrows():\n",
    "    clips = df[df.Speaker_name == speaker].path.sample(20).values.tolist()\n",
    "    for clip in clips:\n",
    "        train_data.append({\n",
    "            \"Speaker_name\": speaker,\n",
    "            **row,\n",
    "            \"path\": clip\n",
    "        })\n",
    "\n",
    "train_df = pd.DataFrame(data=train_data)\n",
    "\n",
    "test_data = []\n",
    "for speaker, row in gb.loc[test, :].iterrows():\n",
    "    clips = df[df.Speaker_name == speaker].path.sample(50).values.tolist()\n",
    "    for clip in clips:\n",
    "        test_data.append({\n",
    "            \"Speaker_name\": speaker,\n",
    "            **row,\n",
    "            \"path\": clip\n",
    "        })\n",
    "\n",
    "test_df = pd.DataFrame(data=test_data)\n",
    "\n",
    "dev_data = []\n",
    "for speaker, row in gb.loc[dev, :].iterrows():\n",
    "    clips = df[df.Speaker_name == speaker].path.sample(50).values.tolist()\n",
    "    for clip in clips:\n",
    "        dev_data.append({\n",
    "            \"Speaker_name\": speaker,\n",
    "            **row,\n",
    "            \"path\": clip\n",
    "        })\n",
    "\n",
    "dev_df = pd.DataFrame(data=dev_data)\n"
   ]
  },
  {
   "cell_type": "markdown",
   "metadata": {},
   "source": [
    "Checking hyigienicity of the splits:"
   ]
  },
  {
   "cell_type": "code",
   "execution_count": 52,
   "metadata": {},
   "outputs": [
    {
     "data": {
      "text/plain": [
       "set()"
      ]
     },
     "execution_count": 52,
     "metadata": {},
     "output_type": "execute_result"
    }
   ],
   "source": [
    "set(train_df.Speaker_name.tolist()).intersection(test_df.Speaker_name.tolist())"
   ]
  },
  {
   "cell_type": "code",
   "execution_count": 53,
   "metadata": {},
   "outputs": [
    {
     "data": {
      "text/plain": [
       "set()"
      ]
     },
     "execution_count": 53,
     "metadata": {},
     "output_type": "execute_result"
    }
   ],
   "source": [
    "set(dev_df.Speaker_name.tolist()).intersection(test_df.Speaker_name.tolist())"
   ]
  },
  {
   "cell_type": "code",
   "execution_count": 56,
   "metadata": {},
   "outputs": [],
   "source": [
    "files_to_move = test_df.path.tolist() + train_df.path.tolist()\n",
    "\n",
    "with open(\"006_files_to_move.txt\", \"w\") as f:\n",
    "    for file in files_to_move:\n",
    "        f.write(file+\"\\n\")\n",
    "\n",
    "test_df[\"path\"] = test_df.path.apply(lambda s: \"data_age/seg.\"+s)\n",
    "train_df[\"path\"] = train_df.path.apply(lambda s: \"data_age/seg.\"+s)\n",
    "dev_df[\"path\"] = dev_df.path.apply(lambda s: \"data_age/seg.\"+s)\n",
    "test_df.to_csv(\"006_age_test.csv\", index=False)\n",
    "train_df.to_csv(\"006_age_train.csv\", index=False)\n",
    "dev_df.to_csv(\"006_age_dev.csv\", index=False)"
   ]
  },
  {
   "cell_type": "code",
   "execution_count": null,
   "metadata": {},
   "outputs": [],
   "source": []
  }
 ],
 "metadata": {
  "interpreter": {
   "hash": "7f6f5766036ee03d059e365a942add07f79c17033585e9357ee8157d52fe6bb9"
  },
  "kernelspec": {
   "display_name": "Python 3.8.3 ('base')",
   "language": "python",
   "name": "python3"
  },
  "language_info": {
   "codemirror_mode": {
    "name": "ipython",
    "version": 3
   },
   "file_extension": ".py",
   "mimetype": "text/x-python",
   "name": "python",
   "nbconvert_exporter": "python",
   "pygments_lexer": "ipython3",
   "version": "3.8.3"
  },
  "orig_nbformat": 4
 },
 "nbformat": 4,
 "nbformat_minor": 2
}
