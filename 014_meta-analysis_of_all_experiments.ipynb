{
 "cells": [
  {
   "cell_type": "code",
   "execution_count": 1,
   "metadata": {},
   "outputs": [
    {
     "name": "stdout",
     "output_type": "stream",
     "text": [
      "[PosixPath('/home/peterr/macocu/task11/010_results.jsonl'), PosixPath('/home/peterr/macocu/task11/011_results.jsonl'), PosixPath('/home/peterr/macocu/task11/013_results_english.jsonl'), PosixPath('/home/peterr/macocu/task11/008_results.jsonl'), PosixPath('/home/peterr/macocu/task11/012_results_nonslavic.jsonl'), PosixPath('/home/peterr/macocu/task11/012_results.jsonl'), PosixPath('/home/peterr/macocu/task11/013_results_slavic_asr.jsonl')]\n"
     ]
    },
    {
     "data": {
      "text/plain": [
       "array(['Speaker_gender', 'Speaker_name', 'Speaker_age_group',\n",
       "       'Party_status'], dtype=object)"
      ]
     },
     "execution_count": 1,
     "metadata": {},
     "output_type": "execute_result"
    }
   ],
   "source": [
    "import pandas as pd\n",
    "from pathlib import Path\n",
    "\n",
    "p = Path(\".\")\n",
    "files = list(p.resolve().rglob(\"0*.jsonl\"))\n",
    "print(files)\n",
    "\n",
    "df = pd.concat([pd.read_json(f, orient=\"records\", lines=True) for f in files], ignore_index=True)\n",
    "\n",
    "from sklearn.metrics import accuracy_score, f1_score\n",
    "\n",
    "df[\"accuracy\"] = df.apply(\n",
    "    lambda row: accuracy_score(row[\"y_true\"], row[\"y_pred\"]), axis=1\n",
    ")\n",
    "df[\"macroF1\"] = df.apply(\n",
    "    lambda row: f1_score(row[\"y_true\"], row[\"y_pred\"], average=\"macro\"), axis=1\n",
    ")\n",
    "\n",
    "def assign_model(row):\n",
    "    try:\n",
    "        return row[\"train_config\"][\"model_name_or_path\"]\n",
    "    except:\n",
    "        return \"/\".join(row[\"model_name_or_path\"].split(\"/\")[-2].split(\"_\")[0:2])\n",
    "\n",
    "df[\"model\"] = df.apply(assign_model, axis=1)\n",
    "df.shape\n",
    "df.output_column.unique()"
   ]
  },
  {
   "cell_type": "code",
   "execution_count": 2,
   "metadata": {},
   "outputs": [
    {
     "name": "stdout",
     "output_type": "stream",
     "text": [
      "\\begin{tabular}{llrr}\n",
      "\\toprule\n",
      "                                        model &     eval\\_file &  accuracy &   macroF1 \\\\\n",
      "\\midrule\n",
      "       facebook/wav2vec2-large-960h-lv60-self &  012\\_test.csv &  0.548889 &  0.531373 \\\\\n",
      "       facebook/wav2vec2-large-960h-lv60-self &  012\\_test.csv &  0.590000 &  0.587285 \\\\\n",
      "  facebook/wav2vec2-large-slavic-voxpopuli-v2 &  012\\_test.csv &  0.590000 &  0.587285 \\\\\n",
      " classla/wav2vec2-large-slavic-parlaspeech-hr &  012\\_test.csv &  0.590000 &  0.587285 \\\\\n",
      " classla/wav2vec2-large-slavic-parlaspeech-hr &  012\\_test.csv &  0.626667 &  0.625928 \\\\\n",
      "\\bottomrule\n",
      "\\end{tabular}\n",
      "\n"
     ]
    }
   ],
   "source": [
    "print(df.loc[(df.output_column == \"Party_status\") & df.eval_file.str.contains(\"test\"), \"model eval_file accuracy macroF1\".split()].to_latex(index=False))"
   ]
  },
  {
   "cell_type": "markdown",
   "metadata": {},
   "source": [
    "Let us only keep rows that were calculated on test split:"
   ]
  },
  {
   "cell_type": "code",
   "execution_count": null,
   "metadata": {},
   "outputs": [],
   "source": [
    "# df = df[df.eval_file.str.contains(\"test\")]\n",
    "# df.shape"
   ]
  },
  {
   "cell_type": "code",
   "execution_count": null,
   "metadata": {},
   "outputs": [],
   "source": [
    "df.columns"
   ]
  },
  {
   "cell_type": "code",
   "execution_count": null,
   "metadata": {},
   "outputs": [],
   "source": [
    "gb = df.groupby([\n",
    "\"output_column\", \n",
    "\"model\", \n",
    "\"eval_file\", \n",
    "\"clip_seconds\"\n",
    "]).agg(\n",
    "    {\"macroF1\": \"mean\", \"accuracy\": \"mean\"}\n",
    ").reset_index()\n",
    "\n",
    "print(gb.to_markdown())\n",
    "\n",
    "gb"
   ]
  },
  {
   "cell_type": "markdown",
   "metadata": {},
   "source": [
    "Only `Party_status` experiments"
   ]
  },
  {
   "cell_type": "code",
   "execution_count": null,
   "metadata": {},
   "outputs": [],
   "source": [
    "df[\n",
    "    (df.output_column == \"Party_status\") &\n",
    "    df.eval_file.str.contains(\"test\")\n",
    "    ]"
   ]
  },
  {
   "cell_type": "code",
   "execution_count": null,
   "metadata": {},
   "outputs": [],
   "source": [
    "import seaborn as sns\n",
    "import matplotlib.pyplot as plt\n",
    "plt.style.use(\"science no-latex\".split())\n",
    "fig, ax = plt.subplots(figsize=(10,5))\n",
    "sns.barplot(x=\"output_column\", y=\"accuracy\",ci=\"sd\", data=df[df.eval_file.str.contains(\"test\")], hue=\"clip_seconds\", ax=ax)\n",
    "plt.ylim((0.5, 1))\n",
    "plt.show()"
   ]
  },
  {
   "cell_type": "code",
   "execution_count": 20,
   "metadata": {},
   "outputs": [
    {
     "data": {
      "text/html": [
       "<div>\n",
       "<style scoped>\n",
       "    .dataframe tbody tr th:only-of-type {\n",
       "        vertical-align: middle;\n",
       "    }\n",
       "\n",
       "    .dataframe tbody tr th {\n",
       "        vertical-align: top;\n",
       "    }\n",
       "\n",
       "    .dataframe thead th {\n",
       "        text-align: right;\n",
       "    }\n",
       "</style>\n",
       "<table border=\"1\" class=\"dataframe\">\n",
       "  <thead>\n",
       "    <tr style=\"text-align: right;\">\n",
       "      <th></th>\n",
       "      <th>model_name_or_path</th>\n",
       "      <th>clip_seconds</th>\n",
       "      <th>eval_file</th>\n",
       "      <th>accuracy</th>\n",
       "      <th>macroF1</th>\n",
       "      <th>model</th>\n",
       "    </tr>\n",
       "  </thead>\n",
       "  <tbody>\n",
       "    <tr>\n",
       "      <th>5</th>\n",
       "      <td>models/facebook_wav2vec2-large-960h-lv60-self_...</td>\n",
       "      <td>2</td>\n",
       "      <td>003_speaker_id_test_for_datasets.csv</td>\n",
       "      <td>0.106</td>\n",
       "      <td>0.047947</td>\n",
       "      <td>facebook/wav2vec2-large-960h-lv60-self</td>\n",
       "    </tr>\n",
       "    <tr>\n",
       "      <th>4</th>\n",
       "      <td>models/facebook_wav2vec2-large-960h-lv60-self_...</td>\n",
       "      <td>2</td>\n",
       "      <td>003_speaker_id_dev_for_datasets.csv</td>\n",
       "      <td>0.140</td>\n",
       "      <td>0.079944</td>\n",
       "      <td>facebook/wav2vec2-large-960h-lv60-self</td>\n",
       "    </tr>\n",
       "    <tr>\n",
       "      <th>6</th>\n",
       "      <td>models/facebook_wav2vec2-large-960h-lv60-self_...</td>\n",
       "      <td>-1</td>\n",
       "      <td>003_speaker_id_dev_for_datasets.csv</td>\n",
       "      <td>0.316</td>\n",
       "      <td>0.255417</td>\n",
       "      <td>facebook/wav2vec2-large-960h-lv60-self</td>\n",
       "    </tr>\n",
       "    <tr>\n",
       "      <th>7</th>\n",
       "      <td>models/facebook_wav2vec2-large-960h-lv60-self_...</td>\n",
       "      <td>-1</td>\n",
       "      <td>003_speaker_id_test_for_datasets.csv</td>\n",
       "      <td>0.334</td>\n",
       "      <td>0.274969</td>\n",
       "      <td>facebook/wav2vec2-large-960h-lv60-self</td>\n",
       "    </tr>\n",
       "    <tr>\n",
       "      <th>25</th>\n",
       "      <td>models/facebook_wav2vec2-large-slavic-voxpopul...</td>\n",
       "      <td>2</td>\n",
       "      <td>003_speaker_id_dev_for_datasets.csv</td>\n",
       "      <td>0.738</td>\n",
       "      <td>0.703877</td>\n",
       "      <td>facebook/wav2vec2-large-slavic-voxpopuli-v2</td>\n",
       "    </tr>\n",
       "    <tr>\n",
       "      <th>26</th>\n",
       "      <td>models/facebook_wav2vec2-large-slavic-voxpopul...</td>\n",
       "      <td>2</td>\n",
       "      <td>003_speaker_id_test_for_datasets.csv</td>\n",
       "      <td>0.806</td>\n",
       "      <td>0.784407</td>\n",
       "      <td>facebook/wav2vec2-large-slavic-voxpopuli-v2</td>\n",
       "    </tr>\n",
       "    <tr>\n",
       "      <th>27</th>\n",
       "      <td>models/facebook_wav2vec2-large-slavic-voxpopul...</td>\n",
       "      <td>-1</td>\n",
       "      <td>003_speaker_id_dev_for_datasets.csv</td>\n",
       "      <td>0.992</td>\n",
       "      <td>0.991667</td>\n",
       "      <td>facebook/wav2vec2-large-slavic-voxpopuli-v2</td>\n",
       "    </tr>\n",
       "    <tr>\n",
       "      <th>28</th>\n",
       "      <td>models/facebook_wav2vec2-large-slavic-voxpopul...</td>\n",
       "      <td>-1</td>\n",
       "      <td>003_speaker_id_test_for_datasets.csv</td>\n",
       "      <td>0.998</td>\n",
       "      <td>0.997995</td>\n",
       "      <td>facebook/wav2vec2-large-slavic-voxpopuli-v2</td>\n",
       "    </tr>\n",
       "    <tr>\n",
       "      <th>42</th>\n",
       "      <td>/home/peterr/macocu/task11/models/classla_wav2...</td>\n",
       "      <td>-1</td>\n",
       "      <td>003_speaker_id_dev_for_datasets.csv</td>\n",
       "      <td>0.998</td>\n",
       "      <td>0.997995</td>\n",
       "      <td>classla/wav2vec2-large-slavic-parlaspeech-hr</td>\n",
       "    </tr>\n",
       "    <tr>\n",
       "      <th>44</th>\n",
       "      <td>/home/peterr/macocu/task11/models/classla_wav2...</td>\n",
       "      <td>2</td>\n",
       "      <td>003_speaker_id_dev_for_datasets.csv</td>\n",
       "      <td>0.998</td>\n",
       "      <td>0.997995</td>\n",
       "      <td>classla/wav2vec2-large-slavic-parlaspeech-hr</td>\n",
       "    </tr>\n",
       "    <tr>\n",
       "      <th>43</th>\n",
       "      <td>/home/peterr/macocu/task11/models/classla_wav2...</td>\n",
       "      <td>-1</td>\n",
       "      <td>003_speaker_id_test_for_datasets.csv</td>\n",
       "      <td>1.000</td>\n",
       "      <td>1.000000</td>\n",
       "      <td>classla/wav2vec2-large-slavic-parlaspeech-hr</td>\n",
       "    </tr>\n",
       "    <tr>\n",
       "      <th>45</th>\n",
       "      <td>/home/peterr/macocu/task11/models/classla_wav2...</td>\n",
       "      <td>2</td>\n",
       "      <td>003_speaker_id_test_for_datasets.csv</td>\n",
       "      <td>1.000</td>\n",
       "      <td>1.000000</td>\n",
       "      <td>classla/wav2vec2-large-slavic-parlaspeech-hr</td>\n",
       "    </tr>\n",
       "  </tbody>\n",
       "</table>\n",
       "</div>"
      ],
      "text/plain": [
       "                                   model_name_or_path  clip_seconds  \\\n",
       "5   models/facebook_wav2vec2-large-960h-lv60-self_...             2   \n",
       "4   models/facebook_wav2vec2-large-960h-lv60-self_...             2   \n",
       "6   models/facebook_wav2vec2-large-960h-lv60-self_...            -1   \n",
       "7   models/facebook_wav2vec2-large-960h-lv60-self_...            -1   \n",
       "25  models/facebook_wav2vec2-large-slavic-voxpopul...             2   \n",
       "26  models/facebook_wav2vec2-large-slavic-voxpopul...             2   \n",
       "27  models/facebook_wav2vec2-large-slavic-voxpopul...            -1   \n",
       "28  models/facebook_wav2vec2-large-slavic-voxpopul...            -1   \n",
       "42  /home/peterr/macocu/task11/models/classla_wav2...            -1   \n",
       "44  /home/peterr/macocu/task11/models/classla_wav2...             2   \n",
       "43  /home/peterr/macocu/task11/models/classla_wav2...            -1   \n",
       "45  /home/peterr/macocu/task11/models/classla_wav2...             2   \n",
       "\n",
       "                               eval_file  accuracy   macroF1  \\\n",
       "5   003_speaker_id_test_for_datasets.csv     0.106  0.047947   \n",
       "4    003_speaker_id_dev_for_datasets.csv     0.140  0.079944   \n",
       "6    003_speaker_id_dev_for_datasets.csv     0.316  0.255417   \n",
       "7   003_speaker_id_test_for_datasets.csv     0.334  0.274969   \n",
       "25   003_speaker_id_dev_for_datasets.csv     0.738  0.703877   \n",
       "26  003_speaker_id_test_for_datasets.csv     0.806  0.784407   \n",
       "27   003_speaker_id_dev_for_datasets.csv     0.992  0.991667   \n",
       "28  003_speaker_id_test_for_datasets.csv     0.998  0.997995   \n",
       "42   003_speaker_id_dev_for_datasets.csv     0.998  0.997995   \n",
       "44   003_speaker_id_dev_for_datasets.csv     0.998  0.997995   \n",
       "43  003_speaker_id_test_for_datasets.csv     1.000  1.000000   \n",
       "45  003_speaker_id_test_for_datasets.csv     1.000  1.000000   \n",
       "\n",
       "                                           model  \n",
       "5         facebook/wav2vec2-large-960h-lv60-self  \n",
       "4         facebook/wav2vec2-large-960h-lv60-self  \n",
       "6         facebook/wav2vec2-large-960h-lv60-self  \n",
       "7         facebook/wav2vec2-large-960h-lv60-self  \n",
       "25   facebook/wav2vec2-large-slavic-voxpopuli-v2  \n",
       "26   facebook/wav2vec2-large-slavic-voxpopuli-v2  \n",
       "27   facebook/wav2vec2-large-slavic-voxpopuli-v2  \n",
       "28   facebook/wav2vec2-large-slavic-voxpopuli-v2  \n",
       "42  classla/wav2vec2-large-slavic-parlaspeech-hr  \n",
       "44  classla/wav2vec2-large-slavic-parlaspeech-hr  \n",
       "43  classla/wav2vec2-large-slavic-parlaspeech-hr  \n",
       "45  classla/wav2vec2-large-slavic-parlaspeech-hr  "
      ]
     },
     "execution_count": 20,
     "metadata": {},
     "output_type": "execute_result"
    }
   ],
   "source": [
    "df.drop_duplicates(subset=[\"accuracy\", \"model_name_or_path\",'eval_file', \"clip_seconds\"],inplace=True)\n",
    "c1 = df.output_column == \"Speaker_name\"\n",
    "c2 = df.clip_seconds == -1\n",
    "c3 = [True if 0.8 < i < 1.1 else False for i in df.accuracy.values]\n",
    "df.loc[c1, [\"model_name_or_path\", \"clip_seconds\", \"eval_file\", \"accuracy\", \"macroF1\", 'model']].sort_values(by=\"accuracy\")"
   ]
  },
  {
   "cell_type": "code",
   "execution_count": null,
   "metadata": {},
   "outputs": [],
   "source": []
  }
 ],
 "metadata": {
  "interpreter": {
   "hash": "7f6f5766036ee03d059e365a942add07f79c17033585e9357ee8157d52fe6bb9"
  },
  "kernelspec": {
   "display_name": "Python 3.8.3 ('base')",
   "language": "python",
   "name": "python3"
  },
  "language_info": {
   "codemirror_mode": {
    "name": "ipython",
    "version": 3
   },
   "file_extension": ".py",
   "mimetype": "text/x-python",
   "name": "python",
   "nbconvert_exporter": "python",
   "pygments_lexer": "ipython3",
   "version": "3.8.3"
  },
  "orig_nbformat": 4
 },
 "nbformat": 4,
 "nbformat_minor": 2
}
