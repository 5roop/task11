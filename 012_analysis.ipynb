{
 "cells": [
  {
   "cell_type": "code",
   "execution_count": 5,
   "metadata": {},
   "outputs": [
    {
     "name": "stderr",
     "output_type": "stream",
     "text": [
      "Using custom data configuration default-5d8e22d452fd7b02\n"
     ]
    },
    {
     "name": "stdout",
     "output_type": "stream",
     "text": [
      "Downloading and preparing dataset csv/default to /home/peterr/.cache/huggingface/datasets/csv/default-5d8e22d452fd7b02/0.0.0/433e0ccc46f9880962cc2b12065189766fbb2bee57a221866138fb9203c83519...\n"
     ]
    },
    {
     "data": {
      "application/vnd.jupyter.widget-view+json": {
       "model_id": "2d507b2888924abfa63e3ee2083d6674",
       "version_major": 2,
       "version_minor": 0
      },
      "text/plain": [
       "Downloading data files:   0%|          | 0/1 [00:00<?, ?it/s]"
      ]
     },
     "metadata": {},
     "output_type": "display_data"
    },
    {
     "data": {
      "application/vnd.jupyter.widget-view+json": {
       "model_id": "b683c303ef8d4efab9a6e85cd715080a",
       "version_major": 2,
       "version_minor": 0
      },
      "text/plain": [
       "Extracting data files:   0%|          | 0/1 [00:00<?, ?it/s]"
      ]
     },
     "metadata": {},
     "output_type": "display_data"
    },
    {
     "name": "stdout",
     "output_type": "stream",
     "text": [
      "Dataset csv downloaded and prepared to /home/peterr/.cache/huggingface/datasets/csv/default-5d8e22d452fd7b02/0.0.0/433e0ccc46f9880962cc2b12065189766fbb2bee57a221866138fb9203c83519. Subsequent calls will reuse this data.\n"
     ]
    },
    {
     "data": {
      "application/vnd.jupyter.widget-view+json": {
       "model_id": "d309597aef9f4e4590ac61a070e5451a",
       "version_major": 2,
       "version_minor": 0
      },
      "text/plain": [
       "  0%|          | 0/1 [00:00<?, ?it/s]"
      ]
     },
     "metadata": {},
     "output_type": "display_data"
    },
    {
     "name": "stderr",
     "output_type": "stream",
     "text": [
      "/home/peterr/anaconda3/lib/python3.8/site-packages/transformers/models/wav2vec2/processing_wav2vec2.py:52: FutureWarning: Loading a tokenizer inside Wav2Vec2Processor from a config that does not include a `tokenizer_class` attribute is deprecated and will be removed in v5. Please add `'tokenizer_class': 'Wav2Vec2CTCTokenizer'` attribute to either your `config.json` or `tokenizer_config.json` file to suppress this warning: \n",
      "  warnings.warn(\n",
      "Special tokens have been added in the vocabulary, make sure the associated word embeddings are fine-tuned or trained.\n"
     ]
    },
    {
     "data": {
      "application/vnd.jupyter.widget-view+json": {
       "model_id": "d1491399fc184cf086b1debcc279fdf2",
       "version_major": 2,
       "version_minor": 0
      },
      "text/plain": [
       "  0%|          | 0/900 [00:00<?, ?ex/s]"
      ]
     },
     "metadata": {},
     "output_type": "display_data"
    },
    {
     "name": "stderr",
     "output_type": "stream",
     "text": [
      "Parameter 'function'=<function eval_model.<locals>.predict at 0x7f23d8508550> of the transform datasets.arrow_dataset.Dataset._map_single couldn't be hashed properly, a random hash was used instead. Make sure your transforms and parameters are serializable with pickle or dill for the dataset fingerprinting and caching to work. If you reuse this transform, the caching mechanism will consider it to be different from the previous calls and recompute everything. This warning is only showed once. Subsequent hashing failures won't be showed.\n"
     ]
    },
    {
     "data": {
      "application/vnd.jupyter.widget-view+json": {
       "model_id": "ee32cce134f14368a10f836a591a831f",
       "version_major": 2,
       "version_minor": 0
      },
      "text/plain": [
       "  0%|          | 0/113 [00:00<?, ?ba/s]"
      ]
     },
     "metadata": {},
     "output_type": "display_data"
    },
    {
     "name": "stderr",
     "output_type": "stream",
     "text": [
      "Using custom data configuration default-851b912a62e0bb34\n"
     ]
    },
    {
     "name": "stdout",
     "output_type": "stream",
     "text": [
      "Downloading and preparing dataset csv/default to /home/peterr/.cache/huggingface/datasets/csv/default-851b912a62e0bb34/0.0.0/433e0ccc46f9880962cc2b12065189766fbb2bee57a221866138fb9203c83519...\n"
     ]
    },
    {
     "data": {
      "application/vnd.jupyter.widget-view+json": {
       "model_id": "7b4862bd1092460b95933a67660433f6",
       "version_major": 2,
       "version_minor": 0
      },
      "text/plain": [
       "Downloading data files:   0%|          | 0/1 [00:00<?, ?it/s]"
      ]
     },
     "metadata": {},
     "output_type": "display_data"
    },
    {
     "data": {
      "application/vnd.jupyter.widget-view+json": {
       "model_id": "11865247292e467584585b7e21a43ad0",
       "version_major": 2,
       "version_minor": 0
      },
      "text/plain": [
       "Extracting data files:   0%|          | 0/1 [00:00<?, ?it/s]"
      ]
     },
     "metadata": {},
     "output_type": "display_data"
    },
    {
     "name": "stdout",
     "output_type": "stream",
     "text": [
      "Dataset csv downloaded and prepared to /home/peterr/.cache/huggingface/datasets/csv/default-851b912a62e0bb34/0.0.0/433e0ccc46f9880962cc2b12065189766fbb2bee57a221866138fb9203c83519. Subsequent calls will reuse this data.\n"
     ]
    },
    {
     "data": {
      "application/vnd.jupyter.widget-view+json": {
       "model_id": "76c93dbf7ed242e5876bb46deaa76093",
       "version_major": 2,
       "version_minor": 0
      },
      "text/plain": [
       "  0%|          | 0/1 [00:00<?, ?it/s]"
      ]
     },
     "metadata": {},
     "output_type": "display_data"
    },
    {
     "name": "stderr",
     "output_type": "stream",
     "text": [
      "Special tokens have been added in the vocabulary, make sure the associated word embeddings are fine-tuned or trained.\n"
     ]
    },
    {
     "data": {
      "application/vnd.jupyter.widget-view+json": {
       "model_id": "d2753cc741234745a23c3620515a4606",
       "version_major": 2,
       "version_minor": 0
      },
      "text/plain": [
       "  0%|          | 0/900 [00:00<?, ?ex/s]"
      ]
     },
     "metadata": {},
     "output_type": "display_data"
    },
    {
     "data": {
      "application/vnd.jupyter.widget-view+json": {
       "model_id": "37f01117507047b3bfd4e2081aed3fca",
       "version_major": 2,
       "version_minor": 0
      },
      "text/plain": [
       "  0%|          | 0/113 [00:00<?, ?ba/s]"
      ]
     },
     "metadata": {},
     "output_type": "display_data"
    }
   ],
   "source": [
    "import pandas as pd\n",
    "from utils import eval_model\n",
    "results = list()\n",
    "clip = -1\n",
    "for split in \"dev test\".split():\n",
    "    config = {\n",
    "        \"output_column\": \"Party_status\",\n",
    "        \"model_name_or_path\": \"models/facebook_wav2vec2-large-slavic-voxpopuli-v2_PARTY_STATUS_/checkpoint-624\",\n",
    "        \"eval_file\": f\"012_{split}.csv\",\n",
    "        \"clip_seconds\": clip,\n",
    "    }\n",
    "    y_true, y_pred = eval_model(config)\n",
    "\n",
    "    results.append({**config, \"y_true\": y_true, \"y_pred\": y_pred})"
   ]
  },
  {
   "cell_type": "code",
   "execution_count": 7,
   "metadata": {},
   "outputs": [],
   "source": [
    "import pandas as pd\n",
    "df = pd.DataFrame(data=results)\n",
    "df.to_json(\"012_results.jsonl\", orient=\"records\", lines=True)"
   ]
  },
  {
   "cell_type": "code",
   "execution_count": 8,
   "metadata": {},
   "outputs": [
    {
     "data": {
      "text/html": [
       "<div>\n",
       "<style scoped>\n",
       "    .dataframe tbody tr th:only-of-type {\n",
       "        vertical-align: middle;\n",
       "    }\n",
       "\n",
       "    .dataframe tbody tr th {\n",
       "        vertical-align: top;\n",
       "    }\n",
       "\n",
       "    .dataframe thead th {\n",
       "        text-align: right;\n",
       "    }\n",
       "</style>\n",
       "<table border=\"1\" class=\"dataframe\">\n",
       "  <thead>\n",
       "    <tr style=\"text-align: right;\">\n",
       "      <th></th>\n",
       "      <th>output_column</th>\n",
       "      <th>model_name_or_path</th>\n",
       "      <th>eval_file</th>\n",
       "      <th>clip_seconds</th>\n",
       "      <th>y_true</th>\n",
       "      <th>y_pred</th>\n",
       "      <th>accuracy</th>\n",
       "      <th>macroF1</th>\n",
       "    </tr>\n",
       "  </thead>\n",
       "  <tbody>\n",
       "    <tr>\n",
       "      <th>0</th>\n",
       "      <td>Party_status</td>\n",
       "      <td>models/facebook_wav2vec2-large-slavic-voxpopul...</td>\n",
       "      <td>012_dev.csv</td>\n",
       "      <td>-1</td>\n",
       "      <td>[Coalition, Coalition, Coalition, Opposition, ...</td>\n",
       "      <td>[Opposition, Opposition, Coalition, Opposition...</td>\n",
       "      <td>0.624444</td>\n",
       "      <td>0.594121</td>\n",
       "    </tr>\n",
       "    <tr>\n",
       "      <th>1</th>\n",
       "      <td>Party_status</td>\n",
       "      <td>models/facebook_wav2vec2-large-slavic-voxpopul...</td>\n",
       "      <td>012_test.csv</td>\n",
       "      <td>-1</td>\n",
       "      <td>[Coalition, Coalition, Coalition, Coalition, O...</td>\n",
       "      <td>[Opposition, Coalition, Opposition, Coalition,...</td>\n",
       "      <td>0.614444</td>\n",
       "      <td>0.595453</td>\n",
       "    </tr>\n",
       "  </tbody>\n",
       "</table>\n",
       "</div>"
      ],
      "text/plain": [
       "  output_column                                 model_name_or_path  \\\n",
       "0  Party_status  models/facebook_wav2vec2-large-slavic-voxpopul...   \n",
       "1  Party_status  models/facebook_wav2vec2-large-slavic-voxpopul...   \n",
       "\n",
       "      eval_file  clip_seconds  \\\n",
       "0   012_dev.csv            -1   \n",
       "1  012_test.csv            -1   \n",
       "\n",
       "                                              y_true  \\\n",
       "0  [Coalition, Coalition, Coalition, Opposition, ...   \n",
       "1  [Coalition, Coalition, Coalition, Coalition, O...   \n",
       "\n",
       "                                              y_pred  accuracy   macroF1  \n",
       "0  [Opposition, Opposition, Coalition, Opposition...  0.624444  0.594121  \n",
       "1  [Opposition, Coalition, Opposition, Coalition,...  0.614444  0.595453  "
      ]
     },
     "execution_count": 8,
     "metadata": {},
     "output_type": "execute_result"
    }
   ],
   "source": [
    "import pandas as pd\n",
    "from sklearn.metrics import accuracy_score, f1_score\n",
    "df = pd.read_json(\"012_results.jsonl\", orient=\"records\", lines=True).drop_duplicates(subset=[\"eval_file\", \"clip_seconds\"])\n",
    "df[\"accuracy\"] = df.apply(lambda row: accuracy_score(row[\"y_true\"], row[\"y_pred\"]), axis=1)\n",
    "df[\"macroF1\"] = df.apply(lambda row: f1_score(row[\"y_true\"], row[\"y_pred\"], average=\"macro\"), axis=1)\n",
    "df.tail()"
   ]
  },
  {
   "cell_type": "code",
   "execution_count": null,
   "metadata": {},
   "outputs": [],
   "source": []
  },
  {
   "cell_type": "code",
   "execution_count": 9,
   "metadata": {},
   "outputs": [
    {
     "name": "stdout",
     "output_type": "stream",
     "text": [
      "|                      |   accuracy |   macroF1 |\n",
      "|:---------------------|-----------:|----------:|\n",
      "| ('012_dev.csv', -1)  |   0.624444 |  0.594121 |\n",
      "| ('012_test.csv', -1) |   0.614444 |  0.595453 |\n"
     ]
    },
    {
     "data": {
      "text/html": [
       "<div>\n",
       "<style scoped>\n",
       "    .dataframe tbody tr th:only-of-type {\n",
       "        vertical-align: middle;\n",
       "    }\n",
       "\n",
       "    .dataframe tbody tr th {\n",
       "        vertical-align: top;\n",
       "    }\n",
       "\n",
       "    .dataframe thead th {\n",
       "        text-align: right;\n",
       "    }\n",
       "</style>\n",
       "<table border=\"1\" class=\"dataframe\">\n",
       "  <thead>\n",
       "    <tr style=\"text-align: right;\">\n",
       "      <th></th>\n",
       "      <th></th>\n",
       "      <th>accuracy</th>\n",
       "      <th>macroF1</th>\n",
       "    </tr>\n",
       "    <tr>\n",
       "      <th>eval_file</th>\n",
       "      <th>clip_seconds</th>\n",
       "      <th></th>\n",
       "      <th></th>\n",
       "    </tr>\n",
       "  </thead>\n",
       "  <tbody>\n",
       "    <tr>\n",
       "      <th>012_dev.csv</th>\n",
       "      <th>-1</th>\n",
       "      <td>0.624444</td>\n",
       "      <td>0.594121</td>\n",
       "    </tr>\n",
       "    <tr>\n",
       "      <th>012_test.csv</th>\n",
       "      <th>-1</th>\n",
       "      <td>0.614444</td>\n",
       "      <td>0.595453</td>\n",
       "    </tr>\n",
       "  </tbody>\n",
       "</table>\n",
       "</div>"
      ],
      "text/plain": [
       "                           accuracy   macroF1\n",
       "eval_file    clip_seconds                    \n",
       "012_dev.csv  -1            0.624444  0.594121\n",
       "012_test.csv -1            0.614444  0.595453"
      ]
     },
     "execution_count": 9,
     "metadata": {},
     "output_type": "execute_result"
    }
   ],
   "source": [
    "subset = df.loc[df.output_column==\"Party_status\", [\"eval_file\", \"clip_seconds\", \"accuracy\", \"macroF1\"]].groupby([\"eval_file\", \"clip_seconds\"]).mean()\n",
    "\n",
    "# print(subset.to_latex())\n",
    "# print(\"\\n\\n\\n\")\n",
    "print(subset.to_markdown())\n",
    "subset"
   ]
  },
  {
   "cell_type": "code",
   "execution_count": 27,
   "metadata": {},
   "outputs": [
    {
     "name": "stdout",
     "output_type": "stream",
     "text": [
      "|                                              |   accuracy |   macroF1 |\n",
      "|:---------------------------------------------|-----------:|----------:|\n",
      "| ('003_speaker_id_dev_for_datasets.csv', -1)  |      0.316 | 0.255417  |\n",
      "| ('003_speaker_id_dev_for_datasets.csv', 2)   |      0.14  | 0.0799439 |\n",
      "| ('003_speaker_id_test_for_datasets.csv', -1) |      0.334 | 0.274969  |\n",
      "| ('003_speaker_id_test_for_datasets.csv', 2)  |      0.106 | 0.0479471 |\n"
     ]
    },
    {
     "data": {
      "text/html": [
       "<div>\n",
       "<style scoped>\n",
       "    .dataframe tbody tr th:only-of-type {\n",
       "        vertical-align: middle;\n",
       "    }\n",
       "\n",
       "    .dataframe tbody tr th {\n",
       "        vertical-align: top;\n",
       "    }\n",
       "\n",
       "    .dataframe thead th {\n",
       "        text-align: right;\n",
       "    }\n",
       "</style>\n",
       "<table border=\"1\" class=\"dataframe\">\n",
       "  <thead>\n",
       "    <tr style=\"text-align: right;\">\n",
       "      <th></th>\n",
       "      <th></th>\n",
       "      <th>accuracy</th>\n",
       "      <th>macroF1</th>\n",
       "    </tr>\n",
       "    <tr>\n",
       "      <th>eval_file</th>\n",
       "      <th>clip_seconds</th>\n",
       "      <th></th>\n",
       "      <th></th>\n",
       "    </tr>\n",
       "  </thead>\n",
       "  <tbody>\n",
       "    <tr>\n",
       "      <th rowspan=\"2\" valign=\"top\">003_speaker_id_dev_for_datasets.csv</th>\n",
       "      <th>-1</th>\n",
       "      <td>0.316</td>\n",
       "      <td>0.255417</td>\n",
       "    </tr>\n",
       "    <tr>\n",
       "      <th>2</th>\n",
       "      <td>0.140</td>\n",
       "      <td>0.079944</td>\n",
       "    </tr>\n",
       "    <tr>\n",
       "      <th rowspan=\"2\" valign=\"top\">003_speaker_id_test_for_datasets.csv</th>\n",
       "      <th>-1</th>\n",
       "      <td>0.334</td>\n",
       "      <td>0.274969</td>\n",
       "    </tr>\n",
       "    <tr>\n",
       "      <th>2</th>\n",
       "      <td>0.106</td>\n",
       "      <td>0.047947</td>\n",
       "    </tr>\n",
       "  </tbody>\n",
       "</table>\n",
       "</div>"
      ],
      "text/plain": [
       "                                                   accuracy   macroF1\n",
       "eval_file                            clip_seconds                    \n",
       "003_speaker_id_dev_for_datasets.csv  -1               0.316  0.255417\n",
       "                                      2               0.140  0.079944\n",
       "003_speaker_id_test_for_datasets.csv -1               0.334  0.274969\n",
       "                                      2               0.106  0.047947"
      ]
     },
     "execution_count": 27,
     "metadata": {},
     "output_type": "execute_result"
    }
   ],
   "source": [
    "subset = df.loc[df.output_column==\"Speaker_name\", [\"eval_file\", \"clip_seconds\", \"accuracy\", \"macroF1\"]].groupby([\"eval_file\", \"clip_seconds\"]).mean()\n",
    "\n",
    "#print(subset.to_latex())\n",
    "# print(\"\\n\\n\\n\")\n",
    "print(subset.to_markdown())\n",
    "subset"
   ]
  },
  {
   "cell_type": "code",
   "execution_count": 11,
   "metadata": {},
   "outputs": [],
   "source": [
    "y_true, y_pred = df.loc[1, [\"y_true\", \"y_pred\"]]\n"
   ]
  },
  {
   "cell_type": "code",
   "execution_count": 12,
   "metadata": {},
   "outputs": [
    {
     "data": {
      "text/plain": [
       "output_column                                              Party_status\n",
       "model_name_or_path    models/facebook_wav2vec2-large-slavic-voxpopul...\n",
       "eval_file                                                  012_test.csv\n",
       "clip_seconds                                                         -1\n",
       "y_true                [Coalition, Coalition, Coalition, Coalition, O...\n",
       "y_pred                [Opposition, Coalition, Opposition, Coalition,...\n",
       "accuracy                                                       0.614444\n",
       "macroF1                                                        0.595453\n",
       "Name: 1, dtype: object"
      ]
     },
     "execution_count": 12,
     "metadata": {},
     "output_type": "execute_result"
    }
   ],
   "source": [
    "df.loc[1, :]"
   ]
  },
  {
   "cell_type": "code",
   "execution_count": 13,
   "metadata": {},
   "outputs": [
    {
     "data": {
      "image/png": "[encoded data removed]",
      "text/plain": [
       "<Figure size 360x360 with 2 Axes>"
      ]
     },
     "metadata": {
      "needs_background": "light"
     },
     "output_type": "display_data"
    }
   ],
   "source": [
    "import matplotlib.pyplot as plt\n",
    "plt.style.use(\"science no-latex\".split())\n",
    "from sklearn.metrics import ConfusionMatrixDisplay\n",
    "fi, ax = plt.subplots(figsize=(5,5))\n",
    "ConfusionMatrixDisplay.from_predictions(\n",
    "   y_true, y_pred, cmap=\"Oranges\", ax=ax, xticks_rotation=0)\n",
    "plt.title(\"Party status, test split\\nAccuracy: 0.61\")\n",
    "plt.savefig(\"images/012_cm_party_status_test.png\")\n",
    "plt.savefig(\"images/012_cm_party_status_test.pdf\")\n",
    "plt.show()"
   ]
  },
  {
   "cell_type": "code",
   "execution_count": 30,
   "metadata": {},
   "outputs": [
    {
     "name": "stdout",
     "output_type": "stream",
     "text": [
      "|                          |   accuracy |   macroF1 |\n",
      "|:-------------------------|-----------:|----------:|\n",
      "| ('006_age_dev.csv', -1)  |      0.716 |  0.708729 |\n",
      "| ('006_age_test.csv', -1) |      0.678 |  0.672112 |\n"
     ]
    },
    {
     "data": {
      "text/html": [
       "<div>\n",
       "<style scoped>\n",
       "    .dataframe tbody tr th:only-of-type {\n",
       "        vertical-align: middle;\n",
       "    }\n",
       "\n",
       "    .dataframe tbody tr th {\n",
       "        vertical-align: top;\n",
       "    }\n",
       "\n",
       "    .dataframe thead th {\n",
       "        text-align: right;\n",
       "    }\n",
       "</style>\n",
       "<table border=\"1\" class=\"dataframe\">\n",
       "  <thead>\n",
       "    <tr style=\"text-align: right;\">\n",
       "      <th></th>\n",
       "      <th></th>\n",
       "      <th>accuracy</th>\n",
       "      <th>macroF1</th>\n",
       "    </tr>\n",
       "    <tr>\n",
       "      <th>eval_file</th>\n",
       "      <th>clip_seconds</th>\n",
       "      <th></th>\n",
       "      <th></th>\n",
       "    </tr>\n",
       "  </thead>\n",
       "  <tbody>\n",
       "    <tr>\n",
       "      <th>006_age_dev.csv</th>\n",
       "      <th>-1</th>\n",
       "      <td>0.716</td>\n",
       "      <td>0.708729</td>\n",
       "    </tr>\n",
       "    <tr>\n",
       "      <th>006_age_test.csv</th>\n",
       "      <th>-1</th>\n",
       "      <td>0.678</td>\n",
       "      <td>0.672112</td>\n",
       "    </tr>\n",
       "  </tbody>\n",
       "</table>\n",
       "</div>"
      ],
      "text/plain": [
       "                               accuracy   macroF1\n",
       "eval_file        clip_seconds                    \n",
       "006_age_dev.csv  -1               0.716  0.708729\n",
       "006_age_test.csv -1               0.678  0.672112"
      ]
     },
     "execution_count": 30,
     "metadata": {},
     "output_type": "execute_result"
    }
   ],
   "source": [
    "subset = df.loc[df.output_column==\"Speaker_age_group\", [\"eval_file\", \"clip_seconds\", \"accuracy\", \"macroF1\"]].groupby([\"eval_file\", \"clip_seconds\"]).mean()\n",
    "# print(subset.to_latex())\n",
    "# print(\"\\n\\n\\n\")\n",
    "print(subset.to_markdown())\n",
    "subset"
   ]
  },
  {
   "cell_type": "code",
   "execution_count": 14,
   "metadata": {},
   "outputs": [
    {
     "data": {
      "text/plain": [
       "output_column                                            Speaker_gender\n",
       "model_name_or_path    models/facebook_wav2vec2-large-960h-lv60-self_...\n",
       "eval_file                                           001_gender_test.csv\n",
       "clip_seconds                                                          2\n",
       "y_true                [F, F, F, F, F, F, F, F, F, F, F, F, F, F, F, ...\n",
       "y_pred                [F, F, F, F, F, F, F, F, F, F, F, F, F, F, F, ...\n",
       "train_config                                                       None\n",
       "accuracy                                                         0.9935\n",
       "macroF1                                                          0.9935\n",
       "Name: 3, dtype: object"
      ]
     },
     "execution_count": 14,
     "metadata": {},
     "output_type": "execute_result"
    }
   ],
   "source": [
    "df.loc[3, :]"
   ]
  },
  {
   "cell_type": "code",
   "execution_count": 32,
   "metadata": {},
   "outputs": [
    {
     "data": {
      "image/png": "[encoded data removed]",
      "text/plain": [
       "<Figure size 288x288 with 2 Axes>"
      ]
     },
     "metadata": {
      "needs_background": "light"
     },
     "output_type": "display_data"
    }
   ],
   "source": [
    "y_true, y_pred = df.loc[3, [\"y_true\", \"y_pred\"]]\n",
    "import matplotlib.pyplot as plt\n",
    "plt.style.use(\"science no-latex\".split())\n",
    "from sklearn.metrics import ConfusionMatrixDisplay\n",
    "fi, ax = plt.subplots(figsize=(4,4))\n",
    "ConfusionMatrixDisplay.from_predictions(\n",
    "   y_true, y_pred, cmap=\"Oranges\", ax=ax, xticks_rotation=0)\n",
    "plt.title(\"Speaker gender 2s, test split\\nAccuracy: 0.9935\")\n",
    "plt.savefig(\"images/011_cm_speaker_gender_test.png\")\n",
    "plt.savefig(\"images/011_cm_speaker_gender_test.pdf\")\n",
    "plt.show()"
   ]
  },
  {
   "cell_type": "code",
   "execution_count": 16,
   "metadata": {},
   "outputs": [
    {
     "data": {
      "text/plain": [
       "output_column                                         Speaker_age_group\n",
       "model_name_or_path    models/facebook_wav2vec2-large-960h-lv60-self_...\n",
       "eval_file                                              006_age_test.csv\n",
       "clip_seconds                                                         -1\n",
       "y_true                [old, old, old, old, old, old, old, old, old, ...\n",
       "y_pred                [old, young, young, old, old, young, young, yo...\n",
       "train_config          {'model_name_or_path': 'facebook/wav2vec2-larg...\n",
       "accuracy                                                          0.678\n",
       "macroF1                                                        0.672112\n",
       "Name: 9, dtype: object"
      ]
     },
     "execution_count": 16,
     "metadata": {},
     "output_type": "execute_result"
    }
   ],
   "source": [
    "df.loc[9, :]"
   ]
  },
  {
   "cell_type": "code",
   "execution_count": 33,
   "metadata": {},
   "outputs": [
    {
     "data": {
      "image/png": "[encoded data removed]",
      "text/plain": [
       "<Figure size 288x288 with 2 Axes>"
      ]
     },
     "metadata": {
      "needs_background": "light"
     },
     "output_type": "display_data"
    }
   ],
   "source": [
    "y_true, y_pred = df.loc[9, [\"y_true\", \"y_pred\"]]\n",
    "import matplotlib.pyplot as plt\n",
    "plt.style.use(\"science no-latex\".split())\n",
    "from sklearn.metrics import ConfusionMatrixDisplay\n",
    "fi, ax = plt.subplots(figsize=(4,4))\n",
    "ConfusionMatrixDisplay.from_predictions(\n",
    "   y_true, y_pred, cmap=\"Oranges\", ax=ax, xticks_rotation=0)\n",
    "plt.title(\"Speaker age full length audio, test split\\nAccuracy: 0.678\")\n",
    "plt.savefig(\"images/011_cm_speaker_age_test.png\")\n",
    "plt.savefig(\"images/011_cm_speaker_age_test.pdf\")\n",
    "plt.show()"
   ]
  },
  {
   "cell_type": "code",
   "execution_count": 18,
   "metadata": {},
   "outputs": [],
   "source": [
    "test = pd.read_csv(df.loc[9, \"eval_file\"])\n",
    "\n",
    "test[\"y_pred\"] = df.loc[9, \"y_pred\"]\n",
    "test[\"y_true\"] = df.loc[9, \"y_true\"]\n",
    "test[\"missclassified\"] = test.y_pred != test.y_true"
   ]
  },
  {
   "cell_type": "code",
   "execution_count": 19,
   "metadata": {},
   "outputs": [
    {
     "data": {
      "image/png": "[encoded data removed]",
      "text/plain": [
       "<Figure size 504x360 with 1 Axes>"
      ]
     },
     "metadata": {
      "needs_background": "light"
     },
     "output_type": "display_data"
    }
   ],
   "source": [
    "fig, ax = plt.subplots(figsize=(7, 5))\n",
    "r = range(30, 75, 1)\n",
    "\n",
    "test.Speaker_age_at_recording.plot.hist(bins=r, ax=ax, label=\"Test split age distribution\")\n",
    "test.Speaker_age_at_recording[test.missclassified].plot.hist(bins=r, ax=ax, label=\"Missclassifications\")\n",
    "ax.vlines(49, 0, 100, linestyles=\"dashed\", label=\"Median age\")\n",
    "plt.legend()\n",
    "plt.xlabel(\"Age\")\n",
    "plt.title(\"Distribution of test age and missclassifications\")\n",
    "\n",
    "fname = \"images/011_age_missclassifications_histogram\"\n",
    "\n",
    "plt.savefig(fname+\".pdf\")\n",
    "plt.savefig(fname+\".png\")\n",
    "plt.show()\n"
   ]
  },
  {
   "cell_type": "code",
   "execution_count": 20,
   "metadata": {},
   "outputs": [
    {
     "data": {
      "image/png": "[encoded data removed]",
      "text/plain": [
       "<Figure size 504x360 with 1 Axes>"
      ]
     },
     "metadata": {
      "needs_background": "light"
     },
     "output_type": "display_data"
    }
   ],
   "source": [
    "gb = test.groupby(\"Speaker_name\").agg({\n",
    "    \"missclassified\": lambda i: sum(i) / len(i),\n",
    "    \"Speaker_age_at_recording\": \"median\"\n",
    "    })\n",
    "\n",
    "x = gb.Speaker_age_at_recording\n",
    "y = gb.missclassified\n",
    "\n",
    "\n",
    "fig, ax = plt.subplots(figsize=(7, 5))\n",
    "ax.scatter(x,y)\n",
    "ax.vlines(49, 0, 1, linestyles=\"dashed\", label=\"Median age\")\n",
    "ax.set_xlabel(\"Age\")\n",
    "plt.legend()\n",
    "ax.set_title(\"Percentage of missclassifications per speaker vs their age\")\n",
    "\n",
    "fname = \"images/011_age_missclassifications_percentages_scatter\"\n",
    "\n",
    "plt.savefig(fname+\".pdf\")\n",
    "plt.savefig(fname+\".png\")\n",
    "plt.show()\n"
   ]
  },
  {
   "cell_type": "code",
   "execution_count": 34,
   "metadata": {},
   "outputs": [
    {
     "data": {
      "text/plain": [
       "Index(['Speaker_name', 'Count', 'Speaker_age_at_recording', 'Speaker_gender',\n",
       "       'Speaker_age_group', 'path', 'y_pred', 'y_true', 'missclassified'],\n",
       "      dtype='object')"
      ]
     },
     "execution_count": 34,
     "metadata": {},
     "output_type": "execute_result"
    }
   ],
   "source": [
    "test.columns"
   ]
  },
  {
   "cell_type": "code",
   "execution_count": 22,
   "metadata": {},
   "outputs": [
    {
     "data": {
      "image/png": "[encoded data removed]",
      "text/plain": [
       "<Figure size 504x360 with 1 Axes>"
      ]
     },
     "metadata": {
      "needs_background": "light"
     },
     "output_type": "display_data"
    }
   ],
   "source": [
    "fig, ax = plt.subplots(figsize=(7, 5))\n",
    "r = range(30, 75, 1)\n",
    "\n",
    "test.Speaker_age_at_recording.plot.kde(\n",
    "    # bins=r, \n",
    "    ax=ax, \n",
    "    label=\"Test split age distribution\"\n",
    "    )\n",
    "test.Speaker_age_at_recording[test.missclassified].plot.kde(\n",
    "    # bins=r, \n",
    "    ax=ax, \n",
    "    label=\"Missclassifications\"\n",
    "    )\n",
    "ax.vlines(49, 0, 0.06, linestyles=\"dashed\", label=\"Median age\")\n",
    "plt.legend()\n",
    "plt.xlabel(\"Age\")\n",
    "plt.show()\n"
   ]
  },
  {
   "cell_type": "code",
   "execution_count": 23,
   "metadata": {},
   "outputs": [
    {
     "data": {
      "image/png": "[encoded data removed]",
      "text/plain": [
       "<Figure size 504x360 with 1 Axes>"
      ]
     },
     "metadata": {
      "needs_background": "light"
     },
     "output_type": "display_data"
    }
   ],
   "source": [
    "new_names = test.Speaker_name+\" \"+ test.Speaker_age_at_recording.astype(int).astype(str)\n",
    "gb = test.assign(Speaker_name=new_names).groupby(\"Speaker_name\").agg({\n",
    "    \"missclassified\": lambda i: sum(i) / len(i),\n",
    "    \"Speaker_age_at_recording\": \"median\"\n",
    "    }).sort_values(\"Speaker_age_at_recording\", ascending=True)\n",
    "gb\n",
    "\n",
    "x = gb.missclassified\n",
    "y = gb.index\n",
    "\n",
    "\n",
    "fig, ax = plt.subplots(figsize=(7, 5))\n",
    "\n",
    "gb.missclassified.plot.barh(ax=ax)\n",
    "\n",
    "plt.title(\"Age-sorted percentages of missclassifications\")\n",
    "\n",
    "fname = \"images/011_age_missclassifications_percentages_by_speaker_barh\"\n",
    "\n",
    "plt.savefig(fname+\".pdf\")\n",
    "plt.savefig(fname+\".png\")\n",
    "plt.show()"
   ]
  },
  {
   "cell_type": "code",
   "execution_count": null,
   "metadata": {},
   "outputs": [],
   "source": []
  }
 ],
 "metadata": {
  "interpreter": {
   "hash": "7f6f5766036ee03d059e365a942add07f79c17033585e9357ee8157d52fe6bb9"
  },
  "kernelspec": {
   "display_name": "Python 3.8.3 ('base')",
   "language": "python",
   "name": "python3"
  },
  "language_info": {
   "codemirror_mode": {
    "name": "ipython",
    "version": 3
   },
   "file_extension": ".py",
   "mimetype": "text/x-python",
   "name": "python",
   "nbconvert_exporter": "python",
   "pygments_lexer": "ipython3",
   "version": "3.8.3"
  },
  "orig_nbformat": 4
 },
 "nbformat": 4,
 "nbformat_minor": 2
}
