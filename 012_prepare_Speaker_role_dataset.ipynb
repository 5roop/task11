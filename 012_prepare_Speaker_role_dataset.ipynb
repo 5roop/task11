{
 "cells": [
  {
   "cell_type": "markdown",
   "metadata": {},
   "source": [
    "# Importing data"
   ]
  },
  {
   "cell_type": "code",
   "execution_count": 76,
   "metadata": {},
   "outputs": [
    {
     "data": {
      "text/html": [
       "<div>\n",
       "<style scoped>\n",
       "    .dataframe tbody tr th:only-of-type {\n",
       "        vertical-align: middle;\n",
       "    }\n",
       "\n",
       "    .dataframe tbody tr th {\n",
       "        vertical-align: top;\n",
       "    }\n",
       "\n",
       "    .dataframe thead th {\n",
       "        text-align: right;\n",
       "    }\n",
       "</style>\n",
       "<table border=\"1\" class=\"dataframe\">\n",
       "  <thead>\n",
       "    <tr style=\"text-align: right;\">\n",
       "      <th></th>\n",
       "      <th>path</th>\n",
       "      <th>orig_file</th>\n",
       "      <th>start</th>\n",
       "      <th>end</th>\n",
       "      <th>words</th>\n",
       "      <th>word_start_times</th>\n",
       "      <th>norm_words</th>\n",
       "      <th>norm_words_start_times</th>\n",
       "      <th>utterance_id_start</th>\n",
       "      <th>utterance_id_end</th>\n",
       "      <th>...</th>\n",
       "      <th>norm_words_edited</th>\n",
       "      <th>audio_length</th>\n",
       "      <th>Speaker_role</th>\n",
       "      <th>Speaker_type</th>\n",
       "      <th>Speaker_party</th>\n",
       "      <th>Speaker_party_name</th>\n",
       "      <th>Party_status</th>\n",
       "      <th>Speaker_name</th>\n",
       "      <th>Speaker_gender</th>\n",
       "      <th>Speaker_birth</th>\n",
       "    </tr>\n",
       "  </thead>\n",
       "  <tbody>\n",
       "    <tr>\n",
       "      <th>0</th>\n",
       "      <td>rFVDr4ghXlQ_10620.07-10632.05.wav</td>\n",
       "      <td>20 2 2020 - 1. dio, 16. sjednica, 9. saziv [rF...</td>\n",
       "      <td>10620.07</td>\n",
       "      <td>10632.05</td>\n",
       "      <td>[interpretacija,, inzistiranje, na, tim, dezin...</td>\n",
       "      <td>[0, 1.0, 1.83, 1.96, 2.22, 3.79, 4.01, 4.43, 5...</td>\n",
       "      <td>[interpretacija, inzistiranje, na, tim, dezinf...</td>\n",
       "      <td>[0, 1.0, 1.83, 1.96, 2.22, 3.79, 4.01, 4.43, 5...</td>\n",
       "      <td>ParlaMint-HR_S16.u4568</td>\n",
       "      <td>ParlaMint-HR_S16.u4568</td>\n",
       "      <td>...</td>\n",
       "      <td>NaN</td>\n",
       "      <td>11.98</td>\n",
       "      <td>Regular</td>\n",
       "      <td>MP</td>\n",
       "      <td>HDZ</td>\n",
       "      <td>Klub Hrvatske demokratske zajednice</td>\n",
       "      <td>Coalition</td>\n",
       "      <td>Tuđman, Miroslav</td>\n",
       "      <td>M</td>\n",
       "      <td>1946</td>\n",
       "    </tr>\n",
       "    <tr>\n",
       "      <th>5</th>\n",
       "      <td>NsYt6iW4zeI_7962.04-7975.62.wav</td>\n",
       "      <td>29 06 2017 - 2. dio, 4. sjednica, 9. saziv [Ns...</td>\n",
       "      <td>7962.04</td>\n",
       "      <td>7975.62</td>\n",
       "      <td>[je, nekakav, pokazatelj, razvijenosti, naših,...</td>\n",
       "      <td>[0, 0.07, 0.85, 1.78, 2.92, 3.69, 4.62, 5.5, 6...</td>\n",
       "      <td>[je, nekakav, pokazatelj, razvijenosti, naših,...</td>\n",
       "      <td>[0, 0.07, 0.85, 1.78, 2.92, 3.69, 4.62, 5.5, 6...</td>\n",
       "      <td>ParlaMint-HR_S04.u2695</td>\n",
       "      <td>ParlaMint-HR_S04.u2695</td>\n",
       "      <td>...</td>\n",
       "      <td>NaN</td>\n",
       "      <td>13.58</td>\n",
       "      <td>Regular</td>\n",
       "      <td>MP</td>\n",
       "      <td>SDP</td>\n",
       "      <td>Klub Socijaldemokratske partije Hrvatske</td>\n",
       "      <td>Opposition</td>\n",
       "      <td>Vešligaj, Marko</td>\n",
       "      <td>M</td>\n",
       "      <td>1982</td>\n",
       "    </tr>\n",
       "    <tr>\n",
       "      <th>6</th>\n",
       "      <td>LfkFqOr01h4_2136.52-2155.87.wav</td>\n",
       "      <td>1 2 2019 - 2. dio, 11. sjednica, 9. saziv [Lfk...</td>\n",
       "      <td>2136.52</td>\n",
       "      <td>2155.87</td>\n",
       "      <td>[Znači,, ovim, konačnim, prijedlogom, zakona,,...</td>\n",
       "      <td>[0, 0.42, 0.89, 1.21, 1.6, 2.04, 2.47, 2.53000...</td>\n",
       "      <td>[znači, ovim, konačnim, prijedlogom, zakona, p...</td>\n",
       "      <td>[0, 0.42, 0.89, 1.21, 1.6, 2.04, 2.47, 2.53000...</td>\n",
       "      <td>ParlaMint-HR_S11.u2482</td>\n",
       "      <td>ParlaMint-HR_S11.u2482</td>\n",
       "      <td>...</td>\n",
       "      <td>NaN</td>\n",
       "      <td>19.35</td>\n",
       "      <td>Regular</td>\n",
       "      <td>MP</td>\n",
       "      <td>HDZ</td>\n",
       "      <td>Klub Hrvatske demokratske zajednice</td>\n",
       "      <td>Coalition</td>\n",
       "      <td>Sokol, Tomislav</td>\n",
       "      <td>M</td>\n",
       "      <td>1982</td>\n",
       "    </tr>\n",
       "  </tbody>\n",
       "</table>\n",
       "<p>3 rows × 22 columns</p>\n",
       "</div>"
      ],
      "text/plain": [
       "                                path  \\\n",
       "0  rFVDr4ghXlQ_10620.07-10632.05.wav   \n",
       "5    NsYt6iW4zeI_7962.04-7975.62.wav   \n",
       "6    LfkFqOr01h4_2136.52-2155.87.wav   \n",
       "\n",
       "                                           orig_file     start       end  \\\n",
       "0  20 2 2020 - 1. dio, 16. sjednica, 9. saziv [rF...  10620.07  10632.05   \n",
       "5  29 06 2017 - 2. dio, 4. sjednica, 9. saziv [Ns...   7962.04   7975.62   \n",
       "6  1 2 2019 - 2. dio, 11. sjednica, 9. saziv [Lfk...   2136.52   2155.87   \n",
       "\n",
       "                                               words  \\\n",
       "0  [interpretacija,, inzistiranje, na, tim, dezin...   \n",
       "5  [je, nekakav, pokazatelj, razvijenosti, naših,...   \n",
       "6  [Znači,, ovim, konačnim, prijedlogom, zakona,,...   \n",
       "\n",
       "                                    word_start_times  \\\n",
       "0  [0, 1.0, 1.83, 1.96, 2.22, 3.79, 4.01, 4.43, 5...   \n",
       "5  [0, 0.07, 0.85, 1.78, 2.92, 3.69, 4.62, 5.5, 6...   \n",
       "6  [0, 0.42, 0.89, 1.21, 1.6, 2.04, 2.47, 2.53000...   \n",
       "\n",
       "                                          norm_words  \\\n",
       "0  [interpretacija, inzistiranje, na, tim, dezinf...   \n",
       "5  [je, nekakav, pokazatelj, razvijenosti, naših,...   \n",
       "6  [znači, ovim, konačnim, prijedlogom, zakona, p...   \n",
       "\n",
       "                              norm_words_start_times      utterance_id_start  \\\n",
       "0  [0, 1.0, 1.83, 1.96, 2.22, 3.79, 4.01, 4.43, 5...  ParlaMint-HR_S16.u4568   \n",
       "5  [0, 0.07, 0.85, 1.78, 2.92, 3.69, 4.62, 5.5, 6...  ParlaMint-HR_S04.u2695   \n",
       "6  [0, 0.42, 0.89, 1.21, 1.6, 2.04, 2.47, 2.53000...  ParlaMint-HR_S11.u2482   \n",
       "\n",
       "         utterance_id_end  ... norm_words_edited audio_length Speaker_role  \\\n",
       "0  ParlaMint-HR_S16.u4568  ...               NaN        11.98      Regular   \n",
       "5  ParlaMint-HR_S04.u2695  ...               NaN        13.58      Regular   \n",
       "6  ParlaMint-HR_S11.u2482  ...               NaN        19.35      Regular   \n",
       "\n",
       "   Speaker_type Speaker_party                        Speaker_party_name  \\\n",
       "0            MP           HDZ       Klub Hrvatske demokratske zajednice   \n",
       "5            MP           SDP  Klub Socijaldemokratske partije Hrvatske   \n",
       "6            MP           HDZ       Klub Hrvatske demokratske zajednice   \n",
       "\n",
       "  Party_status      Speaker_name Speaker_gender Speaker_birth  \n",
       "0    Coalition  Tuđman, Miroslav              M          1946  \n",
       "5   Opposition   Vešligaj, Marko              M          1982  \n",
       "6    Coalition   Sokol, Tomislav              M          1982  \n",
       "\n",
       "[3 rows x 22 columns]"
      ]
     },
     "execution_count": 76,
     "metadata": {},
     "output_type": "execute_result"
    }
   ],
   "source": [
    "import pandas as pd\n",
    "\n",
    "df = pd.read_json(\"ParlaSpeech-HR.v1.0.jsonl\", orient=\"records\", lines=True)\n",
    "df[\"audio_length\"] = df.end-df.start\n",
    "df = df[df.audio_length >= 8]\n",
    "df = pd.concat([df, df.speaker_info.apply(pd.Series)], axis=1)\n",
    "gb = df.groupby(\"Speaker_name\").agg(\n",
    "    {\n",
    "        \"path\": \"count\"\n",
    "    }\n",
    ")\n",
    "\n",
    "filtered_gb = gb[(gb.path >= 200) & (gb.path <= 3000)]\n",
    "df = df[df.Speaker_name.isin(filtered_gb.index.tolist())]\n",
    "df.head(3)"
   ]
  },
  {
   "cell_type": "code",
   "execution_count": 77,
   "metadata": {},
   "outputs": [
    {
     "data": {
      "text/plain": [
       "array(['Coalition', 'Opposition'], dtype=object)"
      ]
     },
     "execution_count": 77,
     "metadata": {},
     "output_type": "execute_result"
    }
   ],
   "source": [
    "# df = df.dropna()\n",
    "allowed_party_stati = [\"Coalition\", \"Opposition\"]\n",
    "\n",
    "df = df[df.Party_status.isin(allowed_party_stati)]\n",
    "df.Party_status.unique()"
   ]
  },
  {
   "cell_type": "code",
   "execution_count": 78,
   "metadata": {},
   "outputs": [
    {
     "data": {
      "text/html": [
       "<div>\n",
       "<style scoped>\n",
       "    .dataframe tbody tr th:only-of-type {\n",
       "        vertical-align: middle;\n",
       "    }\n",
       "\n",
       "    .dataframe tbody tr th {\n",
       "        vertical-align: top;\n",
       "    }\n",
       "\n",
       "    .dataframe thead th {\n",
       "        text-align: right;\n",
       "    }\n",
       "</style>\n",
       "<table border=\"1\" class=\"dataframe\">\n",
       "  <thead>\n",
       "    <tr style=\"text-align: right;\">\n",
       "      <th></th>\n",
       "      <th></th>\n",
       "      <th>path</th>\n",
       "    </tr>\n",
       "    <tr>\n",
       "      <th>Speaker_gender</th>\n",
       "      <th>Party_status</th>\n",
       "      <th></th>\n",
       "    </tr>\n",
       "  </thead>\n",
       "  <tbody>\n",
       "    <tr>\n",
       "      <th rowspan=\"2\" valign=\"top\">F</th>\n",
       "      <th>Coalition</th>\n",
       "      <td>18476</td>\n",
       "    </tr>\n",
       "    <tr>\n",
       "      <th>Opposition</th>\n",
       "      <td>6577</td>\n",
       "    </tr>\n",
       "    <tr>\n",
       "      <th rowspan=\"2\" valign=\"top\">M</th>\n",
       "      <th>Coalition</th>\n",
       "      <td>59444</td>\n",
       "    </tr>\n",
       "    <tr>\n",
       "      <th>Opposition</th>\n",
       "      <td>55854</td>\n",
       "    </tr>\n",
       "  </tbody>\n",
       "</table>\n",
       "</div>"
      ],
      "text/plain": [
       "                              path\n",
       "Speaker_gender Party_status       \n",
       "F              Coalition     18476\n",
       "               Opposition     6577\n",
       "M              Coalition     59444\n",
       "               Opposition    55854"
      ]
     },
     "execution_count": 78,
     "metadata": {},
     "output_type": "execute_result"
    }
   ],
   "source": [
    "pd.set_option(\"display.max_rows\", 300)\n",
    "\n",
    "df.groupby(\"Speaker_gender Party_status\".split()).agg({\n",
    "    \"path\": \"count\",\n",
    "})"
   ]
  },
  {
   "cell_type": "code",
   "execution_count": 79,
   "metadata": {},
   "outputs": [
    {
     "data": {
      "text/plain": [
       "set()"
      ]
     },
     "execution_count": 79,
     "metadata": {},
     "output_type": "execute_result"
    }
   ],
   "source": [
    "Opposition_speakers = df.Speaker_name[df.Party_status==\"Opposition\"].unique()\n",
    "Coalition_speakers = df.Speaker_name[df.Party_status==\"Coalition\"].unique()\n",
    "\n",
    "set(Opposition_speakers.tolist()).intersection(set(Coalition_speakers.tolist()))"
   ]
  },
  {
   "cell_type": "code",
   "execution_count": 80,
   "metadata": {},
   "outputs": [
    {
     "data": {
      "text/html": [
       "<div>\n",
       "<style scoped>\n",
       "    .dataframe tbody tr th:only-of-type {\n",
       "        vertical-align: middle;\n",
       "    }\n",
       "\n",
       "    .dataframe tbody tr th {\n",
       "        vertical-align: top;\n",
       "    }\n",
       "\n",
       "    .dataframe thead th {\n",
       "        text-align: right;\n",
       "    }\n",
       "</style>\n",
       "<table border=\"1\" class=\"dataframe\">\n",
       "  <thead>\n",
       "    <tr style=\"text-align: right;\">\n",
       "      <th></th>\n",
       "      <th></th>\n",
       "      <th>Instance Count</th>\n",
       "      <th>Number of unique speakers</th>\n",
       "    </tr>\n",
       "    <tr>\n",
       "      <th>Speaker_gender</th>\n",
       "      <th>Party_status</th>\n",
       "      <th></th>\n",
       "      <th></th>\n",
       "    </tr>\n",
       "  </thead>\n",
       "  <tbody>\n",
       "    <tr>\n",
       "      <th rowspan=\"2\" valign=\"top\">F</th>\n",
       "      <th>Coalition</th>\n",
       "      <td>18476</td>\n",
       "      <td>17</td>\n",
       "    </tr>\n",
       "    <tr>\n",
       "      <th>Opposition</th>\n",
       "      <td>6577</td>\n",
       "      <td>8</td>\n",
       "    </tr>\n",
       "    <tr>\n",
       "      <th rowspan=\"2\" valign=\"top\">M</th>\n",
       "      <th>Coalition</th>\n",
       "      <td>59444</td>\n",
       "      <td>59</td>\n",
       "    </tr>\n",
       "    <tr>\n",
       "      <th>Opposition</th>\n",
       "      <td>55854</td>\n",
       "      <td>43</td>\n",
       "    </tr>\n",
       "  </tbody>\n",
       "</table>\n",
       "</div>"
      ],
      "text/plain": [
       "                             Instance Count  Number of unique speakers\n",
       "Speaker_gender Party_status                                           \n",
       "F              Coalition              18476                         17\n",
       "               Opposition              6577                          8\n",
       "M              Coalition              59444                         59\n",
       "               Opposition             55854                         43"
      ]
     },
     "execution_count": 80,
     "metadata": {},
     "output_type": "execute_result"
    }
   ],
   "source": [
    "df.groupby(\"Speaker_gender Party_status\".split()).agg({\n",
    "    \"path\": \"count\",\n",
    "    \"Speaker_name\": lambda i: len(set(i)),\n",
    "    \n",
    "}).rename(columns={\n",
    "    \"path\": \"Instance Count\",\n",
    "    \"Speaker_name\": \"Number of unique speakers\"\n",
    "})"
   ]
  },
  {
   "cell_type": "code",
   "execution_count": 87,
   "metadata": {},
   "outputs": [
    {
     "data": {
      "text/plain": [
       "2500"
      ]
     },
     "execution_count": 87,
     "metadata": {},
     "output_type": "execute_result"
    }
   ],
   "source": [
    "25 * 2 * 50"
   ]
  },
  {
   "cell_type": "code",
   "execution_count": 82,
   "metadata": {},
   "outputs": [],
   "source": [
    "males = df[df.Speaker_gender == \"M\"]\n"
   ]
  },
  {
   "cell_type": "code",
   "execution_count": 83,
   "metadata": {},
   "outputs": [
    {
     "name": "stdout",
     "output_type": "stream",
     "text": [
      "Original gb shape:  (102, 1)\n",
      "New gb shape:  (102, 1)\n"
     ]
    }
   ],
   "source": [
    "gb = males.groupby([\"Party_status\", \"Speaker_name\"]).agg(\n",
    "    {\"path\":\"count\"}\n",
    ")\n",
    "print(\"Original gb shape: \", gb.shape)\n",
    "newgb = gb[gb.path>=50]\n",
    "print(\"New gb shape: \", newgb.shape)"
   ]
  },
  {
   "cell_type": "code",
   "execution_count": 89,
   "metadata": {},
   "outputs": [
    {
     "data": {
      "text/plain": [
       "210"
      ]
     },
     "execution_count": 89,
     "metadata": {},
     "output_type": "execute_result"
    }
   ],
   "source": [
    "newgb.path.min()"
   ]
  },
  {
   "cell_type": "code",
   "execution_count": 84,
   "metadata": {},
   "outputs": [
    {
     "data": {
      "text/html": [
       "<div>\n",
       "<style scoped>\n",
       "    .dataframe tbody tr th:only-of-type {\n",
       "        vertical-align: middle;\n",
       "    }\n",
       "\n",
       "    .dataframe tbody tr th {\n",
       "        vertical-align: top;\n",
       "    }\n",
       "\n",
       "    .dataframe thead th {\n",
       "        text-align: right;\n",
       "    }\n",
       "</style>\n",
       "<table border=\"1\" class=\"dataframe\">\n",
       "  <thead>\n",
       "    <tr style=\"text-align: right;\">\n",
       "      <th></th>\n",
       "      <th>path</th>\n",
       "    </tr>\n",
       "    <tr>\n",
       "      <th>Party_status</th>\n",
       "      <th></th>\n",
       "    </tr>\n",
       "  </thead>\n",
       "  <tbody>\n",
       "    <tr>\n",
       "      <th>Coalition</th>\n",
       "      <td>59</td>\n",
       "    </tr>\n",
       "    <tr>\n",
       "      <th>Opposition</th>\n",
       "      <td>43</td>\n",
       "    </tr>\n",
       "  </tbody>\n",
       "</table>\n",
       "</div>"
      ],
      "text/plain": [
       "              path\n",
       "Party_status      \n",
       "Coalition       59\n",
       "Opposition      43"
      ]
     },
     "execution_count": 84,
     "metadata": {},
     "output_type": "execute_result"
    }
   ],
   "source": [
    "newgb.groupby(\"Party_status\").count()"
   ]
  },
  {
   "cell_type": "code",
   "execution_count": 90,
   "metadata": {},
   "outputs": [],
   "source": [
    "test_speaker_count = 9\n",
    "dev_speaker_count = 9\n",
    "train_speaker_count = 25\n",
    "\n",
    "train_instances_per_speaker = 50\n",
    "test_instances_per_speaker = 50\n",
    "dev_instances_per_speaker = 50\n",
    "\n",
    "train_speakers = []\n",
    "dev_speakers = []\n",
    "test_speakers = []\n",
    "\n",
    "for status in [\"Opposition\", \"Coalition\"]:\n",
    "    males_with_status = males[males.Party_status == status].groupby(\"Speaker_name\").agg({\"path\": \"count\"}).sort_values(\"path\", ascending=False).index.tolist()\n",
    "    train_speakers.extend(males_with_status[0:train_speaker_count])\n",
    "    dev_speakers.extend(males_with_status[train_speaker_count:train_speaker_count+dev_speaker_count])\n",
    "    test_speakers.extend(males_with_status[train_speaker_count+dev_speaker_count:train_speaker_count+dev_speaker_count+test_speaker_count])\n"
   ]
  },
  {
   "cell_type": "code",
   "execution_count": 91,
   "metadata": {},
   "outputs": [
    {
     "data": {
      "text/plain": [
       "(18, 18, 50)"
      ]
     },
     "execution_count": 91,
     "metadata": {},
     "output_type": "execute_result"
    }
   ],
   "source": [
    "len(test_speakers), len(dev_speakers), len(train_speakers)"
   ]
  },
  {
   "cell_type": "code",
   "execution_count": 92,
   "metadata": {},
   "outputs": [],
   "source": [
    "train_paths = []\n",
    "dev_paths = []\n",
    "test_paths = []\n",
    "\n",
    "for speaker in train_speakers:\n",
    "    train_paths.extend(\n",
    "        df[df.Speaker_name==speaker].path.tolist()[0:train_instances_per_speaker]\n",
    "    )\n",
    "for speaker in test_speakers:\n",
    "    test_paths.extend(\n",
    "        df[df.Speaker_name==speaker].path.tolist()[0:test_instances_per_speaker]\n",
    "    )\n",
    "for speaker in dev_speakers:\n",
    "    dev_paths.extend(\n",
    "        df[df.Speaker_name==speaker].path.tolist()[0:dev_instances_per_speaker]\n",
    "    )"
   ]
  },
  {
   "cell_type": "code",
   "execution_count": 93,
   "metadata": {},
   "outputs": [],
   "source": [
    "test_df = df[df.path.isin(test_paths)]\n",
    "dev_df = df[df.path.isin(dev_paths)]\n",
    "train_df = df[df.path.isin(train_paths)]"
   ]
  },
  {
   "cell_type": "code",
   "execution_count": 94,
   "metadata": {},
   "outputs": [
    {
     "data": {
      "text/plain": [
       "4300"
      ]
     },
     "execution_count": 94,
     "metadata": {},
     "output_type": "execute_result"
    }
   ],
   "source": [
    "files_to_move = []\n",
    "\n",
    "for cdf in [test_df, dev_df, train_df]:\n",
    "    for path in cdf.path:\n",
    "        files_to_move.append(path)\n",
    "\n",
    "len(files_to_move)"
   ]
  },
  {
   "cell_type": "code",
   "execution_count": 95,
   "metadata": {},
   "outputs": [
    {
     "data": {
      "text/plain": [
       "(2500, 900, 900)"
      ]
     },
     "execution_count": 95,
     "metadata": {},
     "output_type": "execute_result"
    }
   ],
   "source": [
    "train_df.shape[0], test_df.shape[0], dev_df.shape[0]"
   ]
  },
  {
   "cell_type": "code",
   "execution_count": 96,
   "metadata": {},
   "outputs": [],
   "source": [
    "with open(\"012_files_to_move.txt\", \"w\") as f:\n",
    "    for line in files_to_move:\n",
    "        f.write(line+\"\\n\")\n"
   ]
  },
  {
   "cell_type": "code",
   "execution_count": 97,
   "metadata": {},
   "outputs": [
    {
     "name": "stderr",
     "output_type": "stream",
     "text": [
      "<ipython-input-97-f7415cb6114f>:2: SettingWithCopyWarning: \n",
      "A value is trying to be set on a copy of a slice from a DataFrame.\n",
      "Try using .loc[row_indexer,col_indexer] = value instead\n",
      "\n",
      "See the caveats in the documentation: https://pandas.pydata.org/pandas-docs/stable/user_guide/indexing.html#returning-a-view-versus-a-copy\n",
      "  cdf[\"path\"] = cdf.path.apply(lambda s: \"seg.\"+s)\n",
      "<ipython-input-97-f7415cb6114f>:5: SettingWithCopyWarning: \n",
      "A value is trying to be set on a copy of a slice from a DataFrame.\n",
      "Try using .loc[row_indexer,col_indexer] = value instead\n",
      "\n",
      "See the caveats in the documentation: https://pandas.pydata.org/pandas-docs/stable/user_guide/indexing.html#returning-a-view-versus-a-copy\n",
      "  cdf[\"path\"] = cdf.path.apply(lambda s: \"data_party_status/\"+s)\n"
     ]
    }
   ],
   "source": [
    "for cdf in [test_df, dev_df, train_df]:\n",
    "    cdf[\"path\"] = cdf.path.apply(lambda s: \"seg.\"+s)\n",
    "\n",
    "for cdf in [test_df, dev_df, train_df]:\n",
    "    cdf[\"path\"] = cdf.path.apply(lambda s: \"data_party_status/\"+s)"
   ]
  },
  {
   "cell_type": "code",
   "execution_count": 98,
   "metadata": {},
   "outputs": [],
   "source": [
    "test_df.loc[:, [\"path\", \"Party_status\"]].to_csv(\"012_test.csv\", index=False)\n",
    "dev_df.loc[:, [\"path\", \"Party_status\"]].to_csv(\"012_dev.csv\", index=False)\n",
    "train_df.loc[:, [\"path\", \"Party_status\"]].to_csv(\"012_train.csv\", index=False)"
   ]
  },
  {
   "cell_type": "code",
   "execution_count": null,
   "metadata": {},
   "outputs": [],
   "source": []
  }
 ],
 "metadata": {
  "interpreter": {
   "hash": "7f6f5766036ee03d059e365a942add07f79c17033585e9357ee8157d52fe6bb9"
  },
  "kernelspec": {
   "display_name": "Python 3.8.3 ('base')",
   "language": "python",
   "name": "python3"
  },
  "language_info": {
   "codemirror_mode": {
    "name": "ipython",
    "version": 3
   },
   "file_extension": ".py",
   "mimetype": "text/x-python",
   "name": "python",
   "nbconvert_exporter": "python",
   "pygments_lexer": "ipython3",
   "version": "3.8.3"
  },
  "orig_nbformat": 4
 },
 "nbformat": 4,
 "nbformat_minor": 2
}
